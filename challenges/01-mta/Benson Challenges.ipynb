{
 "cells": [
  {
   "cell_type": "markdown",
   "metadata": {},
   "source": [
    "## Challenge 1"
   ]
  },
  {
   "cell_type": "code",
   "execution_count": 1,
   "metadata": {
    "collapsed": true
   },
   "outputs": [],
   "source": [
    "import datetime\n",
    "import csv\n",
    "from collections import defaultdict\n",
    "from pprint import pprint\n",
    "import dateutil.parser\n",
    "import datetime\n"
   ]
  },
  {
   "cell_type": "code",
   "execution_count": 7,
   "metadata": {
    "collapsed": false
   },
   "outputs": [],
   "source": [
    "#we are interested in all of May 2016 and the first two weeks of June\n",
    "#However it is extremely important that we select the \"correct\" dates\n",
    "#according to the MTA URL\n",
    "start_date = datetime.date(2016,5,7)\n",
    "end_date = datetime.date(2016,6,11)\n",
    "link_prefix = \"http://web.mta.info/developers/data/nyct/turnstile/turnstile_\"\n",
    "urls = []\n",
    "\n",
    "#it's important to use datetime objects and not just enter the dates as strings\n",
    "#so that we can perform timedelta\n",
    "def date_format(date):\n",
    "    return date.strftime(\"%y%m%d\")\n",
    "\n",
    "this_date = start_date\n",
    "while this_date <= end_date:\n",
    "    urls.append(link_prefix + date_format(this_date) + \".txt\")\n",
    "    this_date += datetime.timedelta(days=7)\n"
   ]
  },
  {
   "cell_type": "code",
   "execution_count": 3,
   "metadata": {
    "collapsed": false
   },
   "outputs": [
    {
     "name": "stdout",
     "output_type": "stream",
     "text": [
      "--2017-01-23 18:09:40--  http://web.mta.info/developers/data/nyct/turnstile/turnstile_160507.txtb\n",
      "Resolving web.mta.info (web.mta.info)... failed: Temporary failure in name resolution.\n",
      "wget: unable to resolve host address ‘web.mta.info’\n",
      "--2017-01-23 18:09:40--  http://web.mta.info/developers/data/nyct/turnstile/turnstile_160514.txtb\n",
      "Resolving web.mta.info (web.mta.info)... failed: Temporary failure in name resolution.\n",
      "wget: unable to resolve host address ‘web.mta.info’\n",
      "--2017-01-23 18:09:41--  http://web.mta.info/developers/data/nyct/turnstile/turnstile_160521.txtb\n",
      "Resolving web.mta.info (web.mta.info)... failed: Temporary failure in name resolution.\n",
      "wget: unable to resolve host address ‘web.mta.info’\n",
      "--2017-01-23 18:09:41--  http://web.mta.info/developers/data/nyct/turnstile/turnstile_160528.txtb\n",
      "Resolving web.mta.info (web.mta.info)... failed: Temporary failure in name resolution.\n",
      "wget: unable to resolve host address ‘web.mta.info’\n",
      "--2017-01-23 18:09:41--  http://web.mta.info/developers/data/nyct/turnstile/turnstile_160604.txtb\n",
      "Resolving web.mta.info (web.mta.info)... failed: Temporary failure in name resolution.\n",
      "wget: unable to resolve host address ‘web.mta.info’\n",
      "--2017-01-23 18:09:41--  http://web.mta.info/developers/data/nyct/turnstile/turnstile_160611.txtb\n",
      "Resolving web.mta.info (web.mta.info)... failed: Temporary failure in name resolution.\n",
      "wget: unable to resolve host address ‘web.mta.info’\n"
     ]
    }
   ],
   "source": [
    "#run bash cmd to wget and download files to current dir\n",
    "for f in urls:\n",
    "    !wget {f}b"
   ]
  },
  {
   "cell_type": "code",
   "execution_count": 11,
   "metadata": {
    "collapsed": false
   },
   "outputs": [],
   "source": [
    "#store the files for reference\n",
    "files = !ls | grep may_2.txt\n",
    "working_file = files[0]"
   ]
  },
  {
   "cell_type": "code",
   "execution_count": 12,
   "metadata": {
    "collapsed": false
   },
   "outputs": [
    {
     "name": "stdout",
     "output_type": "stream",
     "text": [
      "{('E014', 'R374', '00-00-01', 'BAY PKWY'): ['D',\n",
      "                                            'BMT',\n",
      "                                            '05/13/2016',\n",
      "                                            '21:00:00',\n",
      "                                            'REGULAR',\n",
      "                                            '0001201305',\n",
      "                                            '0001319889                                               '],\n",
      " ('N184', 'R416', '00-00-00', 'BEACH 90 ST'): ['AS',\n",
      "                                               'IND',\n",
      "                                               '05/13/2016',\n",
      "                                               '21:00:00',\n",
      "                                               'REGULAR',\n",
      "                                               '0002712307',\n",
      "                                               '0001816999                                           '],\n",
      " ('N501A', 'R020', '02-00-00', '47-50 STS ROCK'): ['BDFM',\n",
      "                                                   'IND',\n",
      "                                                   '05/13/2016',\n",
      "                                                   '20:00:00',\n",
      "                                                   'REGULAR',\n",
      "                                                   '0008713165',\n",
      "                                                   '0008870368                                     '],\n",
      " ('PTH01', 'R549', '00-00-0A', 'NEWARK HW BMEBE'): ['1',\n",
      "                                                    'PTH',\n",
      "                                                    '05/13/2016',\n",
      "                                                    '23:54:13',\n",
      "                                                    'REGULAR',\n",
      "                                                    '0000640138',\n",
      "                                                    '0000077101                                       '],\n",
      " ('R203A', 'R043', '01-06-00', 'WALL ST'): ['45',\n",
      "                                            'IRT',\n",
      "                                            '05/13/2016',\n",
      "                                            '22:00:00',\n",
      "                                            'REGULAR',\n",
      "                                            '0168106830',\n",
      "                                            '0000154942                                              ']}\n"
     ]
    }
   ],
   "source": [
    "#make a dictionary with the first four columns as keys\n",
    "reader_file = csv.reader(open(working_file, 'r'))\n",
    "next(reader_file)\n",
    "\n",
    "#create a function that accepts a csvreader obj and returns a dictionary\n",
    "#key is the first 4 columns, value is the rest\n",
    "def build_dictionary(reader):\n",
    "    dictionary = defaultdict(list)\n",
    "    for row in reader:\n",
    "        key = (row[0], row[1], row[2], row[3])\n",
    "        value = [row[4], row[5], row[6], row[7], row[8], row[9], row[10]]\n",
    "        dictionary[key] = value\n",
    "    return dictionary\n",
    "\n",
    "data = build_dictionary(reader_file)\n",
    "keys = list(data.keys()) #python 3 returns 'views' for d.keys(), so we have to store as a list to iterate\n",
    "pprint ({k: data[k] for k in keys[:5]})"
   ]
  },
  {
   "cell_type": "markdown",
   "metadata": {},
   "source": [
    "## Challenge 2"
   ]
  },
  {
   "cell_type": "code",
   "execution_count": null,
   "metadata": {
    "collapsed": true
   },
   "outputs": [],
   "source": [
    "#make a dictionary with the first four columns as keys\n",
    "reader_file = csv.reader(open(working_file, 'r'))\n",
    "next(reader_file)\n",
    "\n",
    "def build_timeseries(reader):\n",
    "    dictionary = defaultdict(list)\n",
    "    for row in reader:\n",
    "        key = (row[0], row[1], row[2], row[3])\n",
    "        string = row[6]+' '+row[7] #store the date as a string\n",
    "        date = dateutil.parser.parse(string)\n",
    "        num_entries = int(row[9]) #store number of entries\n",
    "        value = [date, num_entries]\n",
    "        dictionary[key] = value\n",
    "    return dictionary\n",
    "\n",
    "time_series = build_timeseries(reader_file)\n",
    "time_series_keys = list(time_series.keys())\n",
    "pprint ({k: time_series[k] for k in time_series_keys[:5]})\n",
    "\n"
   ]
  },
  {
   "cell_type": "code",
   "execution_count": null,
   "metadata": {
    "collapsed": true
   },
   "outputs": [],
   "source": []
  }
 ],
 "metadata": {
  "anaconda-cloud": {},
  "kernelspec": {
   "display_name": "Python [conda root]",
   "language": "python",
   "name": "conda-root-py"
  },
  "language_info": {
   "codemirror_mode": {
    "name": "ipython",
    "version": 3
   },
   "file_extension": ".py",
   "mimetype": "text/x-python",
   "name": "python",
   "nbconvert_exporter": "python",
   "pygments_lexer": "ipython3",
   "version": "3.5.2"
  }
 },
 "nbformat": 4,
 "nbformat_minor": 2
}
