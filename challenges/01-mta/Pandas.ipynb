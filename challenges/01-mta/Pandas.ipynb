{
 "cells": [
  {
   "cell_type": "code",
   "execution_count": 10,
   "metadata": {
    "collapsed": true,
    "nbpresent": {
     "id": "c486ed48-c3e5-45e5-8a59-174f22704a3b"
    }
   },
   "outputs": [],
   "source": [
    "import pandas as pd\n",
    "import numpy as np\n",
    "import matplotlib.pyplot as plt\n",
    "import seaborn as sns\n",
    "%matplotlib inline"
   ]
  },
  {
   "cell_type": "code",
   "execution_count": 11,
   "metadata": {
    "collapsed": true,
    "nbpresent": {
     "id": "e39ec74a-04eb-46e1-8b98-def4b65ace9a"
    }
   },
   "outputs": [],
   "source": [
    "#store the files for reference\n",
    "files = !ls | grep turnstile.*txt\n",
    "working_file = files[0]\n",
    "census_raw = 'ACS_15_5YR_S1901_with_ann.csv'"
   ]
  },
  {
   "cell_type": "code",
   "execution_count": 12,
   "metadata": {
    "collapsed": false,
    "nbpresent": {
     "id": "1938dd98-e395-479c-a617-d514071153e9"
    }
   },
   "outputs": [],
   "source": [
    "df = pd.read_csv(working_file)\n",
    "df.rename(columns = {\n",
    "    'C/A': 'area',\n",
    "    'UNIT': 'unit',\n",
    "    'SCP': 'scp',\n",
    "    'STATION': 'station',\n",
    "    'LINENAME': 'linename',\n",
    "    'DIVISION': 'division',\n",
    "    'DATE': 'date',\n",
    "    'TIME': 'time',\n",
    "    'DESC': 'desc',\n",
    "    'ENTRIES': 'entries',\n",
    "    'EXITS                                                               ': 'exits'},\n",
    "    inplace = True)\n",
    "# group = df.groupby(['area','unit', 'scp', 'station', 'date', 'time', 'entries', 'exits'])\n",
    "# date = pd.DataFrame(group.size().reset_index())\n",
    "# del date[0]\n",
    "# date = date.sort_values(by='date').groupby(['station'])\n",
    "\n",
    "\n",
    "# date['entries'] = date['entries'] - date['entries'].shift()\n",
    "# date['exits'] = date['exits'] - date['exits'].shift()\n",
    "# date['daily'] = date['entries']- date['exits']\n",
    "# date = date[date.time == '20:00:00']\n",
    "\n",
    "\n",
    "df['hourly'] = df.groupby(['area','unit','scp','station'])['entries'].diff()\n",
    "df['hourly'].fillna(0, inplace=True)"
   ]
  },
  {
   "cell_type": "code",
   "execution_count": 13,
   "metadata": {
    "collapsed": false,
    "nbpresent": {
     "id": "d9e8c00a-34f3-44ba-8f10-669d3e6c8479"
    }
   },
   "outputs": [
    {
     "data": {
      "text/html": [
       "<div>\n",
       "<table border=\"1\" class=\"dataframe\">\n",
       "  <thead>\n",
       "    <tr style=\"text-align: right;\">\n",
       "      <th></th>\n",
       "      <th>area</th>\n",
       "      <th>unit</th>\n",
       "      <th>scp</th>\n",
       "      <th>station</th>\n",
       "      <th>linename</th>\n",
       "      <th>division</th>\n",
       "      <th>date</th>\n",
       "      <th>time</th>\n",
       "      <th>desc</th>\n",
       "      <th>entries</th>\n",
       "      <th>exits</th>\n",
       "      <th>hourly</th>\n",
       "    </tr>\n",
       "  </thead>\n",
       "  <tbody>\n",
       "  </tbody>\n",
       "</table>\n",
       "</div>"
      ],
      "text/plain": [
       "Empty DataFrame\n",
       "Columns: [area, unit, scp, station, linename, division, date, time, desc, entries, exits, hourly]\n",
       "Index: []"
      ]
     },
     "execution_count": 13,
     "metadata": {},
     "output_type": "execute_result"
    }
   ],
   "source": [
    "#set all negative hourly entries to absolute value\n",
    "df.loc[df['hourly'] < 0, 'hourly'] = abs(df['hourly'])\n",
    "df[df['hourly'] < 0]"
   ]
  },
  {
   "cell_type": "code",
   "execution_count": 14,
   "metadata": {
    "collapsed": false,
    "nbpresent": {
     "id": "065aca0f-4428-4a58-a850-6b380646da99"
    }
   },
   "outputs": [
    {
     "data": {
      "text/plain": [
       "count    1.944660e+05\n",
       "mean     2.534253e+04\n",
       "std      6.250360e+06\n",
       "min      0.000000e+00\n",
       "1%       0.000000e+00\n",
       "50%      7.500000e+01\n",
       "99.9%    2.117745e+03\n",
       "max      1.961790e+09\n",
       "Name: hourly, dtype: float64"
      ]
     },
     "execution_count": 14,
     "metadata": {},
     "output_type": "execute_result"
    }
   ],
   "source": [
    "df['hourly'].describe(percentiles=[0.01, 0.999])"
   ]
  },
  {
   "cell_type": "code",
   "execution_count": 15,
   "metadata": {
    "collapsed": true,
    "nbpresent": {
     "id": "b1e69a60-3895-481d-be1b-0cb1edebdb58"
    }
   },
   "outputs": [],
   "source": [
    "df['good'] = df['hourly'] <= 5000"
   ]
  },
  {
   "cell_type": "code",
   "execution_count": 16,
   "metadata": {
    "collapsed": true,
    "nbpresent": {
     "id": "de049c87-a4c4-4197-bafb-822c0d43e663"
    }
   },
   "outputs": [],
   "source": [
    "group = df[df['good']==True].groupby(['station', 'date'])['hourly'].sum()"
   ]
  },
  {
   "cell_type": "code",
   "execution_count": 25,
   "metadata": {
    "collapsed": false,
    "nbpresent": {
     "id": "33fdc21e-28d4-45d3-bb4f-a96a928bd534"
    }
   },
   "outputs": [],
   "source": [
    "#import census file and call columns for household income and zip code\n",
    "census_df = pd.read_csv(census_raw)\n",
    "census_df = census_df[['GEO.display-label', 'HC01_EST_VC09', 'HC04_EST_VC10','HC01_EST_VC11']]\n",
    "census_df = census_df.drop(0).reset_index(drop=True)"
   ]
  },
  {
   "cell_type": "code",
   "execution_count": 28,
   "metadata": {
    "collapsed": false,
    "nbpresent": {
     "id": "51566637-bc85-451a-90e1-680806a0fc90"
    }
   },
   "outputs": [],
   "source": [
    "census_df.rename(columns = { 'GEO.display-label': 'zip',\n",
    "                           'HC01_EST_VC09': '100_149',\n",
    "                           'HC04_EST_VC10': '150_199',\n",
    "                           'HC01_EST_VC11': '200_over'},\n",
    "                            inplace=True)"
   ]
  },
  {
   "cell_type": "code",
   "execution_count": 31,
   "metadata": {
    "collapsed": false,
    "nbpresent": {
     "id": "3af03bae-5795-47cd-b38f-7c7b466dc2c6"
    }
   },
   "outputs": [
    {
     "data": {
      "text/html": [
       "<div>\n",
       "<table border=\"1\" class=\"dataframe\">\n",
       "  <thead>\n",
       "    <tr style=\"text-align: right;\">\n",
       "      <th></th>\n",
       "      <th>zip</th>\n",
       "      <th>100_149</th>\n",
       "      <th>150_199</th>\n",
       "      <th>200_over</th>\n",
       "    </tr>\n",
       "  </thead>\n",
       "  <tbody>\n",
       "    <tr>\n",
       "      <th>0</th>\n",
       "      <td>10001</td>\n",
       "      <td>13.2</td>\n",
       "      <td>10.3</td>\n",
       "      <td>22.1</td>\n",
       "    </tr>\n",
       "    <tr>\n",
       "      <th>1</th>\n",
       "      <td>10002</td>\n",
       "      <td>8.5</td>\n",
       "      <td>3.9</td>\n",
       "      <td>5.9</td>\n",
       "    </tr>\n",
       "    <tr>\n",
       "      <th>2</th>\n",
       "      <td>10003</td>\n",
       "      <td>15.2</td>\n",
       "      <td>10.9</td>\n",
       "      <td>22.5</td>\n",
       "    </tr>\n",
       "    <tr>\n",
       "      <th>3</th>\n",
       "      <td>10004</td>\n",
       "      <td>22.0</td>\n",
       "      <td>12.8</td>\n",
       "      <td>28.0</td>\n",
       "    </tr>\n",
       "    <tr>\n",
       "      <th>4</th>\n",
       "      <td>10005</td>\n",
       "      <td>24.6</td>\n",
       "      <td>12.9</td>\n",
       "      <td>27.4</td>\n",
       "    </tr>\n",
       "  </tbody>\n",
       "</table>\n",
       "</div>"
      ],
      "text/plain": [
       "     zip 100_149 150_199 200_over\n",
       "0  10001    13.2    10.3     22.1\n",
       "1  10002     8.5     3.9      5.9\n",
       "2  10003    15.2    10.9     22.5\n",
       "3  10004    22.0    12.8     28.0\n",
       "4  10005    24.6    12.9     27.4"
      ]
     },
     "execution_count": 31,
     "metadata": {},
     "output_type": "execute_result"
    }
   ],
   "source": [
    "census_df['zip'] = census_df['zip'].map(lambda x : str(x)[-5:])\n",
    "census_df.head()"
   ]
  },
  {
   "cell_type": "code",
   "execution_count": null,
   "metadata": {
    "collapsed": true,
    "nbpresent": {
     "id": "b6dcbf5a-e15b-4ad0-800f-777926f2eb2e"
    }
   },
   "outputs": [],
   "source": []
  }
 ],
 "metadata": {
  "anaconda-cloud": {},
  "kernelspec": {
   "display_name": "Python [conda root]",
   "language": "python",
   "name": "conda-root-py"
  },
  "language_info": {
   "codemirror_mode": {
    "name": "ipython",
    "version": 3
   },
   "file_extension": ".py",
   "mimetype": "text/x-python",
   "name": "python",
   "nbconvert_exporter": "python",
   "pygments_lexer": "ipython3",
   "version": "3.5.2"
  },
  "nbpresent": {
   "slides": {
    "02371672-278d-4465-af3f-a31ba4272907": {
     "id": "02371672-278d-4465-af3f-a31ba4272907",
     "prev": "86a841fc-fb27-417a-943f-e3eeea4776b4",
     "regions": {
      "a95f8072-a317-45b3-b051-4fd560f51727": {
       "attrs": {
        "height": 0.8,
        "width": 0.8,
        "x": 0.1,
        "y": 0.1
       },
       "content": {
        "cell": "b6dcbf5a-e15b-4ad0-800f-777926f2eb2e",
        "part": "whole"
       },
       "id": "a95f8072-a317-45b3-b051-4fd560f51727"
      }
     }
    },
    "0b0d0419-5527-40ee-914e-75c34b9f00fb": {
     "id": "0b0d0419-5527-40ee-914e-75c34b9f00fb",
     "prev": "e17e0d29-46d5-48e4-b785-bc719125a14a",
     "regions": {
      "3a4b1e25-5981-494e-ab08-46990ae7d320": {
       "attrs": {
        "height": 0.8,
        "width": 0.8,
        "x": 0.1,
        "y": 0.1
       },
       "content": {
        "cell": "1938dd98-e395-479c-a617-d514071153e9",
        "part": "whole"
       },
       "id": "3a4b1e25-5981-494e-ab08-46990ae7d320"
      }
     }
    },
    "2a623150-0217-44c1-96df-20ed830eafbb": {
     "id": "2a623150-0217-44c1-96df-20ed830eafbb",
     "layout": "treemap",
     "prev": null,
     "regions": {
      "6e3c4908-315e-4e10-b450-723af8cc5104": {
       "attrs": {
        "height": 1,
        "pad": 0.01,
        "treemap:weight": 1,
        "width": 0.5,
        "x": 0,
        "y": 0
       },
       "id": "6e3c4908-315e-4e10-b450-723af8cc5104"
      },
      "ff721617-5c5b-4190-adfb-66aed3ca611d": {
       "attrs": {
        "height": 1,
        "pad": 0.01,
        "treemap:weight": 1,
        "width": 0.5,
        "x": 0.5,
        "y": 0
       },
       "content": {
        "cell": "c486ed48-c3e5-45e5-8a59-174f22704a3b",
        "part": "whole"
       },
       "id": "ff721617-5c5b-4190-adfb-66aed3ca611d"
      }
     },
     "theme": null
    },
    "3d153487-ce0c-46b2-bdb0-1c6d94433daa": {
     "id": "3d153487-ce0c-46b2-bdb0-1c6d94433daa",
     "prev": "e2e83985-d5b9-4c5a-9865-2120f6190ab9",
     "regions": {
      "c9ecb911-33fe-4d55-be68-e399e1bf0907": {
       "attrs": {
        "height": 0.8,
        "width": 0.8,
        "x": 0.1,
        "y": 0.1
       },
       "content": {
        "cell": "33fdc21e-28d4-45d3-bb4f-a96a928bd534",
        "part": "whole"
       },
       "id": "c9ecb911-33fe-4d55-be68-e399e1bf0907"
      }
     }
    },
    "86a841fc-fb27-417a-943f-e3eeea4776b4": {
     "id": "86a841fc-fb27-417a-943f-e3eeea4776b4",
     "prev": "a96c476d-1e65-449a-b294-9ee20c54ace9",
     "regions": {
      "8d0dd1ef-f178-473f-bcf3-98d7779a0866": {
       "attrs": {
        "height": 0.8,
        "width": 0.8,
        "x": 0.1,
        "y": 0.1
       },
       "content": {
        "cell": "3af03bae-5795-47cd-b38f-7c7b466dc2c6",
        "part": "whole"
       },
       "id": "8d0dd1ef-f178-473f-bcf3-98d7779a0866"
      }
     }
    },
    "87cea214-0881-447a-a86c-5616ebb6de60": {
     "id": "87cea214-0881-447a-a86c-5616ebb6de60",
     "prev": "951bfe06-4a7b-43b3-ac18-43706d4d5dfd",
     "regions": {
      "cc8a9314-12cd-4690-9407-502f99bc5219": {
       "attrs": {
        "height": 0.8,
        "width": 0.8,
        "x": 0.1,
        "y": 0.1
       },
       "content": {
        "cell": "b1e69a60-3895-481d-be1b-0cb1edebdb58",
        "part": "whole"
       },
       "id": "cc8a9314-12cd-4690-9407-502f99bc5219"
      }
     }
    },
    "951bfe06-4a7b-43b3-ac18-43706d4d5dfd": {
     "id": "951bfe06-4a7b-43b3-ac18-43706d4d5dfd",
     "prev": "d79aecfa-ed75-4a1d-8de6-e3faccabc054",
     "regions": {
      "77672b7f-e886-489b-850c-644b4189d467": {
       "attrs": {
        "height": 0.8,
        "width": 0.8,
        "x": 0.1,
        "y": 0.1
       },
       "content": {
        "cell": "065aca0f-4428-4a58-a850-6b380646da99",
        "part": "whole"
       },
       "id": "77672b7f-e886-489b-850c-644b4189d467"
      }
     }
    },
    "a96c476d-1e65-449a-b294-9ee20c54ace9": {
     "id": "a96c476d-1e65-449a-b294-9ee20c54ace9",
     "prev": "3d153487-ce0c-46b2-bdb0-1c6d94433daa",
     "regions": {
      "16c0fc4f-59f5-4d59-8e94-6db5922109c4": {
       "attrs": {
        "height": 0.8,
        "width": 0.8,
        "x": 0.1,
        "y": 0.1
       },
       "content": {
        "cell": "51566637-bc85-451a-90e1-680806a0fc90",
        "part": "whole"
       },
       "id": "16c0fc4f-59f5-4d59-8e94-6db5922109c4"
      }
     }
    },
    "d79aecfa-ed75-4a1d-8de6-e3faccabc054": {
     "id": "d79aecfa-ed75-4a1d-8de6-e3faccabc054",
     "prev": "0b0d0419-5527-40ee-914e-75c34b9f00fb",
     "regions": {
      "9067f78c-eb16-43e3-a4e0-51597b03093e": {
       "attrs": {
        "height": 0.8,
        "width": 0.8,
        "x": 0.1,
        "y": 0.1
       },
       "content": {
        "cell": "d9e8c00a-34f3-44ba-8f10-669d3e6c8479",
        "part": "whole"
       },
       "id": "9067f78c-eb16-43e3-a4e0-51597b03093e"
      }
     }
    },
    "e17e0d29-46d5-48e4-b785-bc719125a14a": {
     "id": "e17e0d29-46d5-48e4-b785-bc719125a14a",
     "prev": "2a623150-0217-44c1-96df-20ed830eafbb",
     "regions": {
      "32cc2934-0266-42b8-a8d2-01fbdee2c933": {
       "attrs": {
        "height": 0.8,
        "width": 0.8,
        "x": 0.1,
        "y": 0.1
       },
       "content": {
        "cell": "e39ec74a-04eb-46e1-8b98-def4b65ace9a",
        "part": "whole"
       },
       "id": "32cc2934-0266-42b8-a8d2-01fbdee2c933"
      }
     }
    },
    "e2e83985-d5b9-4c5a-9865-2120f6190ab9": {
     "id": "e2e83985-d5b9-4c5a-9865-2120f6190ab9",
     "prev": "87cea214-0881-447a-a86c-5616ebb6de60",
     "regions": {
      "9a5f6609-73cc-4632-b5ed-368e78df1041": {
       "attrs": {
        "height": 0.8,
        "width": 0.8,
        "x": 0.1,
        "y": 0.1
       },
       "content": {
        "cell": "de049c87-a4c4-4197-bafb-822c0d43e663",
        "part": "whole"
       },
       "id": "9a5f6609-73cc-4632-b5ed-368e78df1041"
      }
     }
    }
   },
   "themes": {
    "default": "103520a2-c5b1-428b-8463-ae84ca6acaed",
    "theme": {
     "103520a2-c5b1-428b-8463-ae84ca6acaed": {
      "backgrounds": {
       "backgroundColor": {
        "background-color": "backgroundColor",
        "id": "backgroundColor"
       }
      },
      "id": "103520a2-c5b1-428b-8463-ae84ca6acaed",
      "palette": {
       "backgroundColor": {
        "id": "backgroundColor",
        "rgb": [
         17,
         17,
         17
        ]
       },
       "headingColor": {
        "id": "headingColor",
        "rgb": [
         238,
         238,
         238
        ]
       },
       "linkColor": {
        "id": "linkColor",
        "rgb": [
         231,
         173,
         82
        ]
       },
       "mainColor": {
        "id": "mainColor",
        "rgb": [
         238,
         238,
         238
        ]
       }
      },
      "rules": {
       "a": {
        "color": "linkColor"
       },
       "h1": {
        "color": "headingColor",
        "font-family": "Montserrat",
        "font-size": 7
       },
       "h2": {
        "color": "headingColor",
        "font-family": "Montserrat",
        "font-size": 5
       },
       "h3": {
        "color": "headingColor",
        "font-family": "Montserrat",
        "font-size": 3.75
       },
       "h4": {
        "color": "headingColor",
        "font-family": "Montserrat",
        "font-size": 3
       },
       "h5": {
        "color": "headingColor",
        "font-family": "Montserrat"
       },
       "h6": {
        "color": "headingColor",
        "font-family": "Montserrat"
       },
       "h7": {
        "color": "headingColor",
        "font-family": "Montserrat"
       },
       "li": {
        "color": "mainColor",
        "font-family": "Open Sans",
        "font-size": 4
       },
       "p": {
        "color": "mainColor",
        "font-family": "Open Sans",
        "font-size": 4
       }
      },
      "text-base": {
       "color": "mainColor",
       "font-family": "Open Sans",
       "font-size": 4
      }
     },
     "ecbb70f8-f91a-474b-8807-5dc73ae1b875": {
      "backgrounds": {
       "dc7afa04-bf90-40b1-82a5-726e3cff5267": {
        "background-color": "31af15d2-7e15-44c5-ab5e-e04b16a89eff",
        "id": "dc7afa04-bf90-40b1-82a5-726e3cff5267"
       }
      },
      "id": "ecbb70f8-f91a-474b-8807-5dc73ae1b875",
      "palette": {
       "19cc588f-0593-49c9-9f4b-e4d7cc113b1c": {
        "id": "19cc588f-0593-49c9-9f4b-e4d7cc113b1c",
        "rgb": [
         252,
         252,
         252
        ]
       },
       "31af15d2-7e15-44c5-ab5e-e04b16a89eff": {
        "id": "31af15d2-7e15-44c5-ab5e-e04b16a89eff",
        "rgb": [
         68,
         68,
         68
        ]
       },
       "50f92c45-a630-455b-aec3-788680ec7410": {
        "id": "50f92c45-a630-455b-aec3-788680ec7410",
        "rgb": [
         197,
         226,
         245
        ]
       },
       "c5cc3653-2ee1-402a-aba2-7caae1da4f6c": {
        "id": "c5cc3653-2ee1-402a-aba2-7caae1da4f6c",
        "rgb": [
         43,
         126,
         184
        ]
       },
       "efa7f048-9acb-414c-8b04-a26811511a21": {
        "id": "efa7f048-9acb-414c-8b04-a26811511a21",
        "rgb": [
         25.118061674008803,
         73.60176211453744,
         107.4819383259912
        ]
       }
      },
      "rules": {
       "a": {
        "color": "19cc588f-0593-49c9-9f4b-e4d7cc113b1c"
       },
       "blockquote": {
        "color": "50f92c45-a630-455b-aec3-788680ec7410",
        "font-size": 3
       },
       "code": {
        "font-family": "Anonymous Pro"
       },
       "h1": {
        "color": "19cc588f-0593-49c9-9f4b-e4d7cc113b1c",
        "font-family": "Merriweather",
        "font-size": 8
       },
       "h2": {
        "color": "19cc588f-0593-49c9-9f4b-e4d7cc113b1c",
        "font-family": "Merriweather",
        "font-size": 6
       },
       "h3": {
        "color": "50f92c45-a630-455b-aec3-788680ec7410",
        "font-family": "Lato",
        "font-size": 5.5
       },
       "h4": {
        "color": "c5cc3653-2ee1-402a-aba2-7caae1da4f6c",
        "font-family": "Lato",
        "font-size": 5
       },
       "h5": {
        "font-family": "Lato"
       },
       "h6": {
        "font-family": "Lato"
       },
       "h7": {
        "font-family": "Lato"
       },
       "li": {
        "color": "50f92c45-a630-455b-aec3-788680ec7410",
        "font-size": 3.25
       },
       "pre": {
        "font-family": "Anonymous Pro",
        "font-size": 4
       }
      },
      "text-base": {
       "color": "19cc588f-0593-49c9-9f4b-e4d7cc113b1c",
       "font-family": "Lato",
       "font-size": 4
      }
     }
    }
   }
  }
 },
 "nbformat": 4,
 "nbformat_minor": 2
}
