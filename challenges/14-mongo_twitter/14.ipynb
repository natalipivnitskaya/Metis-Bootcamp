{
 "cells": [
  {
   "cell_type": "markdown",
   "metadata": {
    "deletable": true,
    "editable": true
   },
   "source": [
    "### MongoDB Challenges\n",
    "\n",
    "##### Setup\n",
    "\n",
    "Make sure that mongodb is setup and the database server (`mongod`) is running.\n",
    "\n",
    "We are going to work with reviews of Heavy Metal movies. Hellz Yeah.\n",
    "Unzip and unpickle the following file:\n",
    "\n",
    "[heavy_metal_parsed.pkl.zip](heavy_metal_parsed.pkl.zip)"
   ]
  },
  {
   "cell_type": "code",
   "execution_count": 2,
   "metadata": {
    "collapsed": false,
    "deletable": true,
    "editable": true
   },
   "outputs": [],
   "source": [
    "import matplotlib.pyplot as plt\n",
    "import numpy as np\n",
    "import operator"
   ]
  },
  {
   "cell_type": "code",
   "execution_count": 1,
   "metadata": {
    "collapsed": true,
    "deletable": true,
    "editable": true
   },
   "outputs": [],
   "source": [
    "import pickle\n",
    "with open(\"heavy_metal_parsed.pkl\", 'rb') as datafile:\n",
    "    heavy_metal_reviews = pickle.load(datafile)"
   ]
  },
  {
   "cell_type": "markdown",
   "metadata": {
    "deletable": true,
    "editable": true
   },
   "source": [
    "It's a list of dictionaries. One dictionary per review: perfect for a mongo document.\n",
    "The key `raw` has the full text as a list of lines. For example, to see the first review, you can do:"
   ]
  },
  {
   "cell_type": "code",
   "execution_count": 2,
   "metadata": {
    "collapsed": true,
    "deletable": true,
    "editable": true
   },
   "outputs": [
    {
     "name": "stdout",
     "output_type": "stream",
     "text": [
      "200 MOTELS (1971)\n",
      "DIRECTORS: Tony Palmer, Frank Zappa\n",
      "CAST: Frank Zappa, Ringo Starr, Mark Volman, Howard Kaylan, Keith\n",
      "Moon\n",
      "METAL CRED\n",
      "Frank Zappa\n",
      "Nun Desecration\n",
      "THE MEAT\n",
      "Beyond his metal sainthood for\n",
      "battling the censor-witches of the PMRC and getting named checked by Deep\n",
      "Purple in “Smoke on the Water”, musical visionary Frank Zappa led many rock\n",
      "fans to heavy metal.\n",
      "And, from there, he led many metal\n",
      "fans to the outer expanses of rock’s possibilities.\n",
      "Zappa also opened countless banging\n",
      "heads to the far reaches of jazz, classical, doo-wop, and any other art form\n",
      "that could involve (brilliant) noise and (brilliantly dumb) dirty jokes.\n",
      "200\n",
      "Motels is Zappa’s first crack at major motion picture madness, and it\n",
      "embodies the much forgotten cultural moment when acid rock tumbled forever into\n",
      "the black pits of rising heavy metal.\n",
      "Surrealistic sketches and\n",
      "psychedelic set pieces about the insanity of a being on tour are interspersed\n",
      "among performances in which the Mothers jam with London Philharmonic.\n",
      "Ringo Starr plays Zappa during the\n",
      "talking parts. Zappa himself, plays guitar throughout, demonstrating how very\n",
      "much of a six-string maestro he was, every lick on par with his future\n",
      "collaborators Steve Vail and Yngwie Malmsteen.\n",
      "SOLID METAL NUGGETS\n",
      "• A psychedelic cartoon interlude\n",
      "admiringly tweaks Black Sabbath and Grand Funk Railroad.\n",
      "• Keith Moon, madman drummer of the\n",
      "Who, pops up—and off—as “The Hot Nun.”\n"
     ]
    }
   ],
   "source": [
    "first_review = heavy_metal_reviews[0]\n",
    "for line in first_review['raw']:\n",
    "    print(line)"
   ]
  },
  {
   "cell_type": "markdown",
   "metadata": {
    "deletable": true,
    "editable": true
   },
   "source": [
    "Let's see what other fields each document has:"
   ]
  },
  {
   "cell_type": "code",
   "execution_count": 3,
   "metadata": {
    "collapsed": true,
    "deletable": true,
    "editable": true
   },
   "outputs": [
    {
     "name": "stdout",
     "output_type": "stream",
     "text": [
      "['raw', 'solid_metal_nuggets', 'head', 'metal_cred', 'the_meat', 'title', 'year', 'sections', 'direct', 'cast']\n"
     ]
    }
   ],
   "source": [
    "print(list(first_review.keys()))"
   ]
  },
  {
   "cell_type": "markdown",
   "metadata": {
    "deletable": true,
    "editable": true
   },
   "source": [
    "Basically, each section in the review is parsed into it's own key.\n",
    "\n",
    "Ok, put these documents into a mongodb collection. For these challenges, do not use the `heavy_metal_reviews` list directly. Use mongo queries (you can use the mongo client directly or use pymongo from within python)."
   ]
  },
  {
   "cell_type": "code",
   "execution_count": 3,
   "metadata": {
    "collapsed": false,
    "deletable": true,
    "editable": true
   },
   "outputs": [],
   "source": [
    "from pymongo import MongoClient"
   ]
  },
  {
   "cell_type": "code",
   "execution_count": 4,
   "metadata": {
    "collapsed": true,
    "deletable": true,
    "editable": true
   },
   "outputs": [],
   "source": [
    "client = MongoClient()"
   ]
  },
  {
   "cell_type": "code",
   "execution_count": 5,
   "metadata": {
    "collapsed": false,
    "deletable": true,
    "editable": true
   },
   "outputs": [],
   "source": [
    "db = client.db"
   ]
  },
  {
   "cell_type": "code",
   "execution_count": 6,
   "metadata": {
    "collapsed": false,
    "deletable": true,
    "editable": true
   },
   "outputs": [],
   "source": [
    "reviews = db.reviews"
   ]
  },
  {
   "cell_type": "markdown",
   "metadata": {
    "collapsed": false,
    "deletable": true,
    "editable": true
   },
   "source": [
    "```python\n",
    "for review in heavy_metal_reviews:\n",
    "    reviews.insert_one(review)\n",
    "```"
   ]
  },
  {
   "cell_type": "markdown",
   "metadata": {
    "deletable": true,
    "editable": true
   },
   "source": [
    "##### Challenge 1\n",
    "Make a histogram of the years in the data. How many metal movies came\n",
    "out over the years?"
   ]
  },
  {
   "cell_type": "code",
   "execution_count": 67,
   "metadata": {
    "collapsed": true,
    "deletable": true,
    "editable": true
   },
   "outputs": [],
   "source": [
    "year_count = reviews.aggregate([\n",
    "    {\"$group\": {\n",
    "        \"_id\": \"$year\",\n",
    "        \"year_count\": {\"$sum\": 1}\n",
    "    }}\n",
    "])"
   ]
  },
  {
   "cell_type": "code",
   "execution_count": 68,
   "metadata": {
    "collapsed": true,
    "deletable": true,
    "editable": true
   },
   "outputs": [],
   "source": [
    "years = []\n",
    "num_films_in_year = []\n",
    "for doc in year_count:\n",
    "    years.append(doc[\"_id\"])\n",
    "    num_films_in_year.append(doc[\"year_count\"])"
   ]
  },
  {
   "cell_type": "code",
   "execution_count": 148,
   "metadata": {
    "collapsed": false,
    "deletable": true,
    "editable": true
   },
   "outputs": [
    {
     "data": {
      "image/png": "[encoded data removed]",
      "text/plain": [
       "<matplotlib.figure.Figure at 0x7f6140e309e8>"
      ]
     },
     "metadata": {},
     "output_type": "display_data"
    }
   ],
   "source": [
    "plt.bar(years, num_films_in_year);\n",
    "plt.style.use('fivethirtyeight')\n",
    "plt.xticks(np.arange(min(years), max(years)+7, 10),rotation=45)\n",
    "plt.show();"
   ]
  },
  {
   "cell_type": "markdown",
   "metadata": {
    "deletable": true,
    "editable": true
   },
   "source": [
    "##### Challenge 2\n",
    "Find the cast member that appeared in most Heavy Metal movies. Is\n",
    "there one that is shared by more than one of these movies? Or are they\n",
    "all completely different actors for every movie?"
   ]
  },
  {
   "cell_type": "code",
   "execution_count": 19,
   "metadata": {
    "collapsed": false
   },
   "outputs": [],
   "source": [
    "most_movies = reviews.aggregate([\n",
    "    #project\n",
    "    #match where exists and not ''\n",
    "    {'$unwind': '$cast'},\n",
    "    {'$group' : {'_id': '$cast',\n",
    "    'num_movies': {'$sum' : 1}}},\n",
    "    {'$sort' : {'num_movies' : -1}}\n",
    "])"
   ]
  },
  {
   "cell_type": "code",
   "execution_count": 11,
   "metadata": {
    "collapsed": false,
    "deletable": true,
    "editable": true
   },
   "outputs": [
    {
     "name": "stdout",
     "output_type": "stream",
     "text": [
      "[('Alice Cooper', 15), ('Christopher Lee', 14), ('Arnold Schwarzenegger', 10)]\n"
     ]
    }
   ],
   "source": [
    "fieldName = 'cast'\n",
    "\n",
    "# Key: actor name; value: # appearances in cast\n",
    "cast = {}\n",
    "cursor = reviews.find()\n",
    "for doc in cursor:\n",
    "    if doc[fieldName]:\n",
    "        for m in doc[fieldName]:\n",
    "            if m != '':\n",
    "                if m in cast:\n",
    "                    cast[m] += 1\n",
    "                else:\n",
    "                    cast[m] = 1\n",
    "\n",
    "sortedCast = sorted(cast.items(), key=operator.itemgetter(1), reverse=True)\n",
    "\n",
    "print(sortedCast[:3])"
   ]
  },
  {
   "cell_type": "markdown",
   "metadata": {
    "deletable": true,
    "editable": true
   },
   "source": [
    "##### Challenge 3\n",
    "Find the most used words in Heavy Metal film titles. Is there a word\n",
    "that appears in a lot of them? Is it \"The\"? If it is something like\n",
    "\"the\", How can you get around that? Find one \"meaningful\" word that\n",
    "appears the most (this means non-structural word, unlike \"the\" or \"a\"\n",
    "or \"in\")"
   ]
  },
  {
   "cell_type": "code",
   "execution_count": 142,
   "metadata": {
    "collapsed": true,
    "deletable": true,
    "editable": true
   },
   "outputs": [],
   "source": [
    "#what we will ignore when searching titles\n",
    "ignore = ['the', 'an', 'and','a','to', 'of', 'by', u'\\u201cThe', u'\\u2013', \n",
    "          u'\\u201980s', 'The', u'\\u2022', 'in', u'\\u201970s', ' ', 'on', 'from', 'at', 'for', 'with']\n"
   ]
  },
  {
   "cell_type": "code",
   "execution_count": 149,
   "metadata": {
    "collapsed": true,
    "deletable": true,
    "editable": true
   },
   "outputs": [],
   "source": [
    "#project acts as a field filter. this will suppress _id and only pass the title\n",
    "title_count = reviews.aggregate([\n",
    "    {'$project': {'_id': 0, 'title': 1}}\n",
    "])"
   ]
  },
  {
   "cell_type": "code",
   "execution_count": 150,
   "metadata": {
    "collapsed": false,
    "deletable": true,
    "editable": true
   },
   "outputs": [],
   "source": [
    "#store counts\n",
    "title_word_count = {}\n",
    "\n",
    "#parse each title\n",
    "for document in title_count:\n",
    "    #split title into words\n",
    "    for word in document['title'].split():\n",
    "        \n",
    "        word = word.lower()\n",
    "        \n",
    "        if word in ignore:\n",
    "            continue\n",
    "        if word in title_word_count:\n",
    "            title_word_count[word] += 1\n",
    "        else:\n",
    "            title_word_count[word] = 1"
   ]
  },
  {
   "cell_type": "code",
   "execution_count": 151,
   "metadata": {
    "collapsed": false,
    "deletable": true,
    "editable": true
   },
   "outputs": [],
   "source": [
    "listed_title_counts = sorted(title_word_count.items(), key= lambda x: x[1], reverse=True)"
   ]
  },
  {
   "cell_type": "code",
   "execution_count": 152,
   "metadata": {
    "collapsed": false,
    "deletable": true,
    "editable": true
   },
   "outputs": [
    {
     "data": {
      "text/plain": [
       "[('metal', 29), ('dead', 23), ('heavy', 18), ('rock', 17), ('blood', 14)]"
      ]
     },
     "execution_count": 152,
     "metadata": {},
     "output_type": "execute_result"
    }
   ],
   "source": [
    "listed_title_counts[:5]"
   ]
  },
  {
   "cell_type": "markdown",
   "metadata": {
    "deletable": true,
    "editable": true
   },
   "source": [
    "##### Challenge 4\n",
    "METAL CRED section lists themes included in these movies that makes\n",
    "them more metal.\n",
    "What were the top 5 metal cred keywords in the 70s? In 80s? In 90s, In\n",
    "2000s?"
   ]
  },
  {
   "cell_type": "code",
   "execution_count": 177,
   "metadata": {
    "collapsed": false,
    "deletable": true,
    "editable": true
   },
   "outputs": [],
   "source": [
    "def metal_cred(year):\n",
    "    #return metal_cred and year for films within 10 year range\n",
    "    pipeline = [\n",
    "        {'$project': {'_id':0, 'metal_cred': 1, 'year': 1}},\n",
    "        {'$match': {'year' :{'$gte': year}}},\n",
    "        {'$match': {'year' :{'$lt': year+10}}}\n",
    "    ]\n",
    "    \n",
    "    credibility = reviews.aggregate(pipeline)\n",
    "    cred_words = {}\n",
    "    \n",
    "    for doc in credibility:\n",
    "        for item in doc['metal_cred']:\n",
    "            if item == 'METAL CRED':\n",
    "                continue\n",
    "            else:\n",
    "                for word in item.split():\n",
    "\n",
    "                    word = word.lower()\n",
    "\n",
    "                    if word in ignore:\n",
    "                        continue\n",
    "                    if word in cred_words:\n",
    "                        cred_words[word] += 1\n",
    "                    else:\n",
    "                        cred_words[word] = 1\n",
    "    return sorted(cred_words.items(), key= lambda x: x[1], reverse=True)"
   ]
  },
  {
   "cell_type": "code",
   "execution_count": 181,
   "metadata": {
    "collapsed": false,
    "deletable": true,
    "editable": true
   },
   "outputs": [
    {
     "data": {
      "text/plain": [
       "[('satan', 21), ('black', 14), ('horror', 13), ('metal', 12), ('manson', 12)]"
      ]
     },
     "execution_count": 181,
     "metadata": {},
     "output_type": "execute_result"
    }
   ],
   "source": [
    "metal_cred(1970)[:5]"
   ]
  },
  {
   "cell_type": "code",
   "execution_count": 180,
   "metadata": {
    "collapsed": false,
    "deletable": true,
    "editable": true
   },
   "outputs": [
    {
     "data": {
      "text/plain": [
       "[('post-apocalypse', 31),\n",
       " ('horror', 30),\n",
       " ('metal', 28),\n",
       " ('sorcery', 28),\n",
       " ('sword', 26)]"
      ]
     },
     "execution_count": 180,
     "metadata": {},
     "output_type": "execute_result"
    }
   ],
   "source": [
    "metal_cred(1980)[:5]"
   ]
  },
  {
   "cell_type": "code",
   "execution_count": 182,
   "metadata": {
    "collapsed": false,
    "deletable": true,
    "editable": true
   },
   "outputs": [
    {
     "data": {
      "text/plain": [
       "[('soundtrack:', 37),\n",
       " ('metal', 17),\n",
       " ('black', 9),\n",
       " ('alice', 8),\n",
       " ('marilyn', 7)]"
      ]
     },
     "execution_count": 182,
     "metadata": {},
     "output_type": "execute_result"
    }
   ],
   "source": [
    "metal_cred(1990)[:5]"
   ]
  },
  {
   "cell_type": "markdown",
   "metadata": {
    "deletable": true,
    "editable": true
   },
   "source": [
    "##### Challenge 5\n",
    "Let's use the length of the METAL CRED section as a proxy score for\n",
    "how metal a movie is. Let's call this the METAL SCORE. To each mongo\n",
    "document, add the metal_score as a new field."
   ]
  },
  {
   "cell_type": "code",
   "execution_count": null,
   "metadata": {
    "collapsed": true,
    "deletable": true,
    "editable": true
   },
   "outputs": [],
   "source": [
    "#update_metalscore = reviews.update_many(\n",
    "#     {},\n",
    "#     {\"$set\": {\"metal_score\": len(reviews['metal_cred'])   }},\n",
    "#     False, \n",
    "#     True)"
   ]
  },
  {
   "cell_type": "code",
   "execution_count": 17,
   "metadata": {
    "collapsed": false,
    "deletable": true,
    "editable": true
   },
   "outputs": [],
   "source": [
    "cursor = reviews.find()\n",
    "for doc in cursor:\n",
    "    if doc['metal_cred']:\n",
    "        doc['metal_score'] = len(doc['metal_cred'])"
   ]
  },
  {
   "cell_type": "code",
   "execution_count": 24,
   "metadata": {
    "collapsed": false,
    "deletable": true,
    "editable": true
   },
   "outputs": [
    {
     "data": {
      "text/plain": [
       "11"
      ]
     },
     "execution_count": 24,
     "metadata": {},
     "output_type": "execute_result"
    }
   ],
   "source": [
    "reviews.find()[27]['metal_score']"
   ]
  },
  {
   "cell_type": "markdown",
   "metadata": {
    "deletable": true,
    "editable": true
   },
   "source": [
    "##### Challenge 6\n",
    "Find the director that is MOST METAL per movie (director with the\n",
    "highest average metal score).\n",
    "Remember that some movies have multiple directors."
   ]
  },
  {
   "cell_type": "code",
   "execution_count": 30,
   "metadata": {
    "collapsed": false,
    "deletable": true,
    "editable": true
   },
   "outputs": [],
   "source": [
    "directors = {}\n",
    "\n",
    "cursor = reviews.find()\n",
    "for doc in cursor:\n",
    "    if doc['direct']:\n",
    "        for director in doc['direct']:\n",
    "            if director != '':\n",
    "                if director in directors:\n",
    "                    directors[director].append(doc['metal_score'])\n",
    "                else:\n",
    "                    directors[director] = [doc['metal_score']]"
   ]
  },
  {
   "cell_type": "code",
   "execution_count": 38,
   "metadata": {
    "collapsed": false,
    "deletable": true,
    "editable": true
   },
   "outputs": [],
   "source": [
    "mean_metal = sorted([(key, sum(values)/len(values)) for (key, values) in directors.items()],\n",
    "                    key= lambda x: x[1],\n",
    "                    reverse=True)"
   ]
  },
  {
   "cell_type": "code",
   "execution_count": 39,
   "metadata": {
    "collapsed": false,
    "deletable": true,
    "editable": true
   },
   "outputs": [
    {
     "data": {
      "text/plain": [
       "[('John Milius', 75.0), ('David Jacobson', 27.0), ('Robert Hendrickson', 18.0)]"
      ]
     },
     "execution_count": 39,
     "metadata": {},
     "output_type": "execute_result"
    }
   ],
   "source": [
    "mean_metal[:3]"
   ]
  },
  {
   "cell_type": "markdown",
   "metadata": {
    "deletable": true,
    "editable": true
   },
   "source": [
    "##### Challenge 7\n",
    "The majority of directors and actors will have worked on a single\n",
    "movie. See if there are any directors that worked with an actor more\n",
    "than once. If so, find the director-actor duo that have worked\n",
    "together the most times."
   ]
  },
  {
   "cell_type": "code",
   "execution_count": 51,
   "metadata": {
    "collapsed": true,
    "deletable": true,
    "editable": true
   },
   "outputs": [],
   "source": [
    "dir_act_duo = {}\n",
    "cursor = reviews.find()\n",
    "\n",
    "for doc in cursor:\n",
    "    if doc['cast'] and doc['direct']:\n",
    "        for director in doc['direct']:\n",
    "            for actor in doc['cast']:\n",
    "                pair = (director, actor)\n",
    "                if pair in dir_act_duo:\n",
    "                    dir_act_duo[pair] += 1\n",
    "                else:\n",
    "                    dir_act_duo[pair] = 1"
   ]
  },
  {
   "cell_type": "code",
   "execution_count": 52,
   "metadata": {
    "collapsed": true,
    "deletable": true,
    "editable": true
   },
   "outputs": [],
   "source": [
    "top_pairs = sorted([(key, value) for (key, value) in dir_act_duo.items()],\n",
    "                    key= lambda x: x[1],\n",
    "                    reverse=True)"
   ]
  },
  {
   "cell_type": "code",
   "execution_count": 53,
   "metadata": {
    "collapsed": false,
    "deletable": true,
    "editable": true
   },
   "outputs": [
    {
     "data": {
      "text/plain": [
       "[(('Peter Jackson', 'Christopher Lee'), 4),\n",
       " (('Dario Argento', 'Daria Nicolodi'), 4),\n",
       " (('Joe D’Amato', 'George Eastman'), 4)]"
      ]
     },
     "execution_count": 53,
     "metadata": {},
     "output_type": "execute_result"
    }
   ],
   "source": [
    "top_pairs[:3]"
   ]
  },
  {
   "cell_type": "markdown",
   "metadata": {
    "deletable": true,
    "editable": true
   },
   "source": [
    "##### Challenge 8\n",
    "Create an index on the 'director' field to make the queries involving\n",
    "it faster.\n",
    "[What is an index?](http://en.wikipedia.org/wiki/Database_index)\n",
    "\n",
    "[Creating an index in mongo](http://docs.mongodb.org/manual/tutorial/create-an-index/)\n",
    "[Creating an index in pymongo](http://api.mongodb.org/python/current/api/pymongo/collection.html?highlight=create_index#pymongo.collection.Collection.create_index)\n",
    "[Single field index on mongo](http://docs.mongodb.org/manual/core/index-single/)\n",
    "[Mongo documentation on indexes](http://docs.mongodb.org/manual/core/indexes/)"
   ]
  },
  {
   "cell_type": "markdown",
   "metadata": {
    "deletable": true,
    "editable": true
   },
   "source": [
    "##### Challenge 9 (Optional challenge for early finishers)\n",
    "For each decade, make a histogram of metal scores.\n",
    "Also, calculate the average metal score for each decade. Which decade\n",
    "was the most pure metal decade?"
   ]
  },
  {
   "cell_type": "markdown",
   "metadata": {
    "deletable": true,
    "editable": true
   },
   "source": [
    "##### Note (rather than a challenge)\n",
    "In the latest version of mongo, you can do a text query.\n",
    "To do this, you need to create one (only one) text-based index.\n",
    "Let's index the_meat field so we can make text search queries on it\n",
    "(in pymongo):\n",
    "\n",
    "db.reviews.create_index([(\"the_meat\", pymongo.TEXT,)])\n",
    "\n",
    "Now you can do text search. For example, let's search for the phrase\n",
    "\"hitting power chords\" within \"the_meat\" fields of all our documents.\n",
    "\n",
    "    db.reviews.find({\"$text\": {\"$search\": \"hitting power\n",
    "    chords\"}}).count()\n",
    "\n",
    "    206\n",
    "\n",
    "It has found 206 reviews. I can print the titles of the first 10\n",
    "reviews that were returned in this text search:\n",
    "\n",
    "    ten_matches = r.find({\"$text\": {\"$search\": \"hitting power chords\"}}).limit(10)\n",
    "    for match in ten_matches:\n",
    "        print match[\"title\"]\n",
    "\n",
    "\n",
    "    DOMINATOR\n",
    "    REPO: THE GENETIC OPERA\n",
    "    GREMLINS 2: THE NEW BATCH\n",
    "    VICE SQUAD\n",
    "    THE JERKY BOYS: THE MOVIE\n",
    "    THE SONG REMAINS THE SAME\n",
    "    THE EXORCIST\n",
    "    THE CROW\n",
    "    CANNIBAL HOLOCAUST\n",
    "    HOSTEL\n",
    "\n",
    "Enjoy your text searches : ) These can be very useful in some apps.\n",
    "\n",
    "\n",
    "### Twitter API Extension\n",
    "\n",
    "Create a mongo collection of tweets about something (anything you\n",
    "choose).\n",
    "\n",
    "Each mongo document should contain the text, username, favorite count\n",
    "and retweet count of the tweet."
   ]
  },
  {
   "cell_type": "code",
   "execution_count": null,
   "metadata": {
    "collapsed": false,
    "deletable": true,
    "editable": true
   },
   "outputs": [],
   "source": []
  }
 ],
 "metadata": {
  "anaconda-cloud": {},
  "kernelspec": {
   "display_name": "Python [conda root]",
   "language": "python",
   "name": "conda-root-py"
  },
  "language_info": {
   "codemirror_mode": {
    "name": "ipython",
    "version": 3
   },
   "file_extension": ".py",
   "mimetype": "text/x-python",
   "name": "python",
   "nbconvert_exporter": "python",
   "pygments_lexer": "ipython3",
   "version": "3.5.3"
  }
 },
 "nbformat": 4,
 "nbformat_minor": 2
}
