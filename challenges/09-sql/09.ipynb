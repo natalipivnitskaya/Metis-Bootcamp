{
 "cells": [
  {
   "cell_type": "markdown",
   "metadata": {},
   "source": [
    "# Challenge Set 9\n",
    "## Part I: W3Schools SQL Lab \n",
    "\n",
    "*Introductory level SQL*\n",
    "\n",
    "This challenge uses the [W3Schools SQL playground](http://www.w3schools.com/sql/trysql.asp?filename=trysql_select_all). Please add solutions to this markdown file and submit.\n",
    "\n",
    "Which customers are from the UK?"
   ]
  },
  {
   "cell_type": "markdown",
   "metadata": {},
   "source": [
    "```Sql\n",
    "SELECT * FROM Customers WHERE Country = 'UK' \n",
    "```"
   ]
  },
  {
   "cell_type": "markdown",
   "metadata": {},
   "source": [
    "What is the name of the customer who has the most orders?"
   ]
  },
  {
   "cell_type": "markdown",
   "metadata": {},
   "source": [
    "```Sql\n",
    "SELECT CustomerName, COUNT(*) FROM Customers\n",
    "JOIN Orders ON Customers.CustomerID = Orders.CustomerID\n",
    "GROUP BY CustomerName\n",
    "ORDER BY COUNT(*) DESC\n",
    "LIMIT 1;\n",
    "```"
   ]
  },
  {
   "cell_type": "markdown",
   "metadata": {},
   "source": [
    "Which supplier has the highest average product price?"
   ]
  },
  {
   "cell_type": "markdown",
   "metadata": {},
   "source": [
    "```Sql\n",
    "SELECT SupplierName, AVG(Price) FROM Suppliers\n",
    "JOIN Products ON Suppliers.SupplierID = Products.SupplierID\n",
    "GROUP BY SupplierName\n",
    "ORDER BY AVG(Price) DESC\n",
    "LIMIT 1;\n",
    "```"
   ]
  },
  {
   "cell_type": "markdown",
   "metadata": {},
   "source": [
    "How many different countries are all the customers from? (*Hint:* consider [DISTINCT](http://www.w3schools.com/sql/sql_distinct.asp).)"
   ]
  },
  {
   "cell_type": "markdown",
   "metadata": {},
   "source": [
    "```Sql\n",
    "SELECT COUNT(DISTINCT(Country)) FROM Customers;\n",
    "```"
   ]
  },
  {
   "cell_type": "markdown",
   "metadata": {},
   "source": [
    "What category appears in the most orders?"
   ]
  },
  {
   "cell_type": "markdown",
   "metadata": {},
   "source": [
    "```Sql\n",
    "SELECT Categories.CategoryName, COUNT(*) FROM Categories\n",
    "JOIN Products ON Categories.CategoryID = Products.CategoryID\n",
    "JOIN OrderDetails ON OrderDetails.ProductID = Products.ProductID\n",
    "GROUP BY Categories.CategoryID \n",
    "ORDER BY COUNT(Categories.CategoryID) DESC\n",
    "LIMIT 1;\n",
    "```"
   ]
  },
  {
   "cell_type": "markdown",
   "metadata": {},
   "source": [
    "What was the total cost for each order?"
   ]
  },
  {
   "cell_type": "markdown",
   "metadata": {},
   "source": [
    "```Sql\n",
    "SELECT OrderID AS OrderID, SUM(Products.Price * OrderDetails.Quantity) as OrderPrice FROM OrderDetails\n",
    "JOIN Products ON OrderDetails.ProductID = Products.ProductID\n",
    "GROUP BY OrderID\n",
    "ORDER BY OrderPrice DESC\n",
    "```"
   ]
  },
  {
   "cell_type": "markdown",
   "metadata": {},
   "source": [
    "Which employee made the most sales (by total price)?"
   ]
  },
  {
   "cell_type": "markdown",
   "metadata": {},
   "source": [
    "```Sql\n",
    "SELECT LastName, FirstName, SUM(Price * Quantity) AS SalesTotal FROM Employees\n",
    "JOIN Orders ON Orders.EmployeeID = Employees.EmployeeID\n",
    "JOIN OrderDetails ON OrderDetails.OrderID = Orders.OrderID\n",
    "JOIN Products ON Products.ProductID = OrderDetails.ProductID\n",
    "GROUP BY Orders.EmployeeID\n",
    "ORDER BY SalesTotal DESC\n",
    "LIMIT  1;\n",
    "```"
   ]
  },
  {
   "cell_type": "markdown",
   "metadata": {},
   "source": [
    "Which employees have BS degrees? (*Hint:* look at the [LIKE](http://www.w3schools.com/sql/sql_like.asp) operator.)"
   ]
  },
  {
   "cell_type": "markdown",
   "metadata": {},
   "source": [
    "```Sql\n",
    "SELECT LastName, FirstName FROM Employees\n",
    "WHERE Notes LIKE '%BS%' OR Notes LIKE '%BA%'\n",
    "```"
   ]
  },
  {
   "cell_type": "markdown",
   "metadata": {},
   "source": [
    "Which supplier of three or more products has the highest average product price? (*Hint:* look at the [HAVING](http://www.w3schools.com/sql/sql_having.asp) operator.)"
   ]
  },
  {
   "cell_type": "markdown",
   "metadata": {},
   "source": [
    "```Sql\n",
    "SELECT SupplierName, AVG(Products.Price) AS AvgPrice FROM Suppliers\n",
    "JOIN Products ON Suppliers.SupplierID = Products.SupplierID\n",
    "GROUP BY SupplierName\n",
    "HAVING COUNT(Products.ProductID) >= 3\n",
    "ORDER BY AvgPrice DESC\n",
    "LIMIT 3;\n",
    "```"
   ]
  },
  {
   "cell_type": "markdown",
   "metadata": {},
   "source": [
    "# Challenge Set 9\n",
    "## Part II: Baseball Data\n",
    "\n",
    "*Introductory - Intermediate level SQL*\n",
    "\n",
    "--\n",
    "\n",
    "Please complete this exercise via SQLalchemy and Jupyter notebook.\n",
    "\n",
    "We will be working with the Lahman baseball data we uploaded to your AWS instance in class. "
   ]
  },
  {
   "cell_type": "markdown",
   "metadata": {},
   "source": [
    "What was the total spent on salaries by each team, each year?"
   ]
  },
  {
   "cell_type": "markdown",
   "metadata": {},
   "source": [
    "What is the first and last year played for each player? *Hint:* Create a new table from 'Fielding.csv'."
   ]
  },
  {
   "cell_type": "markdown",
   "metadata": {},
   "source": [
    "3. Who has played the most all star games?\n",
    "\n",
    "4. Which school has generated the most distinct players? *Hint:* Create new table from 'CollegePlaying.csv'.\n",
    "\n",
    "5. Which players have the longest career? Assume that the `debut` and `finalGame` columns comprise the start and end, respectively, of a player's career. *Hint:* Create a new table from 'Master.csv'. Also note that strings can be converted to dates using the [`DATE`](https://wiki.postgresql.org/wiki/Working_with_Dates_and_Times_in_PostgreSQL#WORKING_with_DATETIME.2C_DATE.2C_and_INTERVAL_VALUES) function and can then be subtracted from each other yielding their difference in days.\n",
    "\n",
    "6. What is the distribution of debut months? *Hint:* Look at the `DATE` and [`EXTRACT`](https://www.postgresql.org/docs/current/static/functions-datetime.html#FUNCTIONS-DATETIME-EXTRACT) functions.\n",
    "\n",
    "7. What is the effect of table join order on mean salary for the players listed in the main (master) table? *Hint:* Perform two different queries, one that joins on playerID in the salary table and other that joins on the same column in the master table. You will have to use left joins for each since right joins are not currently supported with SQLalchemy."
   ]
  }
 ],
 "metadata": {
  "kernelspec": {
   "display_name": "Python 3",
   "language": "python",
   "name": "python3"
  },
  "language_info": {
   "codemirror_mode": {
    "name": "ipython",
    "version": 3
   },
   "file_extension": ".py",
   "mimetype": "text/x-python",
   "name": "python",
   "nbconvert_exporter": "python",
   "pygments_lexer": "ipython3",
   "version": "3.7.1"
  }
 },
 "nbformat": 4,
 "nbformat_minor": 2
}
