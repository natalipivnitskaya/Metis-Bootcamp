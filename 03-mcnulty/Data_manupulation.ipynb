{
 "cells": [
  {
   "cell_type": "code",
   "execution_count": 347,
   "metadata": {},
   "outputs": [],
   "source": [
    "import numpy as np\n",
    "import pandas as pd\n",
    "%matplotlib inline\n",
    "import numpy as np\n",
    "import matplotlib.pyplot as plt\n",
    "#conda install Basemap\n",
    "#from mpl_toolkits.basemap import Basemap\n",
    "from itertools import combinations\n",
    "pd.set_option('display.max_columns', 20000)\n",
    "import datetime"
   ]
  },
  {
   "cell_type": "code",
   "execution_count": 344,
   "metadata": {},
   "outputs": [],
   "source": [
    "eq = pd.read_csv('data/03_equipment.csv', sep = \",\")"
   ]
  },
  {
   "cell_type": "code",
   "execution_count": 305,
   "metadata": {},
   "outputs": [],
   "source": [
    "data = pd.read_csv('data/02_Data_test.csv', sep = ';')"
   ]
  },
  {
   "cell_type": "code",
   "execution_count": 306,
   "metadata": {},
   "outputs": [],
   "source": [
    "positive_labels = pd.read_csv('data/01_Facts.csv', sep = \";\", header = None)"
   ]
  },
  {
   "cell_type": "code",
   "execution_count": 307,
   "metadata": {},
   "outputs": [
    {
     "data": {
      "text/html": [
       "<div>\n",
       "<style scoped>\n",
       "    .dataframe tbody tr th:only-of-type {\n",
       "        vertical-align: middle;\n",
       "    }\n",
       "\n",
       "    .dataframe tbody tr th {\n",
       "        vertical-align: top;\n",
       "    }\n",
       "\n",
       "    .dataframe thead th {\n",
       "        text-align: right;\n",
       "    }\n",
       "</style>\n",
       "<table border=\"1\" class=\"dataframe\">\n",
       "  <thead>\n",
       "    <tr style=\"text-align: right;\">\n",
       "      <th></th>\n",
       "      <th>lac</th>\n",
       "      <th>cid</th>\n",
       "      <th>msisdn</th>\n",
       "      <th>imei</th>\n",
       "      <th>event_type</th>\n",
       "      <th>tstamp</th>\n",
       "      <th>long</th>\n",
       "      <th>lat</th>\n",
       "      <th>max_dist</th>\n",
       "      <th>cell_type</th>\n",
       "      <th>start_angle</th>\n",
       "      <th>end_angle</th>\n",
       "    </tr>\n",
       "  </thead>\n",
       "  <tbody>\n",
       "    <tr>\n",
       "      <th>0</th>\n",
       "      <td>5029</td>\n",
       "      <td>40798</td>\n",
       "      <td>158529599791</td>\n",
       "      <td>3.531111e+14</td>\n",
       "      <td>0</td>\n",
       "      <td>1369252800974</td>\n",
       "      <td>37.9305</td>\n",
       "      <td>55.7815</td>\n",
       "      <td>2101</td>\n",
       "      <td>OUTDOOR</td>\n",
       "      <td>220.0</td>\n",
       "      <td>280.0</td>\n",
       "    </tr>\n",
       "  </tbody>\n",
       "</table>\n",
       "</div>"
      ],
      "text/plain": [
       "    lac    cid        msisdn          imei  event_type         tstamp  \\\n",
       "0  5029  40798  158529599791  3.531111e+14           0  1369252800974   \n",
       "\n",
       "      long      lat  max_dist cell_type  start_angle  end_angle  \n",
       "0  37.9305  55.7815      2101   OUTDOOR        220.0      280.0  "
      ]
     },
     "execution_count": 307,
     "metadata": {},
     "output_type": "execute_result"
    }
   ],
   "source": [
    "data.head(1)"
   ]
  },
  {
   "cell_type": "markdown",
   "metadata": {},
   "source": [
    "\"Msisdn\" column is how many milliseconds passed from 1970-01-01. The next function convert this column in ordinary date-time format"
   ]
  },
  {
   "cell_type": "code",
   "execution_count": 308,
   "metadata": {},
   "outputs": [],
   "source": [
    "data['tstamp'] = data['tstamp'].apply(lambda x: datetime.datetime(1970, 1, 1, 0, 0) + datetime.timedelta(milliseconds = x))"
   ]
  },
  {
   "cell_type": "code",
   "execution_count": 309,
   "metadata": {},
   "outputs": [
    {
     "data": {
      "text/html": [
       "<div>\n",
       "<style scoped>\n",
       "    .dataframe tbody tr th:only-of-type {\n",
       "        vertical-align: middle;\n",
       "    }\n",
       "\n",
       "    .dataframe tbody tr th {\n",
       "        vertical-align: top;\n",
       "    }\n",
       "\n",
       "    .dataframe thead th {\n",
       "        text-align: right;\n",
       "    }\n",
       "</style>\n",
       "<table border=\"1\" class=\"dataframe\">\n",
       "  <thead>\n",
       "    <tr style=\"text-align: right;\">\n",
       "      <th></th>\n",
       "      <th>lac</th>\n",
       "      <th>cid</th>\n",
       "      <th>msisdn</th>\n",
       "      <th>imei</th>\n",
       "      <th>event_type</th>\n",
       "      <th>tstamp</th>\n",
       "      <th>long</th>\n",
       "      <th>lat</th>\n",
       "      <th>max_dist</th>\n",
       "      <th>cell_type</th>\n",
       "      <th>start_angle</th>\n",
       "      <th>end_angle</th>\n",
       "    </tr>\n",
       "  </thead>\n",
       "  <tbody>\n",
       "    <tr>\n",
       "      <th>0</th>\n",
       "      <td>5029</td>\n",
       "      <td>40798</td>\n",
       "      <td>158529599791</td>\n",
       "      <td>3.531111e+14</td>\n",
       "      <td>0</td>\n",
       "      <td>2013-05-22 20:00:00.974</td>\n",
       "      <td>37.9305</td>\n",
       "      <td>55.7815</td>\n",
       "      <td>2101</td>\n",
       "      <td>OUTDOOR</td>\n",
       "      <td>220.0</td>\n",
       "      <td>280.0</td>\n",
       "    </tr>\n",
       "  </tbody>\n",
       "</table>\n",
       "</div>"
      ],
      "text/plain": [
       "    lac    cid        msisdn          imei  event_type  \\\n",
       "0  5029  40798  158529599791  3.531111e+14           0   \n",
       "\n",
       "                   tstamp     long      lat  max_dist cell_type  start_angle  \\\n",
       "0 2013-05-22 20:00:00.974  37.9305  55.7815      2101   OUTDOOR        220.0   \n",
       "\n",
       "   end_angle  \n",
       "0      280.0  "
      ]
     },
     "execution_count": 309,
     "metadata": {},
     "output_type": "execute_result"
    }
   ],
   "source": [
    "data.head(1)"
   ]
  },
  {
   "cell_type": "code",
   "execution_count": 310,
   "metadata": {},
   "outputs": [
    {
     "name": "stdout",
     "output_type": "stream",
     "text": [
      "How many observations in our data set? -  174123\n",
      "How many unique numbers (msisdn) in our data set? - 2361\n"
     ]
    }
   ],
   "source": [
    "print(\"How many observations in our data set? -  {}\".format(len(data)))\n",
    "print(\"How many unique numbers (msisdn) in our data set? - {}\".format(data['msisdn'].nunique()))"
   ]
  },
  {
   "cell_type": "raw",
   "metadata": {},
   "source": [
    "First let's take data corresponds to only positive lables"
   ]
  },
  {
   "cell_type": "code",
   "execution_count": 311,
   "metadata": {},
   "outputs": [],
   "source": [
    "list_of_positive_labels = []\n",
    "for i in range(len(positive_labels)):\n",
    "    for j in range(2):\n",
    "        list_of_positive_labels.append(positive_labels.loc[i, j])"
   ]
  },
  {
   "cell_type": "code",
   "execution_count": 312,
   "metadata": {},
   "outputs": [],
   "source": [
    "data_small = pd.DataFrame(columns = data.columns)\n",
    "for i in list(data['msisdn'].unique()):\n",
    "    if i in list_of_positive_labels:\n",
    "        data_small = data_small.append(data[data['msisdn'] == i])\n",
    "data_small = data_small.reset_index(drop = True)"
   ]
  },
  {
   "cell_type": "code",
   "execution_count": 313,
   "metadata": {},
   "outputs": [
    {
     "data": {
      "text/html": [
       "<div>\n",
       "<style scoped>\n",
       "    .dataframe tbody tr th:only-of-type {\n",
       "        vertical-align: middle;\n",
       "    }\n",
       "\n",
       "    .dataframe tbody tr th {\n",
       "        vertical-align: top;\n",
       "    }\n",
       "\n",
       "    .dataframe thead th {\n",
       "        text-align: right;\n",
       "    }\n",
       "</style>\n",
       "<table border=\"1\" class=\"dataframe\">\n",
       "  <thead>\n",
       "    <tr style=\"text-align: right;\">\n",
       "      <th></th>\n",
       "      <th>lac</th>\n",
       "      <th>cid</th>\n",
       "      <th>msisdn</th>\n",
       "      <th>imei</th>\n",
       "      <th>event_type</th>\n",
       "      <th>tstamp</th>\n",
       "      <th>long</th>\n",
       "      <th>lat</th>\n",
       "      <th>max_dist</th>\n",
       "      <th>cell_type</th>\n",
       "      <th>start_angle</th>\n",
       "      <th>end_angle</th>\n",
       "    </tr>\n",
       "  </thead>\n",
       "  <tbody>\n",
       "    <tr>\n",
       "      <th>0</th>\n",
       "      <td>7798</td>\n",
       "      <td>3866</td>\n",
       "      <td>158528850493</td>\n",
       "      <td>NaN</td>\n",
       "      <td>0</td>\n",
       "      <td>2013-05-22 20:00:34.051</td>\n",
       "      <td>37.6735</td>\n",
       "      <td>55.7363</td>\n",
       "      <td>403</td>\n",
       "      <td>OUTDOOR</td>\n",
       "      <td>255.0</td>\n",
       "      <td>315.0</td>\n",
       "    </tr>\n",
       "    <tr>\n",
       "      <th>1</th>\n",
       "      <td>7761</td>\n",
       "      <td>15621</td>\n",
       "      <td>158528850493</td>\n",
       "      <td>NaN</td>\n",
       "      <td>0</td>\n",
       "      <td>2013-05-22 20:05:32.222</td>\n",
       "      <td>37.6665</td>\n",
       "      <td>55.7385</td>\n",
       "      <td>337</td>\n",
       "      <td>OUTDOOR</td>\n",
       "      <td>170.0</td>\n",
       "      <td>230.0</td>\n",
       "    </tr>\n",
       "    <tr>\n",
       "      <th>2</th>\n",
       "      <td>7798</td>\n",
       "      <td>3866</td>\n",
       "      <td>158528850493</td>\n",
       "      <td>1.300201e+13</td>\n",
       "      <td>3</td>\n",
       "      <td>2013-05-22 20:05:32.299</td>\n",
       "      <td>37.6735</td>\n",
       "      <td>55.7363</td>\n",
       "      <td>403</td>\n",
       "      <td>OUTDOOR</td>\n",
       "      <td>255.0</td>\n",
       "      <td>315.0</td>\n",
       "    </tr>\n",
       "    <tr>\n",
       "      <th>3</th>\n",
       "      <td>7798</td>\n",
       "      <td>3866</td>\n",
       "      <td>158528850493</td>\n",
       "      <td>NaN</td>\n",
       "      <td>0</td>\n",
       "      <td>2013-05-22 20:05:52.222</td>\n",
       "      <td>37.6735</td>\n",
       "      <td>55.7363</td>\n",
       "      <td>403</td>\n",
       "      <td>OUTDOOR</td>\n",
       "      <td>255.0</td>\n",
       "      <td>315.0</td>\n",
       "    </tr>\n",
       "    <tr>\n",
       "      <th>4</th>\n",
       "      <td>7761</td>\n",
       "      <td>15621</td>\n",
       "      <td>158528850493</td>\n",
       "      <td>1.300201e+13</td>\n",
       "      <td>3</td>\n",
       "      <td>2013-05-22 23:10:34.644</td>\n",
       "      <td>37.6665</td>\n",
       "      <td>55.7385</td>\n",
       "      <td>337</td>\n",
       "      <td>OUTDOOR</td>\n",
       "      <td>170.0</td>\n",
       "      <td>230.0</td>\n",
       "    </tr>\n",
       "  </tbody>\n",
       "</table>\n",
       "</div>"
      ],
      "text/plain": [
       "    lac    cid        msisdn          imei event_type                  tstamp  \\\n",
       "0  7798   3866  158528850493           NaN          0 2013-05-22 20:00:34.051   \n",
       "1  7761  15621  158528850493           NaN          0 2013-05-22 20:05:32.222   \n",
       "2  7798   3866  158528850493  1.300201e+13          3 2013-05-22 20:05:32.299   \n",
       "3  7798   3866  158528850493           NaN          0 2013-05-22 20:05:52.222   \n",
       "4  7761  15621  158528850493  1.300201e+13          3 2013-05-22 23:10:34.644   \n",
       "\n",
       "      long      lat max_dist cell_type  start_angle  end_angle  \n",
       "0  37.6735  55.7363      403   OUTDOOR        255.0      315.0  \n",
       "1  37.6665  55.7385      337   OUTDOOR        170.0      230.0  \n",
       "2  37.6735  55.7363      403   OUTDOOR        255.0      315.0  \n",
       "3  37.6735  55.7363      403   OUTDOOR        255.0      315.0  \n",
       "4  37.6665  55.7385      337   OUTDOOR        170.0      230.0  "
      ]
     },
     "execution_count": 313,
     "metadata": {},
     "output_type": "execute_result"
    }
   ],
   "source": [
    "data_small.head()"
   ]
  },
  {
   "cell_type": "code",
   "execution_count": 314,
   "metadata": {},
   "outputs": [
    {
     "data": {
      "text/plain": [
       "8213"
      ]
     },
     "execution_count": 314,
     "metadata": {},
     "output_type": "execute_result"
    }
   ],
   "source": [
    "len(data_small)"
   ]
  },
  {
   "cell_type": "markdown",
   "metadata": {},
   "source": [
    "Since cid - identificator of base station unique in terms of lac the folowing cell creates columns 'lac_cid' as a combination of cid and lac and this gives as unique location for each station"
   ]
  },
  {
   "cell_type": "code",
   "execution_count": 315,
   "metadata": {},
   "outputs": [],
   "source": [
    "data_small['lac_cid'] = data_small['lac'].astype(str)  + data_small['cid'].astype(str)"
   ]
  },
  {
   "cell_type": "markdown",
   "metadata": {},
   "source": [
    "Grouping by msisdn. The first column of result dataframe msisdn itself, the second column - list of all locations where this number was registered"
   ]
  },
  {
   "cell_type": "code",
   "execution_count": 316,
   "metadata": {},
   "outputs": [],
   "source": [
    "group = data_small.groupby(['msisdn'], as_index=False).agg({'lac_cid':(lambda x: list(x))}).rename(columns={'msisdn':'number', 'lac_cid':'set_'})"
   ]
  },
  {
   "cell_type": "code",
   "execution_count": 317,
   "metadata": {},
   "outputs": [
    {
     "data": {
      "text/plain": [
       "241"
      ]
     },
     "execution_count": 317,
     "metadata": {},
     "output_type": "execute_result"
    }
   ],
   "source": [
    "len(group)"
   ]
  },
  {
   "cell_type": "markdown",
   "metadata": {},
   "source": [
    "Creating all posible combinations of msisdn"
   ]
  },
  {
   "cell_type": "code",
   "execution_count": 318,
   "metadata": {},
   "outputs": [],
   "source": [
    "df = pd.DataFrame(columns = ['number_1', 'set_1', 'number_2', 'set_2'])\n",
    "\n",
    "for index in list(combinations(group.index,2)):\n",
    "    \n",
    "    df0 = pd.DataFrame(group.loc[index[0], :]).T.reset_index(drop=True)\n",
    "    df1 = pd.DataFrame(group.loc[index[1], :]).T.reset_index(drop=True)\n",
    "    df_temp = pd.concat([df0, df1], axis = 1)\n",
    "    df_temp.columns = ['number_1', 'set_1', 'number_2', 'set_2']\n",
    "    df = df.append(df_temp)\n",
    "df = df.set_index(pd.Index(range(len(df))))"
   ]
  },
  {
   "cell_type": "code",
   "execution_count": 319,
   "metadata": {},
   "outputs": [
    {
     "data": {
      "text/html": [
       "<div>\n",
       "<style scoped>\n",
       "    .dataframe tbody tr th:only-of-type {\n",
       "        vertical-align: middle;\n",
       "    }\n",
       "\n",
       "    .dataframe tbody tr th {\n",
       "        vertical-align: top;\n",
       "    }\n",
       "\n",
       "    .dataframe thead th {\n",
       "        text-align: right;\n",
       "    }\n",
       "</style>\n",
       "<table border=\"1\" class=\"dataframe\">\n",
       "  <thead>\n",
       "    <tr style=\"text-align: right;\">\n",
       "      <th></th>\n",
       "      <th>number_1</th>\n",
       "      <th>set_1</th>\n",
       "      <th>number_2</th>\n",
       "      <th>set_2</th>\n",
       "    </tr>\n",
       "  </thead>\n",
       "  <tbody>\n",
       "    <tr>\n",
       "      <th>0</th>\n",
       "      <td>158500411793</td>\n",
       "      <td>[502024424, 50205834, 502041356, 502049184, 50...</td>\n",
       "      <td>158500437133</td>\n",
       "      <td>[775331576, 775334177, 775331576, 775334177, 7...</td>\n",
       "    </tr>\n",
       "    <tr>\n",
       "      <th>1</th>\n",
       "      <td>158500411793</td>\n",
       "      <td>[502024424, 50205834, 502041356, 502049184, 50...</td>\n",
       "      <td>158500611579</td>\n",
       "      <td>[77125754, 77125754, 771220486, 771220486]</td>\n",
       "    </tr>\n",
       "    <tr>\n",
       "      <th>2</th>\n",
       "      <td>158500411793</td>\n",
       "      <td>[502024424, 50205834, 502041356, 502049184, 50...</td>\n",
       "      <td>158500670731</td>\n",
       "      <td>[508648686, 502045597, 502048679, 508648675]</td>\n",
       "    </tr>\n",
       "    <tr>\n",
       "      <th>3</th>\n",
       "      <td>158500411793</td>\n",
       "      <td>[502024424, 50205834, 502041356, 502049184, 50...</td>\n",
       "      <td>158500730293</td>\n",
       "      <td>[776530546, 775530067, 778432289, 778432289, 7...</td>\n",
       "    </tr>\n",
       "    <tr>\n",
       "      <th>4</th>\n",
       "      <td>158500411793</td>\n",
       "      <td>[502024424, 50205834, 502041356, 502049184, 50...</td>\n",
       "      <td>158500730487</td>\n",
       "      <td>[77658275, 7794700, 775522653, 775522653, 7755...</td>\n",
       "    </tr>\n",
       "  </tbody>\n",
       "</table>\n",
       "</div>"
      ],
      "text/plain": [
       "       number_1                                              set_1  \\\n",
       "0  158500411793  [502024424, 50205834, 502041356, 502049184, 50...   \n",
       "1  158500411793  [502024424, 50205834, 502041356, 502049184, 50...   \n",
       "2  158500411793  [502024424, 50205834, 502041356, 502049184, 50...   \n",
       "3  158500411793  [502024424, 50205834, 502041356, 502049184, 50...   \n",
       "4  158500411793  [502024424, 50205834, 502041356, 502049184, 50...   \n",
       "\n",
       "       number_2                                              set_2  \n",
       "0  158500437133  [775331576, 775334177, 775331576, 775334177, 7...  \n",
       "1  158500611579         [77125754, 77125754, 771220486, 771220486]  \n",
       "2  158500670731       [508648686, 502045597, 502048679, 508648675]  \n",
       "3  158500730293  [776530546, 775530067, 778432289, 778432289, 7...  \n",
       "4  158500730487  [77658275, 7794700, 775522653, 775522653, 7755...  "
      ]
     },
     "execution_count": 319,
     "metadata": {},
     "output_type": "execute_result"
    }
   ],
   "source": [
    "df.head()"
   ]
  },
  {
   "cell_type": "code",
   "execution_count": 320,
   "metadata": {},
   "outputs": [
    {
     "data": {
      "text/plain": [
       "28920"
      ]
     },
     "execution_count": 320,
     "metadata": {},
     "output_type": "execute_result"
    }
   ],
   "source": [
    "len(df)"
   ]
  },
  {
   "cell_type": "code",
   "execution_count": 324,
   "metadata": {},
   "outputs": [],
   "source": [
    "for i in range(28920):\n",
    "    if df.iloc[i, 0] == df.iloc[i, 2]:\n",
    "        df = df.drop(i)"
   ]
  },
  {
   "cell_type": "markdown",
   "metadata": {},
   "source": [
    "The first assumption is that if user holds 2 numbers the locations rigistered by base station of exactly these numbers intersect"
   ]
  },
  {
   "cell_type": "markdown",
   "metadata": {},
   "source": [
    "Let's create the column 'inter' which contains the information of how much intersections for each row (pair of numbers) we have over length of the shotest list among two given (list of locations of two candidates). It's important because if the first list consists of 20 elements, and the second only of 3 but all these 3 fall into those 20, we will have only 3 intersections. By actually taking into account the fact that the  registered locations of the second number 100% the same as locations of the first number, gives us the assumption that they might have the same user (may he brings the second number rarely, but he always goes in the same places)."
   ]
  },
  {
   "cell_type": "code",
   "execution_count": 325,
   "metadata": {},
   "outputs": [],
   "source": [
    "def intersect(x):\n",
    "    list1 = x['set_1']\n",
    "    list2 = x['set_2']\n",
    "    \n",
    "    res = []\n",
    "    list_1 = list1.copy()\n",
    "    for i in list_1:\n",
    "        if i in list2:\n",
    "            res.append(i)\n",
    "            list1.remove(i)\n",
    "            list2.remove(i)\n",
    "            \n",
    "    min_len = min(len(list1), len(list2))\n",
    "    \n",
    "    \n",
    "    return len(res)/(min_len+1)"
   ]
  },
  {
   "cell_type": "code",
   "execution_count": 327,
   "metadata": {},
   "outputs": [],
   "source": [
    "df['inter'] = df.apply(intersect, axis =1)"
   ]
  },
  {
   "cell_type": "code",
   "execution_count": null,
   "metadata": {},
   "outputs": [],
   "source": [
    "The following finction returns the dictionary of possible numbers which belong to the same person. It chooses candidates by selecting maximum intersection between them"
   ]
  },
  {
   "cell_type": "code",
   "execution_count": 336,
   "metadata": {},
   "outputs": [],
   "source": [
    "def find_pair(df):\n",
    "    res = {}\n",
    "    for number_1 in df['number_1'].unique():\n",
    "        value = max(df[df['number_1'] == number_1]['inter'])\n",
    "        if value > 0.1:\n",
    "            number_2 = df[(df['number_1'] == number_1) &(df['inter'] == value)]['number_2'].iloc[0]\n",
    "            res[number_1] = number_2\n",
    "    return res"
   ]
  },
  {
   "cell_type": "code",
   "execution_count": 337,
   "metadata": {
    "scrolled": false
   },
   "outputs": [],
   "source": [
    "res = find_pair(df)"
   ]
  },
  {
   "cell_type": "code",
   "execution_count": 338,
   "metadata": {},
   "outputs": [
    {
     "data": {
      "text/plain": [
       "{158500411793: 158529027621,\n",
       " 158500437133: 158506811071,\n",
       " 158500730293: 158533303379,\n",
       " 158500941403: 158516497707,\n",
       " 158501037171: 158522529493,\n",
       " 158501551109: 158505222935,\n",
       " 158501557263: 158506092285,\n",
       " 158502336809: 158532486825,\n",
       " 158502683611: 158520842209,\n",
       " 158502911917: 158516597249,\n",
       " 158503439635: 158525444655,\n",
       " 158503655953: 158527183389,\n",
       " 158503697375: 158507587401,\n",
       " 158503800973: 158508415291,\n",
       " 158503845079: 158517547861,\n",
       " 158503851673: 158528849161,\n",
       " 158504189539: 158529872369,\n",
       " 158504562579: 158516997599,\n",
       " 158505222935: 158521773577,\n",
       " 158505407647: 158526876459,\n",
       " 158505653139: 158505653213,\n",
       " 158507025965: 158509296887,\n",
       " 158507158161: 158529353319,\n",
       " 158507183223: 158523324811,\n",
       " 158507531557: 158528710497,\n",
       " 158507606357: 158522532707,\n",
       " 158507689477: 158526742489,\n",
       " 158508364923: 158528850493,\n",
       " 158508415291: 158532486825,\n",
       " 158508437897: 158527185851,\n",
       " 158508570305: 158528861475,\n",
       " 158508828513: 158521057825,\n",
       " 158509296887: 158524011355,\n",
       " 158510090027: 158520030347,\n",
       " 158510912201: 158517840695,\n",
       " 158510912383: 158524011019,\n",
       " 158514064335: 158539469491,\n",
       " 158514064369: 158539469491,\n",
       " 158514437601: 158522679977,\n",
       " 158515580887: 158515581635,\n",
       " 158515581635: 158524898803,\n",
       " 158515590685: 158524011029,\n",
       " 158515687371: 158515687709,\n",
       " 158515729817: 158515886411,\n",
       " 158516086365: 158538745393,\n",
       " 158517166011: 158526768253,\n",
       " 158517520405: 158530880373,\n",
       " 158517840695: 158537049775,\n",
       " 158520030347: 158530782111,\n",
       " 158520675947: 158525746715,\n",
       " 158520756013: 158533714541,\n",
       " 158520806509: 158535086725,\n",
       " 158520883527: 158521139133,\n",
       " 158521139133: 158530908771,\n",
       " 158521231333: 158522566517,\n",
       " 158521241823: 158533833951,\n",
       " 158521773577: 158522944879,\n",
       " 158522134689: 158522134783,\n",
       " 158522171733: 158526820167,\n",
       " 158522426187: 158538687443,\n",
       " 158522529493: 158528861599,\n",
       " 158522532707: 158538549041,\n",
       " 158522835021: 158526548239,\n",
       " 158522930839: 158537942677,\n",
       " 158523272017: 158523272037,\n",
       " 158523696303: 158591031001,\n",
       " 158524002695: 158524011043,\n",
       " 158524011011: 158524898803,\n",
       " 158524011021: 158528850493,\n",
       " 158524011029: 158528861653,\n",
       " 158524011043: 158528850739,\n",
       " 158524011325: 158524011355,\n",
       " 158524011355: 158527521191,\n",
       " 158524891611: 158528849161,\n",
       " 158525418999: 158539452269,\n",
       " 158525436943: 158525436983,\n",
       " 158525537939: 158590248503,\n",
       " 158525734415: 158598992329,\n",
       " 158525739649: 158529025923,\n",
       " 158525746715: 158537049775,\n",
       " 158526252825: 158526303217,\n",
       " 158526548239: 158598060279,\n",
       " 158526876459: 158590248503,\n",
       " 158528250261: 158530991939,\n",
       " 158528414313: 158599409443,\n",
       " 158528533197: 158535617183,\n",
       " 158528680879: 158530718775,\n",
       " 158528694919: 158536314173,\n",
       " 158528849161: 158530211533,\n",
       " 158528849189: 158530211425,\n",
       " 158528850739: 158530211607,\n",
       " 158528852153: 158528861475,\n",
       " 158528861599: 158530063945,\n",
       " 158528861651: 158530211533,\n",
       " 158529353319: 158531839153,\n",
       " 158529633307: 158529952561,\n",
       " 158530190011: 158536314175,\n",
       " 158530211425: 158530211457,\n",
       " 158530211457: 158530562675,\n",
       " 158530211607: 158530567031,\n",
       " 158530567031: 158530908771,\n",
       " 158530991939: 158533714541,\n",
       " 158531333125: 158590671749,\n",
       " 158531369679: 158531370233,\n",
       " 158531839153: 158536794911,\n",
       " 158533714541: 158598060279,\n",
       " 158534056291: 158534344291,\n",
       " 158534672079: 158537080635,\n",
       " 158535306035: 158599703973,\n",
       " 158535970759: 158535971159,\n",
       " 158536314173: 158536314175,\n",
       " 158536558521: 158537942677,\n",
       " 158536774107: 158538335547,\n",
       " 158536856225: 158537236155,\n",
       " 158537049775: 158539469491,\n",
       " 158538406629: 158599593211}"
      ]
     },
     "execution_count": 338,
     "metadata": {},
     "output_type": "execute_result"
    }
   ],
   "source": [
    "res"
   ]
  },
  {
   "cell_type": "code",
   "execution_count": 339,
   "metadata": {},
   "outputs": [
    {
     "data": {
      "text/plain": [
       "116"
      ]
     },
     "execution_count": 339,
     "metadata": {},
     "output_type": "execute_result"
    }
   ],
   "source": [
    "len(res)"
   ]
  },
  {
   "cell_type": "code",
   "execution_count": 153,
   "metadata": {},
   "outputs": [
    {
     "data": {
      "text/html": [
       "<div>\n",
       "<style scoped>\n",
       "    .dataframe tbody tr th:only-of-type {\n",
       "        vertical-align: middle;\n",
       "    }\n",
       "\n",
       "    .dataframe tbody tr th {\n",
       "        vertical-align: top;\n",
       "    }\n",
       "\n",
       "    .dataframe thead th {\n",
       "        text-align: right;\n",
       "    }\n",
       "</style>\n",
       "<table border=\"1\" class=\"dataframe\">\n",
       "  <thead>\n",
       "    <tr style=\"text-align: right;\">\n",
       "      <th></th>\n",
       "      <th>number_1</th>\n",
       "      <th>set_1</th>\n",
       "      <th>number_2</th>\n",
       "      <th>set_2</th>\n",
       "      <th>inter</th>\n",
       "    </tr>\n",
       "  </thead>\n",
       "  <tbody>\n",
       "    <tr>\n",
       "      <th>0</th>\n",
       "      <td>158500411793</td>\n",
       "      <td>[50205834, 502049184, 502049184, 50209186, 502...</td>\n",
       "      <td>158500437133</td>\n",
       "      <td>[775334176, 775334177, 775334176, 775334177, 7...</td>\n",
       "      <td>0.0</td>\n",
       "    </tr>\n",
       "    <tr>\n",
       "      <th>1</th>\n",
       "      <td>158500411793</td>\n",
       "      <td>[50205834, 502049184, 502049184, 50209186, 502...</td>\n",
       "      <td>158500611579</td>\n",
       "      <td>[77125754, 77125754, 771220486, 771220486, 771...</td>\n",
       "      <td>0.0</td>\n",
       "    </tr>\n",
       "    <tr>\n",
       "      <th>2</th>\n",
       "      <td>158500411793</td>\n",
       "      <td>[50205834, 502049184, 502049184, 50209186, 502...</td>\n",
       "      <td>158500670731</td>\n",
       "      <td>[508648686, 502045597, 502048679, 508648675, 5...</td>\n",
       "      <td>0.0</td>\n",
       "    </tr>\n",
       "    <tr>\n",
       "      <th>3</th>\n",
       "      <td>158500411793</td>\n",
       "      <td>[50205834, 502049184, 502049184, 50209186, 502...</td>\n",
       "      <td>158500730293</td>\n",
       "      <td>[775530067, 778432289, 778432289, 776537843, 7...</td>\n",
       "      <td>0.0</td>\n",
       "    </tr>\n",
       "    <tr>\n",
       "      <th>4</th>\n",
       "      <td>158500411793</td>\n",
       "      <td>[50205834, 502049184, 502049184, 50209186, 502...</td>\n",
       "      <td>158500730487</td>\n",
       "      <td>[775522653, 775522653, 775512588, 775522653, 7...</td>\n",
       "      <td>0.0</td>\n",
       "    </tr>\n",
       "  </tbody>\n",
       "</table>\n",
       "</div>"
      ],
      "text/plain": [
       "       number_1                                              set_1  \\\n",
       "0  158500411793  [50205834, 502049184, 502049184, 50209186, 502...   \n",
       "1  158500411793  [50205834, 502049184, 502049184, 50209186, 502...   \n",
       "2  158500411793  [50205834, 502049184, 502049184, 50209186, 502...   \n",
       "3  158500411793  [50205834, 502049184, 502049184, 50209186, 502...   \n",
       "4  158500411793  [50205834, 502049184, 502049184, 50209186, 502...   \n",
       "\n",
       "       number_2                                              set_2  inter  \n",
       "0  158500437133  [775334176, 775334177, 775334176, 775334177, 7...    0.0  \n",
       "1  158500611579  [77125754, 77125754, 771220486, 771220486, 771...    0.0  \n",
       "2  158500670731  [508648686, 502045597, 502048679, 508648675, 5...    0.0  \n",
       "3  158500730293  [775530067, 778432289, 778432289, 776537843, 7...    0.0  \n",
       "4  158500730487  [775522653, 775522653, 775512588, 775522653, 7...    0.0  "
      ]
     },
     "execution_count": 153,
     "metadata": {},
     "output_type": "execute_result"
    }
   ],
   "source": [
    "df.head()"
   ]
  },
  {
   "cell_type": "markdown",
   "metadata": {},
   "source": [
    "Let see if all our observations belong to the same country(city), by depicting the coordinates of unique groups of base stations"
   ]
  },
  {
   "cell_type": "markdown",
   "metadata": {},
   "source": [
    "#Choose unique group of base stations coordinates\n",
    "a = []\n",
    "for lac in list(data['lac'].unique()):\n",
    "    a.append((data[data['lac'] == lac].head(1)[['long', 'lat']].iloc[0, 0], data[data['lac'] == lac].head(1)[['long', 'lat']].iloc[0, 1]))\n",
    "\n",
    "#Depict them on map\n",
    "fig = plt.figure(figsize=(8, 10), edgecolor='w')\n",
    "m = Basemap(projection='cyl', resolution=None,\n",
    "            llcrnrlat=40, urcrnrlat=70,\n",
    "            llcrnrlon=0, urcrnrlon=80, )\n",
    "m.etopo(scale=1.5, alpha=0.5)\n",
    "\n",
    "# Map (long, lat) to (x, y) for plotting\n",
    "for i in a:\n",
    "    x, y = m(i[0], i[1])\n",
    "    plt.plot(x, y, 'ok', markersize=1)\n",
    "#plt.text(x, y, ' Seattle', fontsize=12);"
   ]
  },
  {
   "cell_type": "markdown",
   "metadata": {},
   "source": [
    "All right, seems that they all belong to one country, one city - must be Moscow"
   ]
  }
 ],
 "metadata": {
  "kernelspec": {
   "display_name": "Python 3",
   "language": "python",
   "name": "python3"
  },
  "language_info": {
   "codemirror_mode": {
    "name": "ipython",
    "version": 3
   },
   "file_extension": ".py",
   "mimetype": "text/x-python",
   "name": "python",
   "nbconvert_exporter": "python",
   "pygments_lexer": "ipython3",
   "version": "3.7.1"
  }
 },
 "nbformat": 4,
 "nbformat_minor": 2
}
