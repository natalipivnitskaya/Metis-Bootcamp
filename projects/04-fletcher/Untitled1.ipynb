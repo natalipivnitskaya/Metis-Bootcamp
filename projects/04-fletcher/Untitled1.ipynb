{
 "cells": [
  {
   "cell_type": "code",
   "execution_count": 96,
   "metadata": {},
   "outputs": [
    {
     "name": "stdout",
     "output_type": "stream",
     "text": [
      "[nltk_data] Downloading package wordnet to /Users/natali/nltk_data...\n",
      "[nltk_data]   Package wordnet is already up-to-date!\n"
     ]
    }
   ],
   "source": [
    "from __future__ import print_function\n",
    "from pymongo import MongoClient\n",
    "import pandas as pd\n",
    "import numpy as np\n",
    "pd.set_option('display.max_columns', 100)\n",
    "import nltk\n",
    "nltk.download('wordnet')\n",
    "from nltk.stem import WordNetLemmatizer\n",
    "from nltk.stem.snowball import SnowballStemmer\n",
    "from sklearn.feature_extraction.text import TfidfVectorizer\n",
    "from sklearn.feature_extraction.text import CountVectorizer\n",
    "import re\n",
    "import string\n",
    "import sys\n",
    "import os\n",
    "\n",
    "import jellyfish # library for fuzzy text comparisons\n",
    "from sklearn.model_selection import train_test_split\n",
    "from scipy.spatial.distance import cdist\n",
    "import matplotlib.pyplot as plt\n",
    "\n",
    "from tqdm import tqdm_pandas, tqdm_notebook as tqdm\n",
    "from tqdm import tqdm as tqorig\n",
    "tqorig.pandas(tqdm)\n",
    "from autocorrect import spell\n",
    "from textblob import TextBlob"
   ]
  },
  {
   "cell_type": "code",
   "execution_count": 97,
   "metadata": {},
   "outputs": [],
   "source": [
    "client = MongoClient()\n",
    "db     = client.fletcher\n",
    "reviews   = db.reviews"
   ]
  },
  {
   "cell_type": "code",
   "execution_count": 98,
   "metadata": {},
   "outputs": [],
   "source": [
    "cursor = reviews.find({},{ 'text_review OVERALL UNIVERSITY RATING': 1, 'college' : 1})"
   ]
  },
  {
   "cell_type": "code",
   "execution_count": 99,
   "metadata": {},
   "outputs": [],
   "source": [
    "df_overall_review = pd.DataFrame(list(cursor))"
   ]
  },
  {
   "cell_type": "code",
   "execution_count": 100,
   "metadata": {},
   "outputs": [
    {
     "data": {
      "text/html": [
       "<div>\n",
       "<style scoped>\n",
       "    .dataframe tbody tr th:only-of-type {\n",
       "        vertical-align: middle;\n",
       "    }\n",
       "\n",
       "    .dataframe tbody tr th {\n",
       "        vertical-align: top;\n",
       "    }\n",
       "\n",
       "    .dataframe thead th {\n",
       "        text-align: right;\n",
       "    }\n",
       "</style>\n",
       "<table border=\"1\" class=\"dataframe\">\n",
       "  <thead>\n",
       "    <tr style=\"text-align: right;\">\n",
       "      <th></th>\n",
       "      <th>_id</th>\n",
       "      <th>college</th>\n",
       "      <th>text_review OVERALL UNIVERSITY RATING</th>\n",
       "      <th>reviews</th>\n",
       "    </tr>\n",
       "  </thead>\n",
       "  <tbody>\n",
       "    <tr>\n",
       "      <th>0</th>\n",
       "      <td>5c75db20c0bfe17384b4d259</td>\n",
       "      <td>Northumbria University, Newcastle</td>\n",
       "      <td>great and helpful experience\\nprovide good tea...</td>\n",
       "      <td>great and helpful experience provide good teac...</td>\n",
       "    </tr>\n",
       "    <tr>\n",
       "      <th>1</th>\n",
       "      <td>5c75db20c0bfe17384b4d262</td>\n",
       "      <td>University of Cumbria</td>\n",
       "      <td>enjoying it. good mix of lectures and practica...</td>\n",
       "      <td>enjoying it  good mix of lectures and practica...</td>\n",
       "    </tr>\n",
       "    <tr>\n",
       "      <th>2</th>\n",
       "      <td>5c75db20c0bfe17384b4d26b</td>\n",
       "      <td>Northumbria University, Newcastle</td>\n",
       "      <td>Sports centre is really a amazing place, Infra...</td>\n",
       "      <td>sports centre is really a amazing place  infra...</td>\n",
       "    </tr>\n",
       "    <tr>\n",
       "      <th>3</th>\n",
       "      <td>5c75db20c0bfe17384b4d274</td>\n",
       "      <td>University of Hull</td>\n",
       "      <td>university has been interesting the first year...</td>\n",
       "      <td>university has been interesting the first year...</td>\n",
       "    </tr>\n",
       "    <tr>\n",
       "      <th>4</th>\n",
       "      <td>5c75db20c0bfe17384b4d27d</td>\n",
       "      <td>Northumbria University, Newcastle</td>\n",
       "      <td>I am quite enjoy my university life at here, t...</td>\n",
       "      <td>i am quite enjoy my university life at here  t...</td>\n",
       "    </tr>\n",
       "  </tbody>\n",
       "</table>\n",
       "</div>"
      ],
      "text/plain": [
       "                        _id                            college  \\\n",
       "0  5c75db20c0bfe17384b4d259  Northumbria University, Newcastle   \n",
       "1  5c75db20c0bfe17384b4d262              University of Cumbria   \n",
       "2  5c75db20c0bfe17384b4d26b  Northumbria University, Newcastle   \n",
       "3  5c75db20c0bfe17384b4d274                 University of Hull   \n",
       "4  5c75db20c0bfe17384b4d27d  Northumbria University, Newcastle   \n",
       "\n",
       "               text_review OVERALL UNIVERSITY RATING  \\\n",
       "0  great and helpful experience\\nprovide good tea...   \n",
       "1  enjoying it. good mix of lectures and practica...   \n",
       "2  Sports centre is really a amazing place, Infra...   \n",
       "3  university has been interesting the first year...   \n",
       "4  I am quite enjoy my university life at here, t...   \n",
       "\n",
       "                                             reviews  \n",
       "0  great and helpful experience provide good teac...  \n",
       "1  enjoying it  good mix of lectures and practica...  \n",
       "2  sports centre is really a amazing place  infra...  \n",
       "3  university has been interesting the first year...  \n",
       "4  i am quite enjoy my university life at here  t...  "
      ]
     },
     "execution_count": 100,
     "metadata": {},
     "output_type": "execute_result"
    }
   ],
   "source": [
    "alphanumeric = lambda x: re.sub('\\w*\\d\\w*', ' ', x)\n",
    "punc_lower = lambda x: re.sub('[%s]' % re.escape(string.punctuation), ' ', x.lower())\n",
    "letters_only = lambda x: re.sub(\"[^a-zA-Z]\", \" \", str(x))\n",
    "\n",
    "\n",
    "df_overall_review['reviews'] = df_overall_review['text_review OVERALL UNIVERSITY RATING'].map(letters_only).map(alphanumeric).map(punc_lower)\n",
    "df_overall_review.head()"
   ]
  },
  {
   "cell_type": "code",
   "execution_count": 101,
   "metadata": {},
   "outputs": [],
   "source": [
    "df_overall_review['polarity'] = df_overall_review['reviews'].apply(lambda x: TextBlob(x).sentiment.polarity)"
   ]
  },
  {
   "cell_type": "code",
   "execution_count": 102,
   "metadata": {},
   "outputs": [],
   "source": [
    "text = list(df_overall_review[df_overall_review['college'] == 'University of Cumbria']['reviews'])"
   ]
  },
  {
   "cell_type": "code",
   "execution_count": 103,
   "metadata": {},
   "outputs": [],
   "source": [
    "tweets = [item for item in text]"
   ]
  },
  {
   "cell_type": "code",
   "execution_count": 19,
   "metadata": {},
   "outputs": [
    {
     "data": {
      "text/plain": [
       "'despite being situated at a really small university it is really cosy and our own little community  your lecturers would know you personally which is a nice feeling  it is very inclusive and easy to get around  really love it here '"
      ]
     },
     "execution_count": 19,
     "metadata": {},
     "output_type": "execute_result"
    }
   ],
   "source": [
    "tweets[9]"
   ]
  },
  {
   "cell_type": "code",
   "execution_count": 26,
   "metadata": {},
   "outputs": [
    {
     "name": "stdout",
     "output_type": "stream",
     "text": [
      "Stop words (184): \n",
      "['i', 'me', 'my', 'myself', 'we', 'our', 'ours', 'ourselves', 'you', \"you're\", \"you've\", \"you'll\", \"you'd\", 'your', 'yours', 'yourself', 'yourselves', 'he', 'him', 'his', 'himself', 'she', \"she's\", 'her', 'hers', 'herself', 'it', \"it's\", 'its', 'itself', 'they', 'them', 'their', 'theirs', 'themselves', 'what', 'which', 'who', 'whom', 'this', 'that', \"that'll\", 'these', 'those', 'am', 'is', 'are', 'was', 'were', 'be', 'been', 'being', 'have', 'has', 'had', 'having', 'do', 'does', 'did', 'doing', 'a', 'an', 'the', 'and', 'but', 'if', 'or', 'because', 'as', 'until', 'while', 'of', 'at', 'by', 'for', 'with', 'about', 'against', 'between', 'into', 'through', 'during', 'before', 'after', 'above', 'below', 'to', 'from', 'up', 'down', 'in', 'out', 'on', 'off', 'over', 'under', 'again', 'further', 'then', 'once', 'here', 'there', 'when', 'where', 'why', 'how', 'all', 'any', 'both', 'each', 'few', 'more', 'most', 'other', 'some', 'such', 'no', 'nor', 'not', 'only', 'own', 'same', 'so', 'than', 'too', 'very', 's', 't', 'can', 'will', 'just', 'don', \"don't\", 'should', \"should've\", 'now', 'd', 'll', 'm', 'o', 're', 've', 'y', 'ain', 'aren', \"aren't\", 'couldn', \"couldn't\", 'didn', \"didn't\", 'doesn', \"doesn't\", 'hadn', \"hadn't\", 'hasn', \"hasn't\", 'haven', \"haven't\", 'isn', \"isn't\", 'ma', 'mightn', \"mightn't\", 'mustn', \"mustn't\", 'needn', \"needn't\", 'shan', \"shan't\", 'shouldn', \"shouldn't\", 'wasn', \"wasn't\", 'weren', \"weren't\", 'won', \"won't\", 'wouldn', \"wouldn't\", \"'s\", \"n't\", \"'m\", \"'re\", \"'ve\"]\n",
      "\n"
     ]
    }
   ],
   "source": [
    "import nltk\n",
    "from   nltk.stem.snowball import SnowballStemmer\n",
    "from   more_itertools import unique_everseen\n",
    "\n",
    "stopwords = nltk.corpus.stopwords.words('english')\n",
    "stopwords.append(u'\\u0027s')\n",
    "stopwords.append(u'n\\u0027t')\n",
    "stopwords.append(u'\\u0027m')\n",
    "stopwords.append(\"'re\")\n",
    "stopwords.append(\"'ve\")\n",
    "print('Stop words (%i): \\n%s\\n' %(len(stopwords),[str(word) for word in stopwords]))"
   ]
  },
  {
   "cell_type": "code",
   "execution_count": 27,
   "metadata": {},
   "outputs": [],
   "source": [
    "def tokenize_and_stem(text):\n",
    "    # first tokenize by sentence, then by word to ensure that punctuation is caught as its own token\n",
    "    tokens = [word.lower() for sent in nltk.sent_tokenize(text) for word in nltk.word_tokenize(sent)]\n",
    "    filtered_tokens = []\n",
    "    # filter out any tokens not containing letters (e.g., numeric tokens, raw punctuation)\n",
    "    for token in tokens:\n",
    "        if re.search('[a-zA-Z]', token):\n",
    "            filtered_tokens.append(token)\n",
    "    stems = [stemmer.stem(t) for t in filtered_tokens]\n",
    "    return stems\n",
    "\n",
    "def tokenize_only(text):\n",
    "    # first tokenize by sentence, then by word to ensure that punctuation is caught as its own token\n",
    "    tokens = [word.lower() for sent in nltk.sent_tokenize(text) for word in nltk.word_tokenize(sent)]\n",
    "    filtered_tokens = []\n",
    "    # filter out any tokens not containing letters (e.g., numeric tokens, raw punctuation)\n",
    "    for token in tokens:\n",
    "        if re.search('[a-zA-Z]', token):\n",
    "            filtered_tokens.append(token)\n",
    "    return filtered_tokens\n"
   ]
  },
  {
   "cell_type": "code",
   "execution_count": 29,
   "metadata": {},
   "outputs": [
    {
     "name": "stdout",
     "output_type": "stream",
     "text": [
      "Stemmed stop words (172): \n",
      "['i', 'me', 'my', 'myself', 'we', 'our', 'ourselv', 'you', \"you'r\", \"you'v\", \"you'll\", \"you'd\", 'your', 'yourself', 'yourselv', 'he', 'him', 'his', 'himself', 'she', 'her', 'herself', 'it', 'itself', 'they', 'them', 'their', 'themselv', 'what', 'which', 'who', 'whom', 'this', 'that', \"that'll\", 'these', 'those', 'am', 'is', 'are', 'was', 'were', 'be', 'been', 'have', 'has', 'had', 'do', 'doe', 'did', 'a', 'an', 'the', 'and', 'but', 'if', 'or', 'becaus', 'as', 'until', 'while', 'of', 'at', 'by', 'for', 'with', 'about', 'against', 'between', 'into', 'through', 'dure', 'befor', 'after', 'abov', 'below', 'to', 'from', 'up', 'down', 'in', 'out', 'on', 'off', 'over', 'under', 'again', 'further', 'then', 'onc', 'here', 'there', 'when', 'where', 'whi', 'how', 'all', 'ani', 'both', 'each', 'few', 'more', 'most', 'other', 'some', 'such', 'no', 'nor', 'not', 'onli', 'own', 'same', 'so', 'than', 'too', 'veri', 's', 't', 'can', 'will', 'just', 'don', \"don't\", 'should', \"should'v\", 'now', 'd', 'll', 'm', 'o', 're', 've', 'y', 'ain', 'aren', \"aren't\", 'couldn', \"couldn't\", 'didn', \"didn't\", 'doesn', \"doesn't\", 'hadn', \"hadn't\", 'hasn', \"hasn't\", 'haven', \"haven't\", 'isn', \"isn't\", 'ma', 'mightn', \"mightn't\", 'mustn', \"mustn't\", 'needn', \"needn't\", 'shan', \"shan't\", 'shouldn', \"shouldn't\", 'wasn', \"wasn't\", 'weren', \"weren't\", 'won', \"won't\", 'wouldn', \"wouldn't\", \"'s\", \"n't\", \"'m\"]\n",
      "\n"
     ]
    }
   ],
   "source": [
    "stemmer = SnowballStemmer(\"english\")\n",
    "stemmed_stopwords = list(unique_everseen([stemmer.stem(word) for word in stopwords]))\n",
    "print('Stemmed stop words (%i): \\n%s\\n' %(len(stemmed_stopwords),[str(word) for word in stemmed_stopwords]))"
   ]
  },
  {
   "cell_type": "code",
   "execution_count": 32,
   "metadata": {},
   "outputs": [],
   "source": [
    "tokenized_tweets = [tokenize_only(tweet) for tweet in tweets]\n",
    "stemmed_tweets   = [[stemmer.stem(word) for word in tweet] for tweet in tokenized_tweets]\n",
    "filtered_tweets  = [[word for word in tweet if word not in stemmed_stopwords] for tweet in stemmed_tweets]"
   ]
  },
  {
   "cell_type": "code",
   "execution_count": 34,
   "metadata": {},
   "outputs": [
    {
     "name": "stdout",
     "output_type": "stream",
     "text": [
      "Example tweet after tokenization, stemming, and filtering:\n",
      "['enjoying', 'it', 'good', 'mix', 'of', 'lectures', 'and', 'practical', 'sessions', 'and', 'placements', 'can', 'be', 'hard', 'balancing', 'all', 'the', 'assignments', 'as', 'this', 'uni', 'gives', 'you', 'more', 'than', 'others', 'personal', 'tutors', 'are', 'very', 'helpful']\n",
      "['enjoy', 'it', 'good', 'mix', 'of', 'lectur', 'and', 'practic', 'session', 'and', 'placement', 'can', 'be', 'hard', 'balanc', 'all', 'the', 'assign', 'as', 'this', 'uni', 'give', 'you', 'more', 'than', 'other', 'person', 'tutor', 'are', 'veri', 'help']\n",
      "['enjoy', 'good', 'mix', 'lectur', 'practic', 'session', 'placement', 'hard', 'balanc', 'assign', 'uni', 'give', 'person', 'tutor', 'help']\n",
      " \n",
      "Length of vocabulary = 1994\n"
     ]
    }
   ],
   "source": [
    "print('Example tweet after tokenization, stemming, and filtering:')\n",
    "ind = 0\n",
    "print(tokenized_tweets[ind])\n",
    "print(stemmed_tweets[ind])\n",
    "print(filtered_tweets[ind])\n",
    "print(' ')\n",
    "\n",
    "# Create a vocabulary to convert stems back to words:\n",
    "vocab = {}\n",
    "assert len(tokenized_tweets) == len(stemmed_tweets), 'Tokenized tweets: %i, Stemmed tweets: %i'\\\n",
    "                                                     %(len(tokenized_tweets),len(stemmed_tweets))\n",
    "for tokenized_tweet,stemmed_tweet in zip(tokenized_tweets,stemmed_tweets):\n",
    "    assert len(tokenized_tweet) == len(stemmed_tweet), \\\n",
    "            'Tweet length error:\\n   tokenized tweet: \"%s\"\\n   stemmed tweet: \"%s\"' %(tokenized_tweet,stemmed_tweet)\n",
    "    for word,stem in zip(tokenized_tweet,stemmed_tweet):\n",
    "        if stem not in stemmed_stopwords:\n",
    "            vocab.setdefault(stem,word)\n",
    "        \n",
    "print('Length of vocabulary = %i' %len(vocab))\n",
    "#print('Vocabulary Extract:\\n %s' %([': '.join((str(key),value)) for (key,value) in vocab.items()[-50:]]))"
   ]
  },
  {
   "cell_type": "code",
   "execution_count": 37,
   "metadata": {},
   "outputs": [
    {
     "name": "stderr",
     "output_type": "stream",
     "text": [
      "/Users/natali/anaconda3/envs/py37/lib/python3.6/site-packages/sklearn/feature_extraction/text.py:300: UserWarning: Your stop_words may be inconsistent with your preprocessing. Tokenizing the stop words generated tokens [\"'d\", 'could', 'might', 'must', 'need', 'sha', 'wo', 'would'] not in stop_words.\n",
      "  'stop_words.' % sorted(inconsistent))\n"
     ]
    },
    {
     "name": "stdout",
     "output_type": "stream",
     "text": [
      "CPU times: user 652 ms, sys: 5.94 ms, total: 658 ms\n",
      "Wall time: 664 ms\n",
      "\n",
      "Number of documents = 970, Number of TF-IDF features = 392\n",
      "\n",
      "TF-IDF features, with scores:\n",
      "  0. abl:              4.55 |   1. absolut:          4.93 |   2. academ:           4.12 |   3. access:           4.83\n",
      "  4. accommod:         4.79 |   5. activ:            4.93 |   6. actual:           5.39 |   7. allow:            4.79\n",
      "  8. alreadi:          5.05 |   9. also:             3.66 |  10. although:         4.55 |  11. alway:            3.62\n",
      " 12. amaz:             3.55 |  13. amblesid:         5.24 |  14. amount:           5.39 |  15. anyon:            4.70\n",
      " 16. anyth:            5.31 |  17. approach:         4.93 |  18. area:             4.99 |  19. around:           4.35\n",
      " 20. ask:              5.05 |  21. aspect:           4.88 |  22. assess:           5.48 |  23. assign:           4.58\n",
      " 24. attend:           5.05 |  25. avail:            4.58 |  26. away:             4.55 |  27. away home:        5.39\n",
      " 28. back:             4.99 |  29. bad:              5.05 |  30. beauti:           5.11 |  31. becom:            4.79\n",
      " 32. believ:           5.48 |  33. best:             3.93 |  34. better:           3.80 |  35. big:              5.31\n",
      " 36. bit:              4.48 |  37. brilliant:        4.70 |  38. came:             5.39 |  39. campus:           3.24\n",
      " 40. care:             5.17 |  41. career:           4.51 |  42. carlisl:          5.17 |  43. challeng:         4.48\n",
      " 44. chanc:            5.39 |  45. chang:            4.27 |  46. choic:            5.17 |  47. chose:            5.48\n",
      " 48. citi:             4.51 |  49. class:            4.38 |  50. close:            4.99 |  51. club:             5.17\n",
      " 52. cohort:           5.24 |  53. colleg:           5.24 |  54. come:             3.89 |  55. come univers:     5.48\n",
      " 56. comfort:          5.24 |  57. communic:         5.17 |  58. complet:          4.79 |  59. confid:           5.05\n",
      " 60. consid:           5.11 |  61. contact:          5.24 |  62. content:          5.48 |  63. continu:          4.83\n",
      " 64. could:            4.01 |  65. cours:            2.27 |  66. cumbria:          3.82 |  67. day:              4.48\n",
      " 68. decis:            5.24 |  69. definit:          5.05 |  70. degre:            4.32 |  71. despit:           5.24\n",
      " 72. develop:          4.83 |  73. differ:           3.95 |  74. difficult:        4.74 |  75. done:             4.88\n",
      " 76. due:              4.41 |  77. easi:             4.66 |  78. easier:           5.39 |  79. educ:             4.88\n",
      " 80. els:              5.31 |  81. encourag:         4.88 |  82. end:              4.93 |  83. engag:            5.17\n",
      " 84. enjoy:            2.26 |  85. enjoy cours:      4.27 |  86. enjoy everi:      5.39 |  87. enjoy experi:     5.11\n",
      " 88. enjoy time:       4.70 |  89. enjoy time univers: 5.11 |  90. enjoy uni:        5.24 |  91. enjoy univers:    4.14\n",
      " 92. enough:           4.83 |  93. environ:          4.88 |  94. especi:           4.88 |  95. even:             4.24\n",
      " 96. event:            5.11 |  97. ever:             4.93 |  98. everi:            4.14 |  99. everyon:          4.24\n",
      "100. everyth:          4.55 | 101. excel:            4.32 | 102. excit:            4.79 | 103. expect:           4.41\n",
      "104. expens:           5.39 | 105. experi:           2.42 | 106. experi far:       4.44 | 107. experi great:     5.17\n",
      "108. experi univers:   5.11 | 109. experienc:        5.48 | 110. extra:            5.48 | 111. extrem:           5.31\n",
      "112. facil:            3.70 | 113. fact:             5.31 | 114. famili:           5.05 | 115. fantast:          4.79\n",
      "116. far:              2.86 | 117. far enjoy:        5.48 | 118. far good:         5.48 | 119. feedback:         5.05\n",
      "120. feel:             2.94 | 121. feel like:        4.62 | 122. felt:             4.83 | 123. final:            5.48\n",
      "124. find:             4.58 | 125. first:            3.78 | 126. first year:       4.62 | 127. food:             5.31\n",
      "128. forward:          4.62 | 129. found:            4.58 | 130. friend:           2.64 | 131. friend help:      5.48\n",
      "132. friend life:      5.39 | 133. full:             4.79 | 134. fun:              4.55 | 135. futur:            4.29\n",
      "136. futur student:    5.48 | 137. gain:             4.79 | 138. general:          5.24 | 139. get:              3.09\n",
      "140. get involv:       5.11 | 141. get know:         5.17 | 142. give:             4.55 | 143. given:            4.41\n",
      "144. glad:             4.88 | 145. go:               3.36 | 146. good:             2.21 | 147. good experi:      4.93\n",
      "148. good facil:       5.31 | 149. good far:         5.39 | 150. good lectur:      5.39 | 151. got:              5.05\n",
      "152. graduat:          5.17 | 153. great:            2.82 | 154. great experi:     5.39 | 155. great friend:     5.17\n",
      "156. group:            4.51 | 157. grown:            5.39 | 158. hall:             5.11 | 159. happi:            4.48\n",
      "160. happi help:       5.48 | 161. hard:             3.97 | 162. hard work:        4.99 | 163. health:           5.39\n",
      "164. help:             2.70 | 165. help support:     5.39 | 166. high:             4.79 | 167. home:             4.05\n",
      "168. hope:             5.24 | 169. hour:             5.05 | 170. howev:            3.48 | 171. improv:           4.88\n",
      "172. independ:         4.79 | 173. individu:         5.31 | 174. inform:           4.74 | 175. interact:         5.31\n",
      "176. interest:         4.03 | 177. involv:           4.62 | 178. issu:             4.79 | 179. job:              5.05\n",
      "180. keep:             5.17 | 181. kind:             5.48 | 182. know:             3.93 | 183. knowledg:         4.93\n",
      "184. lack:             4.58 | 185. lancast:          4.99 | 186. last:             5.05 | 187. learn:            3.14\n",
      "188. learn lot:        5.31 | 189. learnt:           4.79 | 190. learnt lot:       5.24 | 191. leav:             4.70\n",
      "192. lectur:           2.90 | 193. lectur help:      5.39 | 194. left:             5.39 | 195. less:             5.48\n",
      "196. level:            5.31 | 197. librari:          4.58 | 198. life:             3.13 | 199. like:             3.42\n",
      "200. littl:            4.58 | 201. live:             3.84 | 202. load:             4.83 | 203. local:            5.24\n",
      "204. locat:            5.05 | 205. long:             5.24 | 206. look:             4.12 | 207. look forward:     4.66\n",
      "208. lot:              2.93 | 209. lot new:          5.17 | 210. lot support:      5.48 | 211. love:             2.87\n",
      "212. love cours:       5.11 | 213. love everi:       5.31 | 214. love univers:     4.83 | 215. made:             3.15\n",
      "216. made great:       5.31 | 217. made great friend: 5.48 | 218. made lot:         5.11 | 219. major:            5.39\n",
      "220. make:             3.56 | 221. make sure:        5.48 | 222. manag:            4.74 | 223. mani:             4.07\n",
      "224. mate:             5.48 | 225. matur:            4.51 | 226. matur student:    4.70 | 227. may:              5.05\n",
      "228. mean:             5.39 | 229. meet:             4.48 | 230. meet new:         5.39 | 231. meet new peopl:   5.48\n",
      "232. met:              4.05 | 233. minut:            5.24 | 234. miss:             5.11 | 235. modul:            5.17\n",
      "236. moment:           5.48 | 237. money:            5.11 | 238. month:            5.24 | 239. move:             4.58\n",
      "240. much:             3.30 | 241. nan:              3.46 | 242. need:             3.46 | 243. never:            4.44\n",
      "244. new:              3.51 | 245. new friend:       4.51 | 246. new peopl:        4.74 | 247. next:             5.24\n",
      "248. nice:             3.99 | 249. night:            5.05 | 250. noth:             5.24 | 251. number:           5.48\n",
      "252. nurs:             5.31 | 253. offer:            4.32 | 254. often:            5.48 | 255. ok:               4.99\n",
      "256. okay:             4.93 | 257. one:              4.21 | 258. open:             5.17 | 259. opportun:         4.21\n",
      "260. organis:          4.74 | 261. outsid:           5.31 | 262. overal:           3.36 | 263. overal experi:    5.24\n",
      "264. overal univers:   4.88 | 265. overal univers experi: 4.99 | 266. part:             4.21 | 267. pay:              5.39\n",
      "268. peopl:            3.15 | 269. person:           3.87 | 270. place:            4.19 | 271. placement:        3.60\n",
      "272. plenti:           5.17 | 273. poor:             5.24 | 274. posit:            4.07 | 275. possibl:          4.70\n",
      "276. practic:          4.62 | 277. prepar:           5.05 | 278. pretti:           5.24 | 279. problem:          5.17\n",
      "280. profession:       5.31 | 281. provid:           4.79 | 282. put:              4.99 | 283. question:         5.31\n",
      "284. quick:            5.24 | 285. quit:             4.55 | 286. rang:             5.48 | 287. rather:           5.39\n",
      "288. read:             5.39 | 289. realli:           2.78 | 290. realli enjoy:     3.50 | 291. realli enjoy cours: 5.24\n",
      "292. realli enjoy univers: 4.83 | 293. realli good:      4.41 | 294. reason:           5.48 | 295. receiv:           5.05\n",
      "296. recommend:        3.93 | 297. recommend univers: 4.88 | 298. regret:           5.39 | 299. resourc:          5.05\n",
      "300. right:            5.17 | 301. run:              5.24 | 302. say:              5.11 | 303. school:           4.99\n",
      "304. second:           4.58 | 305. second year:      5.05 | 306. see:              5.11 | 307. seem:             4.79\n",
      "308. session:          5.17 | 309. set:              5.31 | 310. settl:            4.88 | 311. short:            5.48\n",
      "312. side:             5.05 | 313. sinc:             5.39 | 314. site:             5.48 | 315. situat:           5.48\n",
      "316. skill:            4.29 | 317. small:            3.53 | 318. small campus:     5.31 | 319. social:           4.14\n",
      "320. social life:      5.48 | 321. societi:          4.83 | 322. someth:           4.66 | 323. sometim:          5.24\n",
      "324. space:            5.31 | 325. staff:            3.29 | 326. start:            4.24 | 327. still:            4.32\n",
      "328. stress:           4.05 | 329. struggl:          4.70 | 330. student:          2.80 | 331. student union:    5.31\n",
      "332. studi:            3.74 | 333. subject:          4.93 | 334. support:          2.53 | 335. sure:             4.79\n",
      "336. take:             4.88 | 337. talk:             5.39 | 338. taught:           5.31 | 339. teach:            3.91\n",
      "340. teacher:          4.66 | 341. team:             5.17 | 342. tell:             5.48 | 343. term:             5.31\n",
      "344. thing:            3.78 | 345. think:            4.03 | 346. though:           4.48 | 347. thought:          4.74\n",
      "348. throughout:       5.24 | 349. time:             2.88 | 350. time univers:     4.79 | 351. timet:            5.31\n",
      "352. tough:            5.39 | 353. toward:           5.31 | 354. town:             5.48 | 355. travel:           5.39\n",
      "356. tri:              4.55 | 357. tutor:            2.80 | 358. tutor help:       5.31 | 359. two:              5.05\n",
      "360. understand:       4.55 | 361. uni:              2.62 | 362. uni experi:       5.05 | 363. union:            5.24\n",
      "364. univers:          2.02 | 365. univers cours:    5.17 | 366. univers cumbria:  4.12 | 367. univers experi:   3.78\n",
      "368. univers experi far: 5.24 | 369. univers far:      5.05 | 370. univers life:     4.99 | 371. us:               4.38\n",
      "372. use:              4.32 | 373. wait:             5.48 | 374. walk:             5.39 | 375. want:             3.97\n",
      "376. way:              4.24 | 377. week:             4.62 | 378. welcom:           4.51 | 379. well:             3.60\n",
      "380. whole:            5.31 | 381. wish:             4.93 | 382. within:           4.88 | 383. without:          5.31\n",
      "384. wonder:           5.11 | 385. work:             3.13 | 386. workload:         5.48 | 387. worth:            5.48\n",
      "388. would:            3.15 | 389. would like:       5.31 | 390. would recommend:  4.55 | 391. year:             3.18\n"
     ]
    }
   ],
   "source": [
    "'''\n",
    "Apply tfidf transformation and compute cosine similarity matrix.\n",
    "max_df = maximum fraction of documents containing the word, for the word to be included in tfidf matrix\n",
    "min_df = minimum fraction ...\n",
    "ngram_range: We'll look at unigrams, bigrams and trigrams.\n",
    "'''\n",
    "from sklearn.feature_extraction.text import TfidfVectorizer\n",
    "from sklearn.metrics.pairwise import cosine_similarity\n",
    "\n",
    "\n",
    "tfidf_vectorizer = TfidfVectorizer( max_df=0.80, max_features=200000, min_df=0.01, stop_words=stemmed_stopwords,\n",
    "                                    analyzer='word', use_idf=True, tokenizer=tokenize_and_stem, ngram_range=(1,3))\n",
    "%time tfidf_matrix = tfidf_vectorizer.fit_transform(tweets)\n",
    "dist  = 1 - cosine_similarity(tfidf_matrix)  # Matrix with cosine similarities between all tf-idf vectors\n",
    "terms = tfidf_vectorizer.get_feature_names()\n",
    "idf   = tfidf_vectorizer.idf_\n",
    "\n",
    "print('\\nNumber of documents = %i, Number of TF-IDF features = %i' %(tfidf_matrix.shape[0],tfidf_matrix.shape[1]))\n",
    "print('\\nTF-IDF features, with scores:')\n",
    "for ind,(name,score) in enumerate(zip(terms,idf)):\n",
    "    if ind%4 != 3:\n",
    "        print('{2:3d}. {0:17} {1:.2f} | '.format(str(name)+':',score,ind),end='')\n",
    "    else:\n",
    "        print('{2:3d}. {0:17} {1:.2f}'.format(str(name)+':',score,ind))"
   ]
  },
  {
   "cell_type": "code",
   "execution_count": 38,
   "metadata": {},
   "outputs": [
    {
     "data": {
      "image/png": "[encoded data removed]",
      "text/plain": [
       "<Figure size 864x432 with 2 Axes>"
      ]
     },
     "metadata": {
      "needs_background": "light"
     },
     "output_type": "display_data"
    }
   ],
   "source": [
    "'''\n",
    "Plot of the number of features as a function of min_df and max_df in the call to TfidfVectorizer\n",
    "'''\n",
    "fig, ax = plt.subplots( nrows=1, ncols=2, figsize=(12,6) )\n",
    "mindf = [0.001,0.002,0.003,0.004,0.005,0.006,0.007,0.008,0.009,0.01,0.02,0.03,0.04,0.05,0.06,0.07,0.08,0.09,0.1]\n",
    "nfeat = [2282,966,615,446,343,273,209,175,144,127,48,20,10,7,3,3,3,1,0]\n",
    "ax[0].plot( mindf, nfeat, marker='o', markerfacecolor='b', linestyle='-', color='b', alpha=1.0 )\n",
    "ax[0].plot( 0.01, 127, marker='o', markerfacecolor='r', alpha=1.0 )\n",
    "ax[0].set_xlabel('min_df', fontsize=15)\n",
    "ax[0].set_ylabel('Number of Features', fontsize=15)\n",
    "ax[0].text(0.07,200.0,'max_df = 0.80',fontsize=15)\n",
    "maxdf = [0.01,0.0102,0.0105,0.011,0.012,0.015,0.02,0.03,0.04,0.05,0.1,0.2,0.3,0.4,0.5,0.6,0.7,0.8,0.9,0.95,0.99]\n",
    "nfeat = [0,1,8,13,29,50,79,107,117,120,127,127,127,127,127,127,127,127,127,127,128]\n",
    "ax[1].plot( maxdf, nfeat, marker='o', markerfacecolor='b', linestyle='-', color='b', alpha=1.0 )\n",
    "ax[1].plot( 0.80, 127, marker='o', markerfacecolor='r', alpha=1.0 )\n",
    "ax[1].set_xlabel('max_df', fontsize=15)\n",
    "ax[1].set_ylabel('Number of Features', fontsize=15)\n",
    "ax[1].text(0.58,11.2,'min_df = 0.01',fontsize=15)\n",
    "plt.show()\n",
    "fig.savefig('tfidf_features.png', dpi=200)"
   ]
  },
  {
   "cell_type": "code",
   "execution_count": 40,
   "metadata": {},
   "outputs": [
    {
     "name": "stdout",
     "output_type": "stream",
     "text": [
      "Dictionary(443 unique tokens: ['assign', 'enjoy', 'give', 'good', 'hard']...)\n",
      " \n",
      "abl:              210 | absolut:          416 | academ:            15 | access:           186\n",
      "accommod:         267 | achiev:           198 | activ:            138 | actual:           159\n",
      "advic:            432 | allow:            268 | along:            199 | alreadi:          168\n",
      "also:             117 | although:         118 | alway:             43 | amaz:              44\n",
      "amblesid:         394 | amount:           187 | anyon:            282 | anyth:            314\n",
      "approach:         194 | area:             244 | around:            92 | ask:              283\n",
      "aspect:           280 | assess:           391 | assign:             0 | attend:           129\n",
      "avail:             45 | away:             212 | away home:        369 | back:             321\n",
      "bad:              195 | base:             418 | beauti:           400 | becom:            312\n",
      "believ:           130 | best:              29 | better:            83 | big:              331\n",
      "bit:              304 | brilliant:        319 | came:             405 | campus:            46\n",
      "care:             260 | career:            30 | carlisl:          261 | challeng:         200\n",
      "chanc:            438 | chang:            217 | choic:             31 | choos:            408\n",
      "chose:             58 | citi:              59 | class:             32 | close:            345\n",
      "club:              84 | cohort:           346 | colleg:           218 | come:              71\n",
      "come univers:     436 | comfort:          409 | communic:         278 | complet:           77\n",
      "confid:           131 | consid:           412 | contact:          341 | content:           78\n",
      "continu:          315 | could:             85 | cours:             33 | cours good:       305\n",
      "cours great:      332 | cours tutor:      429 | cumbria:          240 | day:              236\n",
      "decis:            384 | definit:           47 | degre:            139 | depart:           262\n",
      "despit:           102 | develop:          388 | differ:            16 | difficult:        316\n",
      "done:              34 | due:               17 | easi:              48 | easier:           330\n",
      "educ:              35 | els:              441 | encourag:         237 | end:               72\n",
      "engag:            284 | enjoy:              1 | enjoy cours:       60 | enjoy everi:      219\n",
      "enjoy experi:     420 | enjoy learn:      437 | enjoy time:       271 | enjoy time univers: 272\n",
      "enjoy uni:        293 | enjoy univers:    169 | enough:           296 | environ:          352\n",
      "equip:            290 | especi:           188 | even:             323 | even though:      324\n",
      "event:             18 | ever:             201 | everi:            110 | everi minut:      202\n",
      "everyon:          181 | everyth:          203 | excel:             49 | excit:            414\n",
      "expect:           160 | expens:           239 | experi:            50 | experi far:       170\n",
      "experi good:      396 | experi great:     144 | experi univers:   234 | experienc:        220\n",
      "extra:            140 | extrem:           307 | facil:            189 | fact:             379\n",
      "famili:           401 | fantast:          238 | far:              171 | far enjoy:        325\n",
      "far good:         392 | feedback:         145 | feel:              93 | feel like:        294\n",
      "feel univers:     308 | felt:              73 | final:            344 | find:             196\n",
      "first:             36 | first year:       333 | food:             348 | forward:           79\n",
      "found:            119 | friend:            94 | friend help:      389 | friend life:      380\n",
      "full:             288 | fun:              297 | futur:            164 | futur student:    328\n",
      "gain:             172 | general:          298 | get:               86 | get involv:       359\n",
      "get know:         256 | give:               2 | given:            241 | glad:             354\n",
      "go:                61 | go univers:       227 | good:               3 | good cours:       435\n",
      "good enjoy:       360 | good experi:      213 | good facil:       214 | good far:         440\n",
      "good lectur:      108 | got:              397 | graduat:          402 | great:             62\n",
      "great experi:     221 | great friend:      95 | group:            289 | grown:            362\n",
      "half:             363 | hall:             334 | happi:             63 | happi help:       182\n",
      "hard:               4 | hard work:        120 | health:           317 | help:               5\n",
      "help support:     423 | high:             228 | high recommend:   279 | home:             121\n",
      "hope:             421 | hour:             377 | howev:            257 | huge:             430\n",
      "improv:            87 | incred:           204 | independ:         381 | individu:         263\n",
      "inform:           309 | interact:         422 | interest:         165 | involv:           361\n",
      "issu:             393 | job:              442 | keep:             329 | kind:             183\n",
      "know:             103 | knowledg:         407 | lack:             111 | lancast:          112\n",
      "last:             398 | learn:            173 | learn lot:        174 | learnt:           132\n",
      "learnt lot:       133 | leav:             374 | lectur:             6 | lectur help:      424\n",
      "left:             306 | less:             122 | level:            382 | librari:          291\n",
      "life:             134 | like:              19 | littl:            104 | live:             326\n",
      "load:             222 | local:            390 | locat:            123 | long:             124\n",
      "look:              80 | look forward:      81 | lot:               88 | lot new:          146\n",
      "lot support:      147 | love:              20 | love cours:       184 | love everi:       205\n",
      "love uni:         439 | love univers:      96 | made:              64 | made friend:      300\n",
      "made great:        65 | made great friend:  97 | made lot:         428 | major:            417\n",
      "make:              89 | make friend:      383 | make sure:        141 | manag:            148\n",
      "mani:             185 | mate:             258 | matur:             51 | matur student:     52\n",
      "may:              235 | mean:             386 | meet:             229 | meet new:         230\n",
      "meet new peopl:   231 | mental:           364 | met:              149 | minut:            206\n",
      "miss:             350 | mix:                7 | modul:            419 | moment:           310\n",
      "money:            395 | month:            327 | move:             207 | move away:        370\n",
      "much:             161 | nan:              431 | need:             150 | never:            335\n",
      "new:              151 | new friend:       166 | new peopl:        152 | next:             250\n",
      "nice:             105 | night:             21 | noth:             410 | number:            98\n",
      "nurs:             375 | offer:             22 | often:            113 | ok:               301\n",
      "okay:             336 | one:              190 | open:             208 | opportun:         215\n",
      "organis:          114 | outdoor:          425 | outsid:           273 | overal:           153\n",
      "overal experi:    245 | overal univers:   154 | overal univers experi: 155 | part:              99\n",
      "part univers:     100 | passion:          426 | pay:              366 | peer:             175\n",
      "peopl:            156 | person:             8 | place:            223 | placement:          9\n",
      "plenti:           246 | poor:             413 | posit:            176 | possibl:          209\n",
      "practic:           10 | prepar:           322 | pretti:           356 | problem:          216\n",
      "profession:       264 | provid:           115 | put:              302 | question:         285\n",
      "quick:            342 | quiet:            367 | quit:             373 | rang:             357\n",
      "rather:           265 | read:             142 | realli:            66 | realli enjoy:      67\n",
      "realli enjoy cours:  68 | realli enjoy time: 292 | realli enjoy univers: 177 | realli good:      355\n",
      "realli help:      320 | reason:           266 | receiv:           157 | recommend:         37\n",
      "recommend univers:  53 | regard:           378 | regret:           251 | relev:            349\n",
      "resourc:           54 | return:            38 | right:             39 | run:               90\n",
      "sad:               74 | say:              311 | school:           337 | second:            75\n",
      "second year:      318 | see:              252 | seem:             385 | session:           11\n",
      "set:              403 | settl:            295 | short:            224 | side:             232\n",
      "sinc:             365 | site:             434 | situat:           106 | size:             269\n",
      "skill:            313 | small:            107 | small campus:     270 | smaller:          433\n",
      "social:           135 | social life:      136 | societi:           69 | someth:            55\n",
      "sometim:          411 | sort:             233 | space:            299 | spend:            247\n",
      "staff:             76 | start:            137 | still:            225 | stress:           340\n",
      "struggl:          371 | student:           23 | student union:    162 | studi:            242\n",
      "subject:          197 | success:          406 | support:           24 | support help:     287\n",
      "support tutor:    158 | sure:             143 | take:             275 | talk:             286\n",
      "taught:           427 | teach:             25 | teacher:          101 | team:             125\n",
      "tell:             253 | term:             116 | thing:             40 | think:            178\n",
      "thorough:         387 | though:            91 | thought:          372 | throughout:       404\n",
      "time:              26 | time univers:      27 | timet:            338 | tough:            259\n",
      "toward:           254 | town:             191 | travel:           339 | tri:              303\n",
      "tutor:             12 | tutor good:       276 | tutor help:        13 | two:              192\n",
      "undergradu:       368 | understand:       351 | uni:               14 | uni experi:       281\n",
      "uni good:         376 | uni life:         415 | union:            163 | univers:           28\n",
      "univers cours:    343 | univers cumbria:  243 | univers experi:   126 | univers experi far: 226\n",
      "univers far:      347 | univers life:     167 | us:               193 | use:               56\n",
      "wait:             255 | walk:             248 | want:              82 | way:              127\n",
      "week:             399 | welcom:            57 | well:             179 | whole:            358\n",
      "wish:              70 | within:           249 | without:          274 | wonder:           109\n",
      "work:             128 | workload:         277 | worth:            353 | would:             41\n",
      "would like:       211 | would recommend:   42 | year:             180 | "
     ]
    },
    {
     "name": "stderr",
     "output_type": "stream",
     "text": [
      "/Users/natali/anaconda3/envs/py37/lib/python3.6/site-packages/ipykernel_launcher.py:10: DeprecationWarning: generator 'ngrams' raised StopIteration\n",
      "  # Remove the CWD from sys.path while we load stuff.\n"
     ]
    }
   ],
   "source": [
    "import nltk\n",
    "from gensim import corpora\n",
    "\n",
    "def ngrams(tokens, n):\n",
    "    \"\"\"Extend a list of tokens with its own space-separated i-grams, where i = 2,...,n.\"\"\"\n",
    "    tokens1 = tokens[:]\n",
    "    if n > 1:\n",
    "        tokens0 = tokens[:]\n",
    "        for i in range(2,n+1):\n",
    "            tokens1.extend([' '.join(a) for a in nltk.ngrams(tokens0,i)])\n",
    "    return tokens1\n",
    "\n",
    "# Extend tweets with n-grams.\n",
    "extended_tweets  = [ngrams(tweet,3) for tweet in filtered_tweets]\n",
    "\n",
    "# Build dictionary for gensim.\n",
    "dictionary       = corpora.Dictionary(extended_tweets)\n",
    "num_below        = int( 0.01 * len(extended_tweets) )\n",
    "dictionary.filter_extremes(no_below=num_below, no_above=0.80, keep_n=None)\n",
    "n_terms          = len(dictionary)\n",
    "n_docs           = len(extended_tweets)\n",
    "\n",
    "# Print some info.\n",
    "print(dictionary)\n",
    "print(' ')\n",
    "ind = 0\n",
    "for key,value in sorted(dictionary.token2id.items()):\n",
    "    if ind%4 != 3:\n",
    "        print('{0:17} {1:3d} | '.format(key+\":\",value),end='')\n",
    "    else:\n",
    "        print('{0:17} {1:3d}'.format(key+\":\",value))\n",
    "    ind += 1"
   ]
  },
  {
   "cell_type": "code",
   "execution_count": 42,
   "metadata": {},
   "outputs": [
    {
     "data": {
      "text/plain": [
       "dict_items([('assign', 0), ('enjoy', 1), ('give', 2), ('good', 3), ('hard', 4), ('help', 5), ('lectur', 6), ('mix', 7), ('person', 8), ('placement', 9), ('practic', 10), ('session', 11), ('tutor', 12), ('tutor help', 13), ('uni', 14), ('academ', 15), ('differ', 16), ('due', 17), ('event', 18), ('like', 19), ('love', 20), ('night', 21), ('offer', 22), ('student', 23), ('support', 24), ('teach', 25), ('time', 26), ('time univers', 27), ('univers', 28), ('best', 29), ('career', 30), ('choic', 31), ('class', 32), ('cours', 33), ('done', 34), ('educ', 35), ('first', 36), ('recommend', 37), ('return', 38), ('right', 39), ('thing', 40), ('would', 41), ('would recommend', 42), ('alway', 43), ('amaz', 44), ('avail', 45), ('campus', 46), ('definit', 47), ('easi', 48), ('excel', 49), ('experi', 50), ('matur', 51), ('matur student', 52), ('recommend univers', 53), ('resourc', 54), ('someth', 55), ('use', 56), ('welcom', 57), ('chose', 58), ('citi', 59), ('enjoy cours', 60), ('go', 61), ('great', 62), ('happi', 63), ('made', 64), ('made great', 65), ('realli', 66), ('realli enjoy', 67), ('realli enjoy cours', 68), ('societi', 69), ('wish', 70), ('come', 71), ('end', 72), ('felt', 73), ('sad', 74), ('second', 75), ('staff', 76), ('complet', 77), ('content', 78), ('forward', 79), ('look', 80), ('look forward', 81), ('want', 82), ('better', 83), ('club', 84), ('could', 85), ('get', 86), ('improv', 87), ('lot', 88), ('make', 89), ('run', 90), ('though', 91), ('around', 92), ('feel', 93), ('friend', 94), ('great friend', 95), ('love univers', 96), ('made great friend', 97), ('number', 98), ('part', 99), ('part univers', 100), ('teacher', 101), ('despit', 102), ('know', 103), ('littl', 104), ('nice', 105), ('situat', 106), ('small', 107), ('good lectur', 108), ('wonder', 109), ('everi', 110), ('lack', 111), ('lancast', 112), ('often', 113), ('organis', 114), ('provid', 115), ('term', 116), ('also', 117), ('although', 118), ('found', 119), ('hard work', 120), ('home', 121), ('less', 122), ('locat', 123), ('long', 124), ('team', 125), ('univers experi', 126), ('way', 127), ('work', 128), ('attend', 129), ('believ', 130), ('confid', 131), ('learnt', 132), ('learnt lot', 133), ('life', 134), ('social', 135), ('social life', 136), ('start', 137), ('activ', 138), ('degre', 139), ('extra', 140), ('make sure', 141), ('read', 142), ('sure', 143), ('experi great', 144), ('feedback', 145), ('lot new', 146), ('lot support', 147), ('manag', 148), ('met', 149), ('need', 150), ('new', 151), ('new peopl', 152), ('overal', 153), ('overal univers', 154), ('overal univers experi', 155), ('peopl', 156), ('receiv', 157), ('support tutor', 158), ('actual', 159), ('expect', 160), ('much', 161), ('student union', 162), ('union', 163), ('futur', 164), ('interest', 165), ('new friend', 166), ('univers life', 167), ('alreadi', 168), ('enjoy univers', 169), ('experi far', 170), ('far', 171), ('gain', 172), ('learn', 173), ('learn lot', 174), ('peer', 175), ('posit', 176), ('realli enjoy univers', 177), ('think', 178), ('well', 179), ('year', 180), ('everyon', 181), ('happi help', 182), ('kind', 183), ('love cours', 184), ('mani', 185), ('access', 186), ('amount', 187), ('especi', 188), ('facil', 189), ('one', 190), ('town', 191), ('two', 192), ('us', 193), ('approach', 194), ('bad', 195), ('find', 196), ('subject', 197), ('achiev', 198), ('along', 199), ('challeng', 200), ('ever', 201), ('everi minut', 202), ('everyth', 203), ('incred', 204), ('love everi', 205), ('minut', 206), ('move', 207), ('open', 208), ('possibl', 209), ('abl', 210), ('would like', 211), ('away', 212), ('good experi', 213), ('good facil', 214), ('opportun', 215), ('problem', 216), ('chang', 217), ('colleg', 218), ('enjoy everi', 219), ('experienc', 220), ('great experi', 221), ('load', 222), ('place', 223), ('short', 224), ('still', 225), ('univers experi far', 226), ('go univers', 227), ('high', 228), ('meet', 229), ('meet new', 230), ('meet new peopl', 231), ('side', 232), ('sort', 233), ('experi univers', 234), ('may', 235), ('day', 236), ('encourag', 237), ('fantast', 238), ('expens', 239), ('cumbria', 240), ('given', 241), ('studi', 242), ('univers cumbria', 243), ('area', 244), ('overal experi', 245), ('plenti', 246), ('spend', 247), ('walk', 248), ('within', 249), ('next', 250), ('regret', 251), ('see', 252), ('tell', 253), ('toward', 254), ('wait', 255), ('get know', 256), ('howev', 257), ('mate', 258), ('tough', 259), ('care', 260), ('carlisl', 261), ('depart', 262), ('individu', 263), ('profession', 264), ('rather', 265), ('reason', 266), ('accommod', 267), ('allow', 268), ('size', 269), ('small campus', 270), ('enjoy time', 271), ('enjoy time univers', 272), ('outsid', 273), ('without', 274), ('take', 275), ('tutor good', 276), ('workload', 277), ('communic', 278), ('high recommend', 279), ('aspect', 280), ('uni experi', 281), ('anyon', 282), ('ask', 283), ('engag', 284), ('question', 285), ('talk', 286), ('support help', 287), ('full', 288), ('group', 289), ('equip', 290), ('librari', 291), ('realli enjoy time', 292), ('enjoy uni', 293), ('feel like', 294), ('settl', 295), ('enough', 296), ('fun', 297), ('general', 298), ('space', 299), ('made friend', 300), ('ok', 301), ('put', 302), ('tri', 303), ('bit', 304), ('cours good', 305), ('left', 306), ('extrem', 307), ('feel univers', 308), ('inform', 309), ('moment', 310), ('say', 311), ('becom', 312), ('skill', 313), ('anyth', 314), ('continu', 315), ('difficult', 316), ('health', 317), ('second year', 318), ('brilliant', 319), ('realli help', 320), ('back', 321), ('prepar', 322), ('even', 323), ('even though', 324), ('far enjoy', 325), ('live', 326), ('month', 327), ('futur student', 328), ('keep', 329), ('easier', 330), ('big', 331), ('cours great', 332), ('first year', 333), ('hall', 334), ('never', 335), ('okay', 336), ('school', 337), ('timet', 338), ('travel', 339), ('stress', 340), ('contact', 341), ('quick', 342), ('univers cours', 343), ('final', 344), ('close', 345), ('cohort', 346), ('univers far', 347), ('food', 348), ('relev', 349), ('miss', 350), ('understand', 351), ('environ', 352), ('worth', 353), ('glad', 354), ('realli good', 355), ('pretti', 356), ('rang', 357), ('whole', 358), ('get involv', 359), ('good enjoy', 360), ('involv', 361), ('grown', 362), ('half', 363), ('mental', 364), ('sinc', 365), ('pay', 366), ('quiet', 367), ('undergradu', 368), ('away home', 369), ('move away', 370), ('struggl', 371), ('thought', 372), ('quit', 373), ('leav', 374), ('nurs', 375), ('uni good', 376), ('hour', 377), ('regard', 378), ('fact', 379), ('friend life', 380), ('independ', 381), ('level', 382), ('make friend', 383), ('decis', 384), ('seem', 385), ('mean', 386), ('thorough', 387), ('develop', 388), ('friend help', 389), ('local', 390), ('assess', 391), ('far good', 392), ('issu', 393), ('amblesid', 394), ('money', 395), ('experi good', 396), ('got', 397), ('last', 398), ('week', 399), ('beauti', 400), ('famili', 401), ('graduat', 402), ('set', 403), ('throughout', 404), ('came', 405), ('success', 406), ('knowledg', 407), ('choos', 408), ('comfort', 409), ('noth', 410), ('sometim', 411), ('consid', 412), ('poor', 413), ('excit', 414), ('uni life', 415), ('absolut', 416), ('major', 417), ('base', 418), ('modul', 419), ('enjoy experi', 420), ('hope', 421), ('interact', 422), ('help support', 423), ('lectur help', 424), ('outdoor', 425), ('passion', 426), ('taught', 427), ('made lot', 428), ('cours tutor', 429), ('huge', 430), ('nan', 431), ('advic', 432), ('smaller', 433), ('site', 434), ('good cours', 435), ('come univers', 436), ('enjoy learn', 437), ('chanc', 438), ('love uni', 439), ('good far', 440), ('els', 441), ('job', 442)])"
      ]
     },
     "execution_count": 42,
     "metadata": {},
     "output_type": "execute_result"
    }
   ],
   "source": [
    "dictionary.token2id.items()"
   ]
  },
  {
   "cell_type": "code",
   "execution_count": 49,
   "metadata": {},
   "outputs": [],
   "source": [
    "from sklearn.feature_extraction.text import TfidfVectorizer, CountVectorizer\n",
    "\n",
    "no_features = 1000\n",
    "\n",
    "# NMF is able to use tf-idf\n",
    "tfidf_vectorizer = TfidfVectorizer(max_df=0.95, min_df=2, max_features=no_features, stop_words='english')\n",
    "tfidf = tfidf_vectorizer.fit_transform(tweets)\n",
    "tfidf_feature_names = tfidf_vectorizer.get_feature_names()\n",
    "\n",
    "# LDA can only use raw term counts for LDA because it is a probabilistic graphical model\n",
    "tf_vectorizer = CountVectorizer(max_df=0.95, min_df=2, max_features=no_features, stop_words='english')\n",
    "tf = tf_vectorizer.fit_transform(tweets)\n",
    "tf_feature_names = tf_vectorizer.get_feature_names()"
   ]
  },
  {
   "cell_type": "code",
   "execution_count": 77,
   "metadata": {},
   "outputs": [
    {
     "name": "stderr",
     "output_type": "stream",
     "text": [
      "/Users/natali/anaconda3/envs/py37/lib/python3.6/site-packages/sklearn/decomposition/online_lda.py:314: DeprecationWarning: n_topics has been renamed to n_components in version 0.19 and will be removed in 0.21\n",
      "  DeprecationWarning)\n"
     ]
    }
   ],
   "source": [
    "from sklearn.decomposition import NMF, LatentDirichletAllocation\n",
    "import lda\n",
    "no_topics = 5\n",
    "\n",
    "# Run NMF\n",
    "nmf = NMF(n_components=no_topics, random_state=1, alpha=.1, l1_ratio=.5, init='nndsvd').fit(tfidf)\n",
    "\n",
    "# Run LDA\n",
    "lda = LatentDirichletAllocation(n_topics=no_topics, max_iter=5, learning_method='online', learning_offset=50.,random_state=0).fit(tf)"
   ]
  },
  {
   "cell_type": "code",
   "execution_count": 73,
   "metadata": {},
   "outputs": [],
   "source": [
    "tsne_model = TSNE(n_components=2, verbose=1, random_state=0, angle=.99, init='pca')"
   ]
  },
  {
   "cell_type": "code",
   "execution_count": 78,
   "metadata": {},
   "outputs": [
    {
     "data": {
      "text/plain": [
       "array([[ 0.31862089,  1.03410045,  1.11231634, ...,  0.31262461,\n",
       "         0.28626526,  0.31959158],\n",
       "       [ 0.29383576,  0.30651215,  0.45798448, ...,  0.28717979,\n",
       "         0.31257038,  0.29134814],\n",
       "       [ 0.30116616,  0.27432382,  0.29907705, ...,  1.08050835,\n",
       "         0.30273873,  0.27729545],\n",
       "       [ 3.4862341 ,  0.33458369, 25.96780229, ...,  2.00333828,\n",
       "         5.91538063,  2.76929776],\n",
       "       [ 0.29434428,  1.21223255,  0.31259871, ...,  0.28872615,\n",
       "         0.4862656 ,  0.29997966]])"
      ]
     },
     "execution_count": 78,
     "metadata": {},
     "output_type": "execute_result"
    }
   ],
   "source": [
    "lda.components_"
   ]
  },
  {
   "cell_type": "code",
   "execution_count": 81,
   "metadata": {},
   "outputs": [],
   "source": [
    "X_topics = lda.components_"
   ]
  },
  {
   "cell_type": "code",
   "execution_count": 82,
   "metadata": {},
   "outputs": [
    {
     "name": "stdout",
     "output_type": "stream",
     "text": [
      "[t-SNE] Computing 4 nearest neighbors...\n",
      "[t-SNE] Indexed 5 samples in 0.000s...\n",
      "[t-SNE] Computed neighbors for 5 samples in 0.001s...\n",
      "[t-SNE] Computed conditional probabilities for sample 5 / 5\n",
      "[t-SNE] Mean sigma: 1125899906842624.000000\n",
      "[t-SNE] KL divergence after 250 iterations with early exaggeration: 44.327560\n",
      "[t-SNE] KL divergence after 1000 iterations: 0.101658\n"
     ]
    }
   ],
   "source": [
    "tsne_lda = tsne_model.fit_transform(X_topics)"
   ]
  },
  {
   "cell_type": "code",
   "execution_count": 83,
   "metadata": {},
   "outputs": [],
   "source": [
    "n_top_words = 5 # number of keywords we show\n",
    "\n",
    "# 20 colors\n",
    "colormap = np.array([\n",
    "    \"#1f77b4\", \"#aec7e8\", \"#ff7f0e\", \"#ffbb78\", \"#2ca02c\",\n",
    "    \n",
    "])"
   ]
  },
  {
   "cell_type": "code",
   "execution_count": 87,
   "metadata": {},
   "outputs": [
    {
     "data": {
      "text/plain": [
       "5"
      ]
     },
     "execution_count": 87,
     "metadata": {},
     "output_type": "execute_result"
    }
   ],
   "source": [
    "X_topics.shape[0]"
   ]
  },
  {
   "cell_type": "code",
   "execution_count": 93,
   "metadata": {},
   "outputs": [],
   "source": [
    "_lda_keys = []\n",
    "for i in range(X_topics.shape[0]):\n",
    "    _lda_keys +=  lda.components_[i].argmax(),"
   ]
  },
  {
   "cell_type": "code",
   "execution_count": 91,
   "metadata": {},
   "outputs": [
    {
     "data": {
      "text/plain": [
       "3"
      ]
     },
     "execution_count": 91,
     "metadata": {},
     "output_type": "execute_result"
    }
   ],
   "source": [
    "topic"
   ]
  },
  {
   "cell_type": "code",
   "execution_count": 95,
   "metadata": {},
   "outputs": [
    {
     "ename": "AttributeError",
     "evalue": "'LatentDirichletAllocation' object has no attribute 'topic_word_'",
     "output_type": "error",
     "traceback": [
      "\u001b[0;31m---------------------------------------------------------------------------\u001b[0m",
      "\u001b[0;31mAttributeError\u001b[0m                            Traceback (most recent call last)",
      "\u001b[0;32m<ipython-input-95-d72761fb55ae>\u001b[0m in \u001b[0;36m<module>\u001b[0;34m\u001b[0m\n\u001b[1;32m      1\u001b[0m \u001b[0mtopic_summaries\u001b[0m \u001b[0;34m=\u001b[0m \u001b[0;34m[\u001b[0m\u001b[0;34m]\u001b[0m\u001b[0;34m\u001b[0m\u001b[0;34m\u001b[0m\u001b[0m\n\u001b[0;32m----> 2\u001b[0;31m \u001b[0mtopic_word\u001b[0m \u001b[0;34m=\u001b[0m \u001b[0mlda\u001b[0m\u001b[0;34m.\u001b[0m\u001b[0mtopic_word_\u001b[0m  \u001b[0;31m# all topic words\u001b[0m\u001b[0;34m\u001b[0m\u001b[0;34m\u001b[0m\u001b[0m\n\u001b[0m\u001b[1;32m      3\u001b[0m \u001b[0mvocab\u001b[0m \u001b[0;34m=\u001b[0m \u001b[0mcvectorizer\u001b[0m\u001b[0;34m.\u001b[0m\u001b[0mget_feature_names\u001b[0m\u001b[0;34m(\u001b[0m\u001b[0;34m)\u001b[0m\u001b[0;34m\u001b[0m\u001b[0;34m\u001b[0m\u001b[0m\n\u001b[1;32m      4\u001b[0m \u001b[0;32mfor\u001b[0m \u001b[0mi\u001b[0m\u001b[0;34m,\u001b[0m \u001b[0mtopic_dist\u001b[0m \u001b[0;32min\u001b[0m \u001b[0menumerate\u001b[0m\u001b[0;34m(\u001b[0m\u001b[0mtopic_word\u001b[0m\u001b[0;34m)\u001b[0m\u001b[0;34m:\u001b[0m\u001b[0;34m\u001b[0m\u001b[0;34m\u001b[0m\u001b[0m\n\u001b[1;32m      5\u001b[0m   \u001b[0mtopic_words\u001b[0m \u001b[0;34m=\u001b[0m \u001b[0mnp\u001b[0m\u001b[0;34m.\u001b[0m\u001b[0marray\u001b[0m\u001b[0;34m(\u001b[0m\u001b[0mvocab\u001b[0m\u001b[0;34m)\u001b[0m\u001b[0;34m[\u001b[0m\u001b[0mnp\u001b[0m\u001b[0;34m.\u001b[0m\u001b[0margsort\u001b[0m\u001b[0;34m(\u001b[0m\u001b[0mtopic_dist\u001b[0m\u001b[0;34m)\u001b[0m\u001b[0;34m]\u001b[0m\u001b[0;34m[\u001b[0m\u001b[0;34m:\u001b[0m\u001b[0;34m-\u001b[0m\u001b[0;34m(\u001b[0m\u001b[0mn_top_words\u001b[0m \u001b[0;34m+\u001b[0m \u001b[0;36m1\u001b[0m\u001b[0;34m)\u001b[0m\u001b[0;34m:\u001b[0m\u001b[0;34m-\u001b[0m\u001b[0;36m1\u001b[0m\u001b[0;34m]\u001b[0m \u001b[0;31m# get!\u001b[0m\u001b[0;34m\u001b[0m\u001b[0;34m\u001b[0m\u001b[0m\n",
      "\u001b[0;31mAttributeError\u001b[0m: 'LatentDirichletAllocation' object has no attribute 'topic_word_'"
     ]
    }
   ],
   "source": [
    "topic_summaries = []\n",
    "topic_word = lda_model.topic_word_  # all topic words\n",
    "vocab = cvectorizer.get_feature_names()\n",
    "for i, topic_dist in enumerate(topic_word):\n",
    "  topic_words = np.array(vocab)[np.argsort(topic_dist)][:-(n_top_words + 1):-1] # get!\n",
    "  topic_summaries.append(' '.join(topic_words)) # append!"
   ]
  },
  {
   "cell_type": "code",
   "execution_count": 89,
   "metadata": {},
   "outputs": [
    {
     "name": "stdout",
     "output_type": "stream",
     "text": [
      "Topic 0\n",
      "nan zone experiences far fantastic\n",
      "Topic 1\n",
      "university course experience uni feel\n",
      "Topic 2\n",
      "good far facilities experience uni\n",
      "Topic 3\n",
      "great far met fun uni\n",
      "Topic 4\n",
      "really enjoyed enjoying course ve\n",
      "Topic 0\n",
      "brill alright answer terms stress\n",
      "Topic 1\n",
      "societies good flat university extra\n",
      "Topic 2\n",
      "nan characters needed worst poorly\n",
      "Topic 3\n",
      "university good course experience uni\n",
      "Topic 4\n",
      "behaviour methods different plan talk\n"
     ]
    }
   ],
   "source": [
    "def display_topics(model, feature_names, no_top_words):\n",
    "    for topic_idx, topic in enumerate(model.components_):\n",
    "        print(\"Topic {}\".format(topic_idx))\n",
    "        print(\" \".join([feature_names[i]\n",
    "                        for i in topic.argsort()[:-no_top_words - 1:-1]]))\n",
    "\n",
    "no_top_words = 5\n",
    "display_topics(nmf, tfidf_feature_names, no_top_words)\n",
    "display_topics(lda, tf_feature_names, no_top_words)"
   ]
  },
  {
   "cell_type": "code",
   "execution_count": null,
   "metadata": {},
   "outputs": [],
   "source": []
  }
 ],
 "metadata": {
  "kernelspec": {
   "display_name": "Python 3",
   "language": "python",
   "name": "python3"
  },
  "language_info": {
   "codemirror_mode": {
    "name": "ipython",
    "version": 3
   },
   "file_extension": ".py",
   "mimetype": "text/x-python",
   "name": "python",
   "nbconvert_exporter": "python",
   "pygments_lexer": "ipython3",
   "version": "3.6.8"
  }
 },
 "nbformat": 4,
 "nbformat_minor": 2
}
