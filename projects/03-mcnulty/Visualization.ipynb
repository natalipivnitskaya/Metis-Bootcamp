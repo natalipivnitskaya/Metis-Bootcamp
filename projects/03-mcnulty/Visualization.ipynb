{
 "cells": [
  {
   "cell_type": "code",
   "execution_count": 1,
   "metadata": {},
   "outputs": [],
   "source": [
    "import plotly.plotly as py\n",
    "import plotly.graph_objs as go\n",
    "\n",
    "import numpy as np\n",
    "import pandas as pd\n",
    "from plotly.offline import download_plotlyjs, init_notebook_mode, plot, iplot\n",
    "import plotly; \n",
    "plotly.tools.set_credentials_file(username='pivnitskaya.natali', api_key='cEiWrsESnyPqLGFYu6n7')"
   ]
  },
  {
   "cell_type": "code",
   "execution_count": 2,
   "metadata": {},
   "outputs": [],
   "source": [
    "data = pd.read_csv('data/data_small.csv', sep = ',', index_col = 0)"
   ]
  },
  {
   "cell_type": "code",
   "execution_count": 3,
   "metadata": {},
   "outputs": [],
   "source": [
    "df = pd.read_csv('data/df.csv', index_col = 0)"
   ]
  },
  {
   "cell_type": "code",
   "execution_count": 4,
   "metadata": {},
   "outputs": [],
   "source": [
    "pl = pd.read_csv('data/initially_given/facts.csv', sep = \";\", header = None)"
   ]
  },
  {
   "cell_type": "code",
   "execution_count": 5,
   "metadata": {},
   "outputs": [],
   "source": [
    "#For visialization on tableau\n",
    "a = data[data['msisdn'] == 158501551109]\n",
    "b = data[data['msisdn'] == 158505222935]\n",
    "viz = pd.concat([a,b])\n",
    "viz.to_csv('data/viz.csv')"
   ]
  },
  {
   "cell_type": "markdown",
   "metadata": {},
   "source": [
    "#### Scatterplot of features"
   ]
  },
  {
   "cell_type": "code",
   "execution_count": 6,
   "metadata": {},
   "outputs": [
    {
     "name": "stderr",
     "output_type": "stream",
     "text": [
      "/Users/natali/anaconda3/envs/py37/lib/python3.6/site-packages/IPython/core/display.py:689: UserWarning:\n",
      "\n",
      "Consider using IPython.display.IFrame instead\n",
      "\n"
     ]
    },
    {
     "data": {
      "text/html": [
       "<iframe id=\"igraph\" scrolling=\"no\" style=\"border:none;\" seamless=\"seamless\" src=\"https://plot.ly/~pivnitskaya.natali/3.embed\" height=\"600px\" width=\"700px\"></iframe>"
      ],
      "text/plain": [
       "<plotly.tools.PlotlyDisplay object>"
      ]
     },
     "execution_count": 6,
     "metadata": {},
     "output_type": "execute_result"
    }
   ],
   "source": [
    "x1 = df[df['target'] == 0]['intersect_loc']\n",
    "y1 = df[df['target'] == 0]['time+loc_15']\n",
    "z1 = df[df['target'] == 0]['time+log+angle']\n",
    "\n",
    "no = go.Scatter3d(\n",
    "    x=x1,\n",
    "    y=z1,\n",
    "    z=y1,\n",
    "    mode='markers',\n",
    "    name = 'Different people',\n",
    "    marker=dict(\n",
    "        color='rgb(204, 204, 204)',\n",
    "        size=8,\n",
    "        symbol='circle',\n",
    "        line=dict(\n",
    "            color='rgb(127, 127, 127)',\n",
    "            width=1\n",
    "        ),\n",
    "        opacity=0.9\n",
    "    )\n",
    ")\n",
    "\n",
    "x2 = df[df['target'] == 1]['intersect_loc']\n",
    "y2 = df[df['target'] == 1]['time+loc_15']\n",
    "z2 = df[df['target'] == 1]['time+log+angle']\n",
    "\n",
    "yes = go.Scatter3d(\n",
    "    x=x2,\n",
    "    y=z2,\n",
    "    z=y2,\n",
    "    mode='markers',\n",
    "    name = 'Same person',\n",
    "    marker=dict(\n",
    "        color='#1f77b4',\n",
    "        size=8,\n",
    "        line=dict(\n",
    "            color='rgb(127, 127, 127)',\n",
    "            width=0.5\n",
    "        ),\n",
    "        opacity=0.8\n",
    "    \n",
    "    )\n",
    ")\n",
    "data = [no, yes]\n",
    "layout = go.Layout(legend=dict(orientation=\"h\"),\n",
    "                    scene = dict(\n",
    "                    xaxis = dict(title='Location'),\n",
    "                    yaxis = dict(title='Angels'),\n",
    "                    zaxis = dict(title='Time'),),\n",
    "                    width=700,\n",
    "                    height = 600,\n",
    "                   \n",
    "                    margin=dict(\n",
    "                    r=25, l=45,\n",
    "                    b=80, t=0)\n",
    "                  )\n",
    "\n",
    "fig = go.Figure(data=data, layout=layout)\n",
    "py.iplot(fig, filename='simple-3d-scatter')"
   ]
  },
  {
   "cell_type": "code",
   "execution_count": null,
   "metadata": {},
   "outputs": [],
   "source": []
  }
 ],
 "metadata": {
  "kernelspec": {
   "display_name": "Python 3",
   "language": "python",
   "name": "python3"
  },
  "language_info": {
   "codemirror_mode": {
    "name": "ipython",
    "version": 3
   },
   "file_extension": ".py",
   "mimetype": "text/x-python",
   "name": "python",
   "nbconvert_exporter": "python",
   "pygments_lexer": "ipython3",
   "version": "3.6.8"
  }
 },
 "nbformat": 4,
 "nbformat_minor": 2
}
