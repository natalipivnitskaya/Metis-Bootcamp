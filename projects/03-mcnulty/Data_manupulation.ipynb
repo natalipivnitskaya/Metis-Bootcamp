{
 "cells": [
  {
   "cell_type": "code",
   "execution_count": 601,
   "metadata": {},
   "outputs": [],
   "source": [
    "import numpy as np\n",
    "import pandas as pd\n",
    "%matplotlib inline\n",
    "import numpy as np\n",
    "import matplotlib.pyplot as plt\n",
    "#conda install Basemap\n",
    "#from mpl_toolkits.basemap import Basemap\n",
    "from itertools import combinations\n",
    "pd.set_option('display.max_columns', 20000)\n",
    "import datetime"
   ]
  },
  {
   "cell_type": "code",
   "execution_count": 998,
   "metadata": {},
   "outputs": [
    {
     "name": "stderr",
     "output_type": "stream",
     "text": [
      "/Users/natali/anaconda3/lib/python3.7/site-packages/ipykernel_launcher.py:1: ParserWarning: Falling back to the 'python' engine because the 'c' engine does not support regex separators (separators > 1 char and different from '\\s+' are interpreted as regex); you can avoid this warning by specifying engine='python'.\n",
      "  \"\"\"Entry point for launching an IPython kernel.\n"
     ]
    }
   ],
   "source": [
    "eq = pd.read_csv('data/03_equipment.csv', sep = ',\"')"
   ]
  },
  {
   "cell_type": "code",
   "execution_count": 603,
   "metadata": {},
   "outputs": [],
   "source": [
    "data = pd.read_csv('data/02_Data_test.csv', sep = ';')"
   ]
  },
  {
   "cell_type": "code",
   "execution_count": 604,
   "metadata": {},
   "outputs": [],
   "source": [
    "positive_labels = pd.read_csv('data/01_Facts.csv', sep = \";\", header = None)"
   ]
  },
  {
   "cell_type": "markdown",
   "metadata": {},
   "source": [
    "We don't have any information about this number 158528852857, 158530004641 in the train data, however it is in positive labels."
   ]
  },
  {
   "cell_type": "code",
   "execution_count": 605,
   "metadata": {},
   "outputs": [],
   "source": [
    "to_delete = []\n",
    "for i, row in enumerate(positive_labels.values):\n",
    "    if len(data[data['msisdn'] == row[0]]) == 0:\n",
    "        to_delete.append(row[0])\n",
    "    if len(data[data['msisdn'] == row[1]]) == 0:\n",
    "        to_delete.append(row[1])"
   ]
  },
  {
   "cell_type": "code",
   "execution_count": 606,
   "metadata": {},
   "outputs": [
    {
     "data": {
      "text/plain": [
       "[158528852857, 158530004641]"
      ]
     },
     "execution_count": 606,
     "metadata": {},
     "output_type": "execute_result"
    }
   ],
   "source": [
    "to_delete"
   ]
  },
  {
   "cell_type": "code",
   "execution_count": 607,
   "metadata": {},
   "outputs": [],
   "source": [
    "positive_labels = positive_labels.drop(positive_labels[positive_labels[1].isin(to_delete)].index[0], axis = 0).reset_index(drop = True)\n",
    "positive_labels = positive_labels.drop(positive_labels[positive_labels[1].isin(to_delete)].index[0], axis = 0).reset_index(drop = True)"
   ]
  },
  {
   "cell_type": "code",
   "execution_count": 608,
   "metadata": {},
   "outputs": [
    {
     "data": {
      "text/html": [
       "<div>\n",
       "<style scoped>\n",
       "    .dataframe tbody tr th:only-of-type {\n",
       "        vertical-align: middle;\n",
       "    }\n",
       "\n",
       "    .dataframe tbody tr th {\n",
       "        vertical-align: top;\n",
       "    }\n",
       "\n",
       "    .dataframe thead th {\n",
       "        text-align: right;\n",
       "    }\n",
       "</style>\n",
       "<table border=\"1\" class=\"dataframe\">\n",
       "  <thead>\n",
       "    <tr style=\"text-align: right;\">\n",
       "      <th></th>\n",
       "      <th>lac</th>\n",
       "      <th>cid</th>\n",
       "      <th>msisdn</th>\n",
       "      <th>imei</th>\n",
       "      <th>event_type</th>\n",
       "      <th>tstamp</th>\n",
       "      <th>long</th>\n",
       "      <th>lat</th>\n",
       "      <th>max_dist</th>\n",
       "      <th>cell_type</th>\n",
       "      <th>start_angle</th>\n",
       "      <th>end_angle</th>\n",
       "    </tr>\n",
       "  </thead>\n",
       "  <tbody>\n",
       "    <tr>\n",
       "      <th>0</th>\n",
       "      <td>5029</td>\n",
       "      <td>40798</td>\n",
       "      <td>158529599791</td>\n",
       "      <td>3.531111e+14</td>\n",
       "      <td>0</td>\n",
       "      <td>1369252800974</td>\n",
       "      <td>37.9305</td>\n",
       "      <td>55.7815</td>\n",
       "      <td>2101</td>\n",
       "      <td>OUTDOOR</td>\n",
       "      <td>220.0</td>\n",
       "      <td>280.0</td>\n",
       "    </tr>\n",
       "    <tr>\n",
       "      <th>1</th>\n",
       "      <td>7782</td>\n",
       "      <td>56870</td>\n",
       "      <td>158520145943</td>\n",
       "      <td>1.292900e+13</td>\n",
       "      <td>5</td>\n",
       "      <td>1369252801396</td>\n",
       "      <td>37.4239</td>\n",
       "      <td>55.7426</td>\n",
       "      <td>2</td>\n",
       "      <td>OUTDOOR</td>\n",
       "      <td>45.0</td>\n",
       "      <td>105.0</td>\n",
       "    </tr>\n",
       "    <tr>\n",
       "      <th>2</th>\n",
       "      <td>7794</td>\n",
       "      <td>32226</td>\n",
       "      <td>158521798391</td>\n",
       "      <td>3.519940e+14</td>\n",
       "      <td>5</td>\n",
       "      <td>1369252802013</td>\n",
       "      <td>37.7034</td>\n",
       "      <td>55.5803</td>\n",
       "      <td>1125</td>\n",
       "      <td>OUTDOOR</td>\n",
       "      <td>0.0</td>\n",
       "      <td>60.0</td>\n",
       "    </tr>\n",
       "    <tr>\n",
       "      <th>3</th>\n",
       "      <td>7758</td>\n",
       "      <td>33528</td>\n",
       "      <td>158537830573</td>\n",
       "      <td>3.586270e+14</td>\n",
       "      <td>0</td>\n",
       "      <td>1369252802331</td>\n",
       "      <td>37.7895</td>\n",
       "      <td>55.7042</td>\n",
       "      <td>1158</td>\n",
       "      <td>OUTDOOR</td>\n",
       "      <td>210.0</td>\n",
       "      <td>270.0</td>\n",
       "    </tr>\n",
       "    <tr>\n",
       "      <th>4</th>\n",
       "      <td>5060</td>\n",
       "      <td>17568</td>\n",
       "      <td>158510204039</td>\n",
       "      <td>3.524581e+14</td>\n",
       "      <td>8</td>\n",
       "      <td>1369252803586</td>\n",
       "      <td>37.1900</td>\n",
       "      <td>55.8308</td>\n",
       "      <td>500</td>\n",
       "      <td>OUTDOOR</td>\n",
       "      <td>180.0</td>\n",
       "      <td>240.0</td>\n",
       "    </tr>\n",
       "  </tbody>\n",
       "</table>\n",
       "</div>"
      ],
      "text/plain": [
       "    lac    cid        msisdn          imei  event_type         tstamp  \\\n",
       "0  5029  40798  158529599791  3.531111e+14           0  1369252800974   \n",
       "1  7782  56870  158520145943  1.292900e+13           5  1369252801396   \n",
       "2  7794  32226  158521798391  3.519940e+14           5  1369252802013   \n",
       "3  7758  33528  158537830573  3.586270e+14           0  1369252802331   \n",
       "4  5060  17568  158510204039  3.524581e+14           8  1369252803586   \n",
       "\n",
       "      long      lat  max_dist cell_type  start_angle  end_angle  \n",
       "0  37.9305  55.7815      2101   OUTDOOR        220.0      280.0  \n",
       "1  37.4239  55.7426         2   OUTDOOR         45.0      105.0  \n",
       "2  37.7034  55.5803      1125   OUTDOOR          0.0       60.0  \n",
       "3  37.7895  55.7042      1158   OUTDOOR        210.0      270.0  \n",
       "4  37.1900  55.8308       500   OUTDOOR        180.0      240.0  "
      ]
     },
     "execution_count": 608,
     "metadata": {},
     "output_type": "execute_result"
    }
   ],
   "source": [
    "data.head()"
   ]
  },
  {
   "cell_type": "code",
   "execution_count": 609,
   "metadata": {},
   "outputs": [
    {
     "data": {
      "text/plain": [
       "47"
      ]
     },
     "execution_count": 609,
     "metadata": {},
     "output_type": "execute_result"
    }
   ],
   "source": [
    "len(data[data['msisdn'] == positive_labels.iloc[1][0]])"
   ]
  },
  {
   "cell_type": "code",
   "execution_count": 610,
   "metadata": {},
   "outputs": [
    {
     "data": {
      "text/html": [
       "<div>\n",
       "<style scoped>\n",
       "    .dataframe tbody tr th:only-of-type {\n",
       "        vertical-align: middle;\n",
       "    }\n",
       "\n",
       "    .dataframe tbody tr th {\n",
       "        vertical-align: top;\n",
       "    }\n",
       "\n",
       "    .dataframe thead th {\n",
       "        text-align: right;\n",
       "    }\n",
       "</style>\n",
       "<table border=\"1\" class=\"dataframe\">\n",
       "  <thead>\n",
       "    <tr style=\"text-align: right;\">\n",
       "      <th></th>\n",
       "      <th>lac</th>\n",
       "      <th>cid</th>\n",
       "      <th>msisdn</th>\n",
       "      <th>imei</th>\n",
       "      <th>event_type</th>\n",
       "      <th>tstamp</th>\n",
       "      <th>long</th>\n",
       "      <th>lat</th>\n",
       "      <th>max_dist</th>\n",
       "      <th>cell_type</th>\n",
       "      <th>start_angle</th>\n",
       "      <th>end_angle</th>\n",
       "    </tr>\n",
       "  </thead>\n",
       "  <tbody>\n",
       "    <tr>\n",
       "      <th>0</th>\n",
       "      <td>5029</td>\n",
       "      <td>40798</td>\n",
       "      <td>158529599791</td>\n",
       "      <td>3.531111e+14</td>\n",
       "      <td>0</td>\n",
       "      <td>1369252800974</td>\n",
       "      <td>37.9305</td>\n",
       "      <td>55.7815</td>\n",
       "      <td>2101</td>\n",
       "      <td>OUTDOOR</td>\n",
       "      <td>220.0</td>\n",
       "      <td>280.0</td>\n",
       "    </tr>\n",
       "  </tbody>\n",
       "</table>\n",
       "</div>"
      ],
      "text/plain": [
       "    lac    cid        msisdn          imei  event_type         tstamp  \\\n",
       "0  5029  40798  158529599791  3.531111e+14           0  1369252800974   \n",
       "\n",
       "      long      lat  max_dist cell_type  start_angle  end_angle  \n",
       "0  37.9305  55.7815      2101   OUTDOOR        220.0      280.0  "
      ]
     },
     "execution_count": 610,
     "metadata": {},
     "output_type": "execute_result"
    }
   ],
   "source": [
    "data.head(1)"
   ]
  },
  {
   "cell_type": "markdown",
   "metadata": {},
   "source": [
    "\"Msisdn\" column is how many milliseconds passed from 1970-01-01. The next function convert this column in ordinary date-time format"
   ]
  },
  {
   "cell_type": "code",
   "execution_count": 611,
   "metadata": {},
   "outputs": [],
   "source": [
    "data['tstamp'] = data['tstamp'].apply(lambda x: datetime.datetime(1970, 1, 1, 0, 0) + datetime.timedelta(milliseconds = x))"
   ]
  },
  {
   "cell_type": "code",
   "execution_count": 612,
   "metadata": {},
   "outputs": [
    {
     "data": {
      "text/html": [
       "<div>\n",
       "<style scoped>\n",
       "    .dataframe tbody tr th:only-of-type {\n",
       "        vertical-align: middle;\n",
       "    }\n",
       "\n",
       "    .dataframe tbody tr th {\n",
       "        vertical-align: top;\n",
       "    }\n",
       "\n",
       "    .dataframe thead th {\n",
       "        text-align: right;\n",
       "    }\n",
       "</style>\n",
       "<table border=\"1\" class=\"dataframe\">\n",
       "  <thead>\n",
       "    <tr style=\"text-align: right;\">\n",
       "      <th></th>\n",
       "      <th>lac</th>\n",
       "      <th>cid</th>\n",
       "      <th>msisdn</th>\n",
       "      <th>imei</th>\n",
       "      <th>event_type</th>\n",
       "      <th>tstamp</th>\n",
       "      <th>long</th>\n",
       "      <th>lat</th>\n",
       "      <th>max_dist</th>\n",
       "      <th>cell_type</th>\n",
       "      <th>start_angle</th>\n",
       "      <th>end_angle</th>\n",
       "    </tr>\n",
       "  </thead>\n",
       "  <tbody>\n",
       "    <tr>\n",
       "      <th>0</th>\n",
       "      <td>5029</td>\n",
       "      <td>40798</td>\n",
       "      <td>158529599791</td>\n",
       "      <td>3.531111e+14</td>\n",
       "      <td>0</td>\n",
       "      <td>2013-05-22 20:00:00.974</td>\n",
       "      <td>37.9305</td>\n",
       "      <td>55.7815</td>\n",
       "      <td>2101</td>\n",
       "      <td>OUTDOOR</td>\n",
       "      <td>220.0</td>\n",
       "      <td>280.0</td>\n",
       "    </tr>\n",
       "  </tbody>\n",
       "</table>\n",
       "</div>"
      ],
      "text/plain": [
       "    lac    cid        msisdn          imei  event_type  \\\n",
       "0  5029  40798  158529599791  3.531111e+14           0   \n",
       "\n",
       "                   tstamp     long      lat  max_dist cell_type  start_angle  \\\n",
       "0 2013-05-22 20:00:00.974  37.9305  55.7815      2101   OUTDOOR        220.0   \n",
       "\n",
       "   end_angle  \n",
       "0      280.0  "
      ]
     },
     "execution_count": 612,
     "metadata": {},
     "output_type": "execute_result"
    }
   ],
   "source": [
    "data.head(1)"
   ]
  },
  {
   "cell_type": "code",
   "execution_count": 613,
   "metadata": {},
   "outputs": [
    {
     "name": "stdout",
     "output_type": "stream",
     "text": [
      "How many observations in our data set? -  174123\n",
      "How many unique numbers (msisdn) in our data set? - 2361\n"
     ]
    }
   ],
   "source": [
    "print(\"How many observations in our data set? -  {}\".format(len(data)))\n",
    "print(\"How many unique numbers (msisdn) in our data set? - {}\".format(data['msisdn'].nunique()))"
   ]
  },
  {
   "cell_type": "raw",
   "metadata": {},
   "source": [
    "First let's take data corresponds to only positive lables"
   ]
  },
  {
   "cell_type": "code",
   "execution_count": 614,
   "metadata": {},
   "outputs": [],
   "source": [
    "list_of_positive_labels = []\n",
    "for j in range(2):\n",
    "    for i in range(len(positive_labels)):\n",
    "        list_of_positive_labels.append(positive_labels.loc[i, j])"
   ]
  },
  {
   "cell_type": "code",
   "execution_count": 615,
   "metadata": {},
   "outputs": [],
   "source": [
    "data_small = pd.DataFrame(columns = data.columns)\n",
    "for i in list(data['msisdn'].unique()):\n",
    "    if i in list_of_positive_labels:\n",
    "        data_small = data_small.append(data[data['msisdn'] == i])\n",
    "data_small = data_small.reset_index(drop = True)"
   ]
  },
  {
   "cell_type": "code",
   "execution_count": 616,
   "metadata": {},
   "outputs": [
    {
     "data": {
      "text/html": [
       "<div>\n",
       "<style scoped>\n",
       "    .dataframe tbody tr th:only-of-type {\n",
       "        vertical-align: middle;\n",
       "    }\n",
       "\n",
       "    .dataframe tbody tr th {\n",
       "        vertical-align: top;\n",
       "    }\n",
       "\n",
       "    .dataframe thead th {\n",
       "        text-align: right;\n",
       "    }\n",
       "</style>\n",
       "<table border=\"1\" class=\"dataframe\">\n",
       "  <thead>\n",
       "    <tr style=\"text-align: right;\">\n",
       "      <th></th>\n",
       "      <th>lac</th>\n",
       "      <th>cid</th>\n",
       "      <th>msisdn</th>\n",
       "      <th>imei</th>\n",
       "      <th>event_type</th>\n",
       "      <th>tstamp</th>\n",
       "      <th>long</th>\n",
       "      <th>lat</th>\n",
       "      <th>max_dist</th>\n",
       "      <th>cell_type</th>\n",
       "      <th>start_angle</th>\n",
       "      <th>end_angle</th>\n",
       "    </tr>\n",
       "  </thead>\n",
       "  <tbody>\n",
       "    <tr>\n",
       "      <th>0</th>\n",
       "      <td>7798</td>\n",
       "      <td>3866</td>\n",
       "      <td>158528850493</td>\n",
       "      <td>NaN</td>\n",
       "      <td>0</td>\n",
       "      <td>2013-05-22 20:00:34.051</td>\n",
       "      <td>37.6735</td>\n",
       "      <td>55.7363</td>\n",
       "      <td>403</td>\n",
       "      <td>OUTDOOR</td>\n",
       "      <td>255.0</td>\n",
       "      <td>315.0</td>\n",
       "    </tr>\n",
       "    <tr>\n",
       "      <th>1</th>\n",
       "      <td>7761</td>\n",
       "      <td>15621</td>\n",
       "      <td>158528850493</td>\n",
       "      <td>NaN</td>\n",
       "      <td>0</td>\n",
       "      <td>2013-05-22 20:05:32.222</td>\n",
       "      <td>37.6665</td>\n",
       "      <td>55.7385</td>\n",
       "      <td>337</td>\n",
       "      <td>OUTDOOR</td>\n",
       "      <td>170.0</td>\n",
       "      <td>230.0</td>\n",
       "    </tr>\n",
       "    <tr>\n",
       "      <th>2</th>\n",
       "      <td>7798</td>\n",
       "      <td>3866</td>\n",
       "      <td>158528850493</td>\n",
       "      <td>1.300201e+13</td>\n",
       "      <td>3</td>\n",
       "      <td>2013-05-22 20:05:32.299</td>\n",
       "      <td>37.6735</td>\n",
       "      <td>55.7363</td>\n",
       "      <td>403</td>\n",
       "      <td>OUTDOOR</td>\n",
       "      <td>255.0</td>\n",
       "      <td>315.0</td>\n",
       "    </tr>\n",
       "    <tr>\n",
       "      <th>3</th>\n",
       "      <td>7798</td>\n",
       "      <td>3866</td>\n",
       "      <td>158528850493</td>\n",
       "      <td>NaN</td>\n",
       "      <td>0</td>\n",
       "      <td>2013-05-22 20:05:52.222</td>\n",
       "      <td>37.6735</td>\n",
       "      <td>55.7363</td>\n",
       "      <td>403</td>\n",
       "      <td>OUTDOOR</td>\n",
       "      <td>255.0</td>\n",
       "      <td>315.0</td>\n",
       "    </tr>\n",
       "    <tr>\n",
       "      <th>4</th>\n",
       "      <td>7761</td>\n",
       "      <td>15621</td>\n",
       "      <td>158528850493</td>\n",
       "      <td>1.300201e+13</td>\n",
       "      <td>3</td>\n",
       "      <td>2013-05-22 23:10:34.644</td>\n",
       "      <td>37.6665</td>\n",
       "      <td>55.7385</td>\n",
       "      <td>337</td>\n",
       "      <td>OUTDOOR</td>\n",
       "      <td>170.0</td>\n",
       "      <td>230.0</td>\n",
       "    </tr>\n",
       "  </tbody>\n",
       "</table>\n",
       "</div>"
      ],
      "text/plain": [
       "    lac    cid        msisdn          imei event_type                  tstamp  \\\n",
       "0  7798   3866  158528850493           NaN          0 2013-05-22 20:00:34.051   \n",
       "1  7761  15621  158528850493           NaN          0 2013-05-22 20:05:32.222   \n",
       "2  7798   3866  158528850493  1.300201e+13          3 2013-05-22 20:05:32.299   \n",
       "3  7798   3866  158528850493           NaN          0 2013-05-22 20:05:52.222   \n",
       "4  7761  15621  158528850493  1.300201e+13          3 2013-05-22 23:10:34.644   \n",
       "\n",
       "      long      lat max_dist cell_type  start_angle  end_angle  \n",
       "0  37.6735  55.7363      403   OUTDOOR        255.0      315.0  \n",
       "1  37.6665  55.7385      337   OUTDOOR        170.0      230.0  \n",
       "2  37.6735  55.7363      403   OUTDOOR        255.0      315.0  \n",
       "3  37.6735  55.7363      403   OUTDOOR        255.0      315.0  \n",
       "4  37.6665  55.7385      337   OUTDOOR        170.0      230.0  "
      ]
     },
     "execution_count": 616,
     "metadata": {},
     "output_type": "execute_result"
    }
   ],
   "source": [
    "data_small.head()"
   ]
  },
  {
   "cell_type": "code",
   "execution_count": 617,
   "metadata": {},
   "outputs": [
    {
     "data": {
      "text/plain": [
       "8136"
      ]
     },
     "execution_count": 617,
     "metadata": {},
     "output_type": "execute_result"
    }
   ],
   "source": [
    "len(data_small)"
   ]
  },
  {
   "cell_type": "markdown",
   "metadata": {},
   "source": [
    "Since cid - identificator of base station unique in terms of lac the folowing cell creates columns 'lac_cid' as a combination of cid and lac and this gives as unique location for each station"
   ]
  },
  {
   "cell_type": "code",
   "execution_count": 618,
   "metadata": {},
   "outputs": [],
   "source": [
    "data_small['lac_cid'] = data_small['lac'].astype(str)  + data_small['cid'].astype(str)"
   ]
  },
  {
   "cell_type": "markdown",
   "metadata": {},
   "source": [
    "Grouping by msisdn. The first column of result dataframe msisdn itself, the second column - list of all locations where this number was registered"
   ]
  },
  {
   "cell_type": "code",
   "execution_count": 619,
   "metadata": {},
   "outputs": [],
   "source": [
    "group = data_small.groupby(['msisdn'], as_index=False).agg({'lac_cid':(lambda x: list(x))}).rename(columns={'msisdn':'number', 'lac_cid':'set_'})"
   ]
  },
  {
   "cell_type": "code",
   "execution_count": 620,
   "metadata": {},
   "outputs": [
    {
     "data": {
      "text/plain": [
       "240"
      ]
     },
     "execution_count": 620,
     "metadata": {},
     "output_type": "execute_result"
    }
   ],
   "source": [
    "len(group)"
   ]
  },
  {
   "cell_type": "markdown",
   "metadata": {},
   "source": [
    "Creating all posible combinations of msisdn"
   ]
  },
  {
   "cell_type": "code",
   "execution_count": 621,
   "metadata": {},
   "outputs": [],
   "source": [
    "df = pd.DataFrame(columns = ['number_1', 'set_1', 'number_2', 'set_2'])\n",
    "\n",
    "for index in list(combinations(group.index, 2)):\n",
    "    \n",
    "    df0 = pd.DataFrame(group.loc[index[0]]).T.reset_index(drop=True)\n",
    "    df1 = pd.DataFrame(group.loc[index[1]]).T.reset_index(drop=True)\n",
    "    df_temp = pd.concat([df0, df1], axis = 1)\n",
    "    df_temp.columns = ['number_1', 'set_1', 'number_2', 'set_2']\n",
    "    df = df.append(df_temp)\n",
    "df = df.set_index(pd.Index(range(len(df))))"
   ]
  },
  {
   "cell_type": "code",
   "execution_count": 590,
   "metadata": {},
   "outputs": [],
   "source": [
    "for i in range(28680):\n",
    "    if df.iloc[i, 0] == df.iloc[i, 2]:\n",
    "        df = df.drop(i)"
   ]
  },
  {
   "cell_type": "markdown",
   "metadata": {},
   "source": [
    "The first assumption is that if user holds 2 numbers the locations rigistered by base station of exactly these numbers intersect"
   ]
  },
  {
   "cell_type": "markdown",
   "metadata": {},
   "source": [
    "Let's create the column 'inter' which contains the information of how much intersections for each row (pair of numbers) we have over length of the shotest list among two given (list of locations of two candidates). It's important because if the first list consists of 20 elements, and the second only of 3 but all these 3 fall into those 20, we will have only 3 intersections. By actually taking into account the fact that the  registered locations of the second number 100% the same as locations of the first number, gives us the assumption that they might have the same user (may he brings the second number rarely, but he always goes in the same places)."
   ]
  },
  {
   "cell_type": "code",
   "execution_count": 591,
   "metadata": {},
   "outputs": [
    {
     "data": {
      "text/html": [
       "<div>\n",
       "<style scoped>\n",
       "    .dataframe tbody tr th:only-of-type {\n",
       "        vertical-align: middle;\n",
       "    }\n",
       "\n",
       "    .dataframe tbody tr th {\n",
       "        vertical-align: top;\n",
       "    }\n",
       "\n",
       "    .dataframe thead th {\n",
       "        text-align: right;\n",
       "    }\n",
       "</style>\n",
       "<table border=\"1\" class=\"dataframe\">\n",
       "  <thead>\n",
       "    <tr style=\"text-align: right;\">\n",
       "      <th></th>\n",
       "      <th>number_1</th>\n",
       "      <th>set_1</th>\n",
       "      <th>number_2</th>\n",
       "      <th>set_2</th>\n",
       "    </tr>\n",
       "  </thead>\n",
       "  <tbody>\n",
       "    <tr>\n",
       "      <th>0</th>\n",
       "      <td>158500411793</td>\n",
       "      <td>[50205834, 502049184, 502049184, 50209186, 502...</td>\n",
       "      <td>158500437133</td>\n",
       "      <td>[775334177, 775334176]</td>\n",
       "    </tr>\n",
       "    <tr>\n",
       "      <th>1</th>\n",
       "      <td>158500411793</td>\n",
       "      <td>[50205834, 502049184, 502049184, 50209186, 502...</td>\n",
       "      <td>158500611579</td>\n",
       "      <td>[77125754, 77125754, 771220486, 771220486]</td>\n",
       "    </tr>\n",
       "    <tr>\n",
       "      <th>2</th>\n",
       "      <td>158500411793</td>\n",
       "      <td>[50205834, 502049184, 502049184, 50209186, 502...</td>\n",
       "      <td>158500670731</td>\n",
       "      <td>[508648686, 502045597, 502048679, 508648675]</td>\n",
       "    </tr>\n",
       "    <tr>\n",
       "      <th>3</th>\n",
       "      <td>158500411793</td>\n",
       "      <td>[50205834, 502049184, 502049184, 50209186, 502...</td>\n",
       "      <td>158500730293</td>\n",
       "      <td>[775530067, 778432289, 778432289, 776537843, 7...</td>\n",
       "    </tr>\n",
       "    <tr>\n",
       "      <th>4</th>\n",
       "      <td>158500411793</td>\n",
       "      <td>[50205834, 502049184, 502049184, 50209186, 502...</td>\n",
       "      <td>158500730487</td>\n",
       "      <td>[775522653, 775522653, 775512588, 775522653, 7...</td>\n",
       "    </tr>\n",
       "  </tbody>\n",
       "</table>\n",
       "</div>"
      ],
      "text/plain": [
       "       number_1                                              set_1  \\\n",
       "0  158500411793  [50205834, 502049184, 502049184, 50209186, 502...   \n",
       "1  158500411793  [50205834, 502049184, 502049184, 50209186, 502...   \n",
       "2  158500411793  [50205834, 502049184, 502049184, 50209186, 502...   \n",
       "3  158500411793  [50205834, 502049184, 502049184, 50209186, 502...   \n",
       "4  158500411793  [50205834, 502049184, 502049184, 50209186, 502...   \n",
       "\n",
       "       number_2                                              set_2  \n",
       "0  158500437133                             [775334177, 775334176]  \n",
       "1  158500611579         [77125754, 77125754, 771220486, 771220486]  \n",
       "2  158500670731       [508648686, 502045597, 502048679, 508648675]  \n",
       "3  158500730293  [775530067, 778432289, 778432289, 776537843, 7...  \n",
       "4  158500730487  [775522653, 775522653, 775512588, 775522653, 7...  "
      ]
     },
     "execution_count": 591,
     "metadata": {},
     "output_type": "execute_result"
    }
   ],
   "source": [
    "df.head()"
   ]
  },
  {
   "cell_type": "code",
   "execution_count": 623,
   "metadata": {},
   "outputs": [],
   "source": [
    "def intersect(x):\n",
    "    list1 = x['set_1']\n",
    "    list2 = x['set_2']\n",
    "    \n",
    "    min_len = min(len(list1), len(list2))\n",
    "    res = []\n",
    "    list_1 = list1.copy()\n",
    "    for i in list_1:\n",
    "        if i in list2:\n",
    "            res.append(i)\n",
    "            list1.remove(i)\n",
    "            list2.remove(i)       \n",
    "    return len(res)/(min_len+1)"
   ]
  },
  {
   "cell_type": "code",
   "execution_count": 624,
   "metadata": {},
   "outputs": [],
   "source": [
    "df['inter'] = df.apply(intersect, axis =1)"
   ]
  },
  {
   "cell_type": "markdown",
   "metadata": {},
   "source": [
    "The following finction returns the dictionary of possible numbers which belong to the same person. It chooses candidates by selecting maximum intersection between them"
   ]
  },
  {
   "cell_type": "code",
   "execution_count": 809,
   "metadata": {},
   "outputs": [],
   "source": [
    "def find_pair(df):\n",
    "    res = {}\n",
    "    for number_1 in list(df['number_1'].unique()):\n",
    "        value = max(df[df['number_1'] == number_1]['inter'])\n",
    "        if value > 0.2:\n",
    "            number_2 = df[(df['number_1'] == number_1) &(df['inter'] == value)]['number_2'].iloc[0]\n",
    "            if number_2 in list(res.keys()) or number_2 in list(res.values()) or number_1 in list(res.values()):\n",
    "\n",
    "                continue\n",
    "            else:\n",
    "                res[number_1] = number_2\n",
    "    return res"
   ]
  },
  {
   "cell_type": "code",
   "execution_count": 794,
   "metadata": {
    "scrolled": false
   },
   "outputs": [],
   "source": [
    "res = find_pair(df)"
   ]
  },
  {
   "cell_type": "code",
   "execution_count": 710,
   "metadata": {},
   "outputs": [
    {
     "data": {
      "text/html": [
       "<div>\n",
       "<style scoped>\n",
       "    .dataframe tbody tr th:only-of-type {\n",
       "        vertical-align: middle;\n",
       "    }\n",
       "\n",
       "    .dataframe tbody tr th {\n",
       "        vertical-align: top;\n",
       "    }\n",
       "\n",
       "    .dataframe thead th {\n",
       "        text-align: right;\n",
       "    }\n",
       "</style>\n",
       "<table border=\"1\" class=\"dataframe\">\n",
       "  <thead>\n",
       "    <tr style=\"text-align: right;\">\n",
       "      <th></th>\n",
       "      <th>0</th>\n",
       "      <th>1</th>\n",
       "    </tr>\n",
       "  </thead>\n",
       "  <tbody>\n",
       "    <tr>\n",
       "      <th>0</th>\n",
       "      <td>158530067653</td>\n",
       "      <td>158528861653</td>\n",
       "    </tr>\n",
       "    <tr>\n",
       "      <th>1</th>\n",
       "      <td>158530063945</td>\n",
       "      <td>158528861599</td>\n",
       "    </tr>\n",
       "    <tr>\n",
       "      <th>2</th>\n",
       "      <td>158524011325</td>\n",
       "      <td>158524011355</td>\n",
       "    </tr>\n",
       "    <tr>\n",
       "      <th>3</th>\n",
       "      <td>158528852153</td>\n",
       "      <td>158528861475</td>\n",
       "    </tr>\n",
       "    <tr>\n",
       "      <th>4</th>\n",
       "      <td>158510912383</td>\n",
       "      <td>158524011019</td>\n",
       "    </tr>\n",
       "  </tbody>\n",
       "</table>\n",
       "</div>"
      ],
      "text/plain": [
       "              0             1\n",
       "0  158530067653  158528861653\n",
       "1  158530063945  158528861599\n",
       "2  158524011325  158524011355\n",
       "3  158528852153  158528861475\n",
       "4  158510912383  158524011019"
      ]
     },
     "execution_count": 710,
     "metadata": {},
     "output_type": "execute_result"
    }
   ],
   "source": [
    "positive_labels.head()"
   ]
  },
  {
   "cell_type": "code",
   "execution_count": 819,
   "metadata": {},
   "outputs": [],
   "source": [
    "for i in positive_labels[0]:\n",
    "    if res.get(i):\n",
    "        continue\n",
    "    elif i in list(res.values()):\n",
    "        res[i] = list(res.keys())[list(res.values()).index(i)]\n",
    "        del res[list(res.keys())[list(res.values()).index(i)]]"
   ]
  },
  {
   "cell_type": "code",
   "execution_count": 826,
   "metadata": {},
   "outputs": [],
   "source": [
    "def precision(pred, acual):\n",
    "    count_all = 0\n",
    "    count_positive = 0\n",
    "    for i, row in enumerate(acual.values):\n",
    "        if pred.get(acual.loc[i,:][0]):\n",
    "            count_all += 1\n",
    "            if acual.loc[i,:][1] == pred[acual.loc[i,:][0]]:\n",
    "                count_positive += 1\n",
    "        #if pred.get(acual.loc[i,:][1]):\n",
    "            #count_all += 1\n",
    "            #if acual.loc[i,:][0] == pred.get(acual.loc[i,:][1]):\n",
    "                #count_positive += 1\n",
    "        \n",
    "        #if acual.loc[i,:][1] in list(pred.values()):\n",
    "            #count_all += 1\n",
    "            #if acual.loc[i,:][0] == list(pred.keys())[list(pred.values()).index(acual.loc[i,:][1])]:\n",
    "                #count_positive += 1\n",
    "        \n",
    "        #if acual.loc[i,:][0] in list(pred.values()):\n",
    "            #count_all += 1\n",
    "            #if acual.loc[i,:][1] == list(pred.keys())[list(pred.values()).index(acual.loc[i,:][0])]:\n",
    "                #count_positive += 1\n",
    "                \n",
    "    return count_positive/count_all, count_all"
   ]
  },
  {
   "cell_type": "code",
   "execution_count": 827,
   "metadata": {},
   "outputs": [
    {
     "data": {
      "text/plain": [
       "(0.8823529411764706, 68)"
      ]
     },
     "execution_count": 827,
     "metadata": {},
     "output_type": "execute_result"
    }
   ],
   "source": [
    "precision(res, positive_labels)"
   ]
  },
  {
   "cell_type": "code",
   "execution_count": 800,
   "metadata": {},
   "outputs": [
    {
     "data": {
      "text/plain": [
       "72"
      ]
     },
     "execution_count": 800,
     "metadata": {},
     "output_type": "execute_result"
    }
   ],
   "source": [
    "len(res)"
   ]
  },
  {
   "cell_type": "code",
   "execution_count": 801,
   "metadata": {},
   "outputs": [
    {
     "data": {
      "text/plain": [
       "120"
      ]
     },
     "execution_count": 801,
     "metadata": {},
     "output_type": "execute_result"
    }
   ],
   "source": [
    "len(positive_labels)"
   ]
  },
  {
   "cell_type": "code",
   "execution_count": 828,
   "metadata": {},
   "outputs": [],
   "source": [
    "def recall(pred, acual):\n",
    "    count_all = len(acual)\n",
    "    count_positive = 0\n",
    "    \n",
    "    for i, row in enumerate(acual.values):\n",
    "        if pred.get(acual.loc[i,:][0]):\n",
    "            if acual.loc[i,:][1] == pred[acual.loc[i,:][0]]:\n",
    "                count_positive += 1\n",
    "        #if pred.get(acual.loc[i,:][1]):\n",
    "            #if acual.loc[i,:][0] == pred.get(acual.loc[i,:][1]):\n",
    "                #count_positive += 1\n",
    "        #if acual.loc[i,:][1] in list(pred.values()):\n",
    "            #if acual.loc[i,:][0] == list(pred.keys())[list(pred.values()).index(acual.loc[i,:][1])]:\n",
    "                #count_positive += 1\n",
    "        \n",
    "        #if acual.loc[i,:][0] in list(pred.values()):\n",
    "            #if acual.loc[i,:][1] == list(pred.keys())[list(pred.values()).index(acual.loc[i,:][0])]:\n",
    "                #count_positive += 1\n",
    "    return count_positive/count_all, count_positive"
   ]
  },
  {
   "cell_type": "code",
   "execution_count": 829,
   "metadata": {},
   "outputs": [
    {
     "data": {
      "text/plain": [
       "(0.5, 60)"
      ]
     },
     "execution_count": 829,
     "metadata": {},
     "output_type": "execute_result"
    }
   ],
   "source": [
    "recall(res, positive_labels)"
   ]
  },
  {
   "cell_type": "code",
   "execution_count": 440,
   "metadata": {},
   "outputs": [
    {
     "data": {
      "text/html": [
       "<div>\n",
       "<style scoped>\n",
       "    .dataframe tbody tr th:only-of-type {\n",
       "        vertical-align: middle;\n",
       "    }\n",
       "\n",
       "    .dataframe tbody tr th {\n",
       "        vertical-align: top;\n",
       "    }\n",
       "\n",
       "    .dataframe thead th {\n",
       "        text-align: right;\n",
       "    }\n",
       "</style>\n",
       "<table border=\"1\" class=\"dataframe\">\n",
       "  <thead>\n",
       "    <tr style=\"text-align: right;\">\n",
       "      <th></th>\n",
       "      <th>0</th>\n",
       "      <th>1</th>\n",
       "    </tr>\n",
       "  </thead>\n",
       "  <tbody>\n",
       "    <tr>\n",
       "      <th>0</th>\n",
       "      <td>158530067653</td>\n",
       "      <td>158528861653</td>\n",
       "    </tr>\n",
       "    <tr>\n",
       "      <th>1</th>\n",
       "      <td>158530063945</td>\n",
       "      <td>158528861599</td>\n",
       "    </tr>\n",
       "    <tr>\n",
       "      <th>2</th>\n",
       "      <td>158524011325</td>\n",
       "      <td>158524011355</td>\n",
       "    </tr>\n",
       "    <tr>\n",
       "      <th>3</th>\n",
       "      <td>158528852153</td>\n",
       "      <td>158528861475</td>\n",
       "    </tr>\n",
       "    <tr>\n",
       "      <th>4</th>\n",
       "      <td>158510912383</td>\n",
       "      <td>158524011019</td>\n",
       "    </tr>\n",
       "  </tbody>\n",
       "</table>\n",
       "</div>"
      ],
      "text/plain": [
       "              0             1\n",
       "0  158530067653  158528861653\n",
       "1  158530063945  158528861599\n",
       "2  158524011325  158524011355\n",
       "3  158528852153  158528861475\n",
       "4  158510912383  158524011019"
      ]
     },
     "execution_count": 440,
     "metadata": {},
     "output_type": "execute_result"
    }
   ],
   "source": [
    "positive_labels.head()"
   ]
  },
  {
   "cell_type": "code",
   "execution_count": 441,
   "metadata": {},
   "outputs": [],
   "source": [
    "pd.set_option('display.max_rows', 200)"
   ]
  },
  {
   "cell_type": "markdown",
   "metadata": {},
   "source": [
    "Get rid of seconds and microseconds in date column"
   ]
  },
  {
   "cell_type": "code",
   "execution_count": 830,
   "metadata": {},
   "outputs": [],
   "source": [
    "data_small.tstamp = data_small.tstamp.apply(lambda x: x.replace(second=0, microsecond=0))"
   ]
  },
  {
   "cell_type": "code",
   "execution_count": 831,
   "metadata": {},
   "outputs": [],
   "source": [
    "def intersectin_time_loc(x):\n",
    "    \n",
    "    index_1 = x['number_1']\n",
    "    index_2 = x['number_2']\n",
    "    \n",
    "    counter = 0\n",
    "    set_1 = data_small[data_small['msisdn'] == index_1]\n",
    "    set_2 = data_small[data_small['msisdn'] == index_2]\n",
    "    time1, time2 = [], []\n",
    "    for i in set_1['tstamp']:\n",
    "        for j in set_2['tstamp']:\n",
    "            if i - margin <= j <= i+margin:\n",
    "                if set_1[set_1['tstamp'] == i]['lac'].iloc[0] == set_2[set_2['tstamp'] == j]['lac'].iloc[0]:\n",
    "                    time1.append(i)\n",
    "                    time2.append(j)\n",
    "                    counter += 1\n",
    "    return counter"
   ]
  },
  {
   "cell_type": "code",
   "execution_count": 832,
   "metadata": {},
   "outputs": [
    {
     "data": {
      "text/plain": [
       "28680"
      ]
     },
     "execution_count": 832,
     "metadata": {},
     "output_type": "execute_result"
    }
   ],
   "source": [
    "len(df)"
   ]
  },
  {
   "cell_type": "code",
   "execution_count": 833,
   "metadata": {},
   "outputs": [],
   "source": [
    "df['intersectin_time_loc'] = df.apply(intersectin_time_loc, axis = 1)"
   ]
  },
  {
   "cell_type": "code",
   "execution_count": 875,
   "metadata": {},
   "outputs": [],
   "source": [
    "def find_pair_based_on_time_loc(df):\n",
    "    res_time_loc = {}\n",
    "    for number_1 in list(df['number_1'].unique()):\n",
    "        value = max(df[df['number_1'] == number_1]['intersectin_time_loc'])\n",
    "        if value > 10:\n",
    "            number_2 = df[(df['number_1'] == number_1) &(df['intersectin_time_loc'] == value)]['number_2'].iloc[0]\n",
    "            if number_2 in list(res_time_loc.keys()) or number_2 in list(res_time_loc.values()) or number_1 in list(res_time_loc.values()):\n",
    "                continue\n",
    "            else:\n",
    "                res_time_loc[number_1] = number_2\n",
    "    return res_time_loc"
   ]
  },
  {
   "cell_type": "code",
   "execution_count": 876,
   "metadata": {},
   "outputs": [],
   "source": [
    "time_loc = find_pair_based_on_time_loc(df)"
   ]
  },
  {
   "cell_type": "code",
   "execution_count": 877,
   "metadata": {},
   "outputs": [],
   "source": [
    "for i in positive_labels[0]:\n",
    "    if time_loc.get(i):\n",
    "        continue\n",
    "    elif i in list(time_loc.values()):\n",
    "        time_loc[i] = list(time_loc.keys())[list(time_loc.values()).index(i)]\n",
    "        del time_loc[list(time_loc.keys())[list(time_loc.values()).index(i)]]"
   ]
  },
  {
   "cell_type": "code",
   "execution_count": 878,
   "metadata": {},
   "outputs": [
    {
     "data": {
      "text/plain": [
       "9"
      ]
     },
     "execution_count": 878,
     "metadata": {},
     "output_type": "execute_result"
    }
   ],
   "source": [
    "len(time_loc)"
   ]
  },
  {
   "cell_type": "code",
   "execution_count": 879,
   "metadata": {},
   "outputs": [
    {
     "data": {
      "text/plain": [
       "(0.7777777777777778, 9)"
      ]
     },
     "execution_count": 879,
     "metadata": {},
     "output_type": "execute_result"
    }
   ],
   "source": [
    "precision(time_loc, positive_labels)"
   ]
  },
  {
   "cell_type": "code",
   "execution_count": 874,
   "metadata": {},
   "outputs": [
    {
     "data": {
      "text/plain": [
       "(0.11666666666666667, 14)"
      ]
     },
     "execution_count": 874,
     "metadata": {},
     "output_type": "execute_result"
    }
   ],
   "source": [
    "recall(time_loc, positive_labels)"
   ]
  },
  {
   "cell_type": "code",
   "execution_count": 451,
   "metadata": {},
   "outputs": [
    {
     "data": {
      "text/plain": [
       "120"
      ]
     },
     "execution_count": 451,
     "metadata": {},
     "output_type": "execute_result"
    }
   ],
   "source": [
    "len(positive_labels)"
   ]
  },
  {
   "cell_type": "code",
   "execution_count": 291,
   "metadata": {},
   "outputs": [
    {
     "data": {
      "text/plain": [
       "30"
      ]
     },
     "execution_count": 291,
     "metadata": {},
     "output_type": "execute_result"
    }
   ],
   "source": [
    "len(time_loc)"
   ]
  },
  {
   "cell_type": "code",
   "execution_count": 881,
   "metadata": {},
   "outputs": [],
   "source": [
    "df_for_algo = df[['number_1', 'number_2', 'inter', 'intersectin_time_loc']]"
   ]
  },
  {
   "cell_type": "code",
   "execution_count": 883,
   "metadata": {},
   "outputs": [
    {
     "name": "stderr",
     "output_type": "stream",
     "text": [
      "/Users/natali/anaconda3/lib/python3.7/site-packages/ipykernel_launcher.py:1: SettingWithCopyWarning: \n",
      "A value is trying to be set on a copy of a slice from a DataFrame.\n",
      "Try using .loc[row_indexer,col_indexer] = value instead\n",
      "\n",
      "See the caveats in the documentation: http://pandas.pydata.org/pandas-docs/stable/indexing.html#indexing-view-versus-copy\n",
      "  \"\"\"Entry point for launching an IPython kernel.\n"
     ]
    }
   ],
   "source": [
    "df_for_algo['target'] = 0"
   ]
  },
  {
   "cell_type": "code",
   "execution_count": 924,
   "metadata": {},
   "outputs": [
    {
     "data": {
      "text/html": [
       "<div>\n",
       "<style scoped>\n",
       "    .dataframe tbody tr th:only-of-type {\n",
       "        vertical-align: middle;\n",
       "    }\n",
       "\n",
       "    .dataframe tbody tr th {\n",
       "        vertical-align: top;\n",
       "    }\n",
       "\n",
       "    .dataframe thead th {\n",
       "        text-align: right;\n",
       "    }\n",
       "</style>\n",
       "<table border=\"1\" class=\"dataframe\">\n",
       "  <thead>\n",
       "    <tr style=\"text-align: right;\">\n",
       "      <th></th>\n",
       "      <th>number_1</th>\n",
       "      <th>number_2</th>\n",
       "      <th>inter</th>\n",
       "      <th>intersectin_time_loc</th>\n",
       "      <th>target</th>\n",
       "    </tr>\n",
       "  </thead>\n",
       "  <tbody>\n",
       "    <tr>\n",
       "      <th>0</th>\n",
       "      <td>158500411793</td>\n",
       "      <td>158500437133</td>\n",
       "      <td>0.0</td>\n",
       "      <td>0</td>\n",
       "      <td>0</td>\n",
       "    </tr>\n",
       "    <tr>\n",
       "      <th>1</th>\n",
       "      <td>158500411793</td>\n",
       "      <td>158500611579</td>\n",
       "      <td>0.0</td>\n",
       "      <td>0</td>\n",
       "      <td>0</td>\n",
       "    </tr>\n",
       "    <tr>\n",
       "      <th>2</th>\n",
       "      <td>158500411793</td>\n",
       "      <td>158500670731</td>\n",
       "      <td>0.0</td>\n",
       "      <td>0</td>\n",
       "      <td>0</td>\n",
       "    </tr>\n",
       "    <tr>\n",
       "      <th>3</th>\n",
       "      <td>158500411793</td>\n",
       "      <td>158500730293</td>\n",
       "      <td>0.0</td>\n",
       "      <td>0</td>\n",
       "      <td>0</td>\n",
       "    </tr>\n",
       "    <tr>\n",
       "      <th>4</th>\n",
       "      <td>158500411793</td>\n",
       "      <td>158500730487</td>\n",
       "      <td>0.0</td>\n",
       "      <td>0</td>\n",
       "      <td>0</td>\n",
       "    </tr>\n",
       "  </tbody>\n",
       "</table>\n",
       "</div>"
      ],
      "text/plain": [
       "       number_1      number_2  inter  intersectin_time_loc  target\n",
       "0  158500411793  158500437133    0.0                     0       0\n",
       "1  158500411793  158500611579    0.0                     0       0\n",
       "2  158500411793  158500670731    0.0                     0       0\n",
       "3  158500411793  158500730293    0.0                     0       0\n",
       "4  158500411793  158500730487    0.0                     0       0"
      ]
     },
     "execution_count": 924,
     "metadata": {},
     "output_type": "execute_result"
    }
   ],
   "source": [
    "df_for_algo.head()"
   ]
  },
  {
   "cell_type": "code",
   "execution_count": 939,
   "metadata": {},
   "outputs": [
    {
     "name": "stderr",
     "output_type": "stream",
     "text": [
      "/Users/natali/anaconda3/lib/python3.7/site-packages/ipykernel_launcher.py:13: SettingWithCopyWarning: \n",
      "A value is trying to be set on a copy of a slice from a DataFrame.\n",
      "Try using .loc[row_indexer,col_indexer] = value instead\n",
      "\n",
      "See the caveats in the documentation: http://pandas.pydata.org/pandas-docs/stable/indexing.html#indexing-view-versus-copy\n",
      "  del sys.path[0]\n"
     ]
    }
   ],
   "source": [
    "new_target = []\n",
    "\n",
    "for entry in df_for_algo.values:\n",
    "    for pair in positive_labels.values:\n",
    "        add=0\n",
    "        if entry[0] in pair and entry[1] in pair:\n",
    "            new_target.append(1)\n",
    "            add=1\n",
    "            break\n",
    "    if add==0:\n",
    "        new_target.append(0)\n",
    "\n",
    "df_for_algo['target'] = new_target"
   ]
  },
  {
   "cell_type": "code",
   "execution_count": 947,
   "metadata": {},
   "outputs": [],
   "source": [
    "import matplotlib.pyplot as plt\n",
    "import seaborn as sns"
   ]
  },
  {
   "cell_type": "code",
   "execution_count": 948,
   "metadata": {},
   "outputs": [
    {
     "data": {
      "image/png": "[encoded data removed]",
      "text/plain": [
       "<Figure size 432x288 with 1 Axes>"
      ]
     },
     "metadata": {
      "needs_background": "light"
     },
     "output_type": "display_data"
    }
   ],
   "source": [
    "ax = sns.scatterplot(x=\"inter\", y=\"intersectin_time_loc\", hue=\"target\", data=df_for_algo)"
   ]
  },
  {
   "cell_type": "code",
   "execution_count": 949,
   "metadata": {},
   "outputs": [],
   "source": [
    "df_for_algo.to_csv('df_for_algo.csv')"
   ]
  },
  {
   "cell_type": "markdown",
   "metadata": {},
   "source": [
    "Check if a person with two sim-card can have only one phone number (imei)"
   ]
  },
  {
   "cell_type": "code",
   "execution_count": 37,
   "metadata": {},
   "outputs": [
    {
     "data": {
      "text/plain": [
       "0"
      ]
     },
     "execution_count": 37,
     "metadata": {},
     "output_type": "execute_result"
    }
   ],
   "source": [
    "count = 0\n",
    "for i, row in enumerate(positive_labels.values):\n",
    "    imei_1 = data_small[data_small['msisdn'] == positive_labels.loc[i,:][0]]['msisdn'].iloc[0]\n",
    "    imei_2 = data_small[data_small['msisdn'] == positive_labels.loc[i,:][1]]['msisdn'].iloc[0]\n",
    "    if imei_1 == imei_2:\n",
    "        count += 1\n",
    "        \n",
    "count"
   ]
  },
  {
   "cell_type": "code",
   "execution_count": 971,
   "metadata": {},
   "outputs": [],
   "source": [
    "data_small['tac'] = data_small['imei'].apply(lambda x: str(x)[0:8])"
   ]
  },
  {
   "cell_type": "code",
   "execution_count": 972,
   "metadata": {},
   "outputs": [
    {
     "data": {
      "text/html": [
       "<div>\n",
       "<style scoped>\n",
       "    .dataframe tbody tr th:only-of-type {\n",
       "        vertical-align: middle;\n",
       "    }\n",
       "\n",
       "    .dataframe tbody tr th {\n",
       "        vertical-align: top;\n",
       "    }\n",
       "\n",
       "    .dataframe thead th {\n",
       "        text-align: right;\n",
       "    }\n",
       "</style>\n",
       "<table border=\"1\" class=\"dataframe\">\n",
       "  <thead>\n",
       "    <tr style=\"text-align: right;\">\n",
       "      <th></th>\n",
       "      <th>lac</th>\n",
       "      <th>cid</th>\n",
       "      <th>msisdn</th>\n",
       "      <th>imei</th>\n",
       "      <th>event_type</th>\n",
       "      <th>tstamp</th>\n",
       "      <th>long</th>\n",
       "      <th>lat</th>\n",
       "      <th>max_dist</th>\n",
       "      <th>cell_type</th>\n",
       "      <th>start_angle</th>\n",
       "      <th>end_angle</th>\n",
       "      <th>lac_cid</th>\n",
       "      <th>tac</th>\n",
       "    </tr>\n",
       "  </thead>\n",
       "  <tbody>\n",
       "    <tr>\n",
       "      <th>0</th>\n",
       "      <td>7798</td>\n",
       "      <td>3866</td>\n",
       "      <td>158528850493</td>\n",
       "      <td>NaN</td>\n",
       "      <td>0</td>\n",
       "      <td>2013-05-22 20:00:00</td>\n",
       "      <td>37.6735</td>\n",
       "      <td>55.7363</td>\n",
       "      <td>403</td>\n",
       "      <td>OUTDOOR</td>\n",
       "      <td>255.0</td>\n",
       "      <td>315.0</td>\n",
       "      <td>77983866</td>\n",
       "      <td>nan</td>\n",
       "    </tr>\n",
       "    <tr>\n",
       "      <th>1</th>\n",
       "      <td>7761</td>\n",
       "      <td>15621</td>\n",
       "      <td>158528850493</td>\n",
       "      <td>NaN</td>\n",
       "      <td>0</td>\n",
       "      <td>2013-05-22 20:05:00</td>\n",
       "      <td>37.6665</td>\n",
       "      <td>55.7385</td>\n",
       "      <td>337</td>\n",
       "      <td>OUTDOOR</td>\n",
       "      <td>170.0</td>\n",
       "      <td>230.0</td>\n",
       "      <td>776115621</td>\n",
       "      <td>nan</td>\n",
       "    </tr>\n",
       "    <tr>\n",
       "      <th>2</th>\n",
       "      <td>7798</td>\n",
       "      <td>3866</td>\n",
       "      <td>158528850493</td>\n",
       "      <td>1.300201e+13</td>\n",
       "      <td>3</td>\n",
       "      <td>2013-05-22 20:05:00</td>\n",
       "      <td>37.6735</td>\n",
       "      <td>55.7363</td>\n",
       "      <td>403</td>\n",
       "      <td>OUTDOOR</td>\n",
       "      <td>255.0</td>\n",
       "      <td>315.0</td>\n",
       "      <td>77983866</td>\n",
       "      <td>13002009</td>\n",
       "    </tr>\n",
       "    <tr>\n",
       "      <th>3</th>\n",
       "      <td>7798</td>\n",
       "      <td>3866</td>\n",
       "      <td>158528850493</td>\n",
       "      <td>NaN</td>\n",
       "      <td>0</td>\n",
       "      <td>2013-05-22 20:05:00</td>\n",
       "      <td>37.6735</td>\n",
       "      <td>55.7363</td>\n",
       "      <td>403</td>\n",
       "      <td>OUTDOOR</td>\n",
       "      <td>255.0</td>\n",
       "      <td>315.0</td>\n",
       "      <td>77983866</td>\n",
       "      <td>nan</td>\n",
       "    </tr>\n",
       "    <tr>\n",
       "      <th>4</th>\n",
       "      <td>7761</td>\n",
       "      <td>15621</td>\n",
       "      <td>158528850493</td>\n",
       "      <td>1.300201e+13</td>\n",
       "      <td>3</td>\n",
       "      <td>2013-05-22 23:10:00</td>\n",
       "      <td>37.6665</td>\n",
       "      <td>55.7385</td>\n",
       "      <td>337</td>\n",
       "      <td>OUTDOOR</td>\n",
       "      <td>170.0</td>\n",
       "      <td>230.0</td>\n",
       "      <td>776115621</td>\n",
       "      <td>13002009</td>\n",
       "    </tr>\n",
       "  </tbody>\n",
       "</table>\n",
       "</div>"
      ],
      "text/plain": [
       "    lac    cid        msisdn          imei event_type              tstamp  \\\n",
       "0  7798   3866  158528850493           NaN          0 2013-05-22 20:00:00   \n",
       "1  7761  15621  158528850493           NaN          0 2013-05-22 20:05:00   \n",
       "2  7798   3866  158528850493  1.300201e+13          3 2013-05-22 20:05:00   \n",
       "3  7798   3866  158528850493           NaN          0 2013-05-22 20:05:00   \n",
       "4  7761  15621  158528850493  1.300201e+13          3 2013-05-22 23:10:00   \n",
       "\n",
       "      long      lat max_dist cell_type  start_angle  end_angle    lac_cid  \\\n",
       "0  37.6735  55.7363      403   OUTDOOR        255.0      315.0   77983866   \n",
       "1  37.6665  55.7385      337   OUTDOOR        170.0      230.0  776115621   \n",
       "2  37.6735  55.7363      403   OUTDOOR        255.0      315.0   77983866   \n",
       "3  37.6735  55.7363      403   OUTDOOR        255.0      315.0   77983866   \n",
       "4  37.6665  55.7385      337   OUTDOOR        170.0      230.0  776115621   \n",
       "\n",
       "        tac  \n",
       "0       nan  \n",
       "1       nan  \n",
       "2  13002009  \n",
       "3       nan  \n",
       "4  13002009  "
      ]
     },
     "execution_count": 972,
     "metadata": {},
     "output_type": "execute_result"
    }
   ],
   "source": [
    "data_small.head()"
   ]
  },
  {
   "cell_type": "code",
   "execution_count": 999,
   "metadata": {},
   "outputs": [],
   "source": [
    "eq.columns = ['tac', 'vendor', 'platform', 'type']"
   ]
  },
  {
   "cell_type": "code",
   "execution_count": 1000,
   "metadata": {},
   "outputs": [],
   "source": [
    "eq['tac'] = eq['tac'].apply(lambda x: x[1:])"
   ]
  },
  {
   "cell_type": "code",
   "execution_count": 1001,
   "metadata": {},
   "outputs": [],
   "source": [
    "eq['vendor'] = eq['vendor'].apply(lambda x: x[1:-2])"
   ]
  },
  {
   "cell_type": "code",
   "execution_count": 1002,
   "metadata": {},
   "outputs": [],
   "source": [
    "eq['platform'] = eq['platform'].apply(lambda x: x[1:-2])"
   ]
  },
  {
   "cell_type": "code",
   "execution_count": 1003,
   "metadata": {},
   "outputs": [],
   "source": [
    "eq['type'] = eq['type'].apply(lambda x: x[1:-3])"
   ]
  },
  {
   "cell_type": "code",
   "execution_count": 1004,
   "metadata": {},
   "outputs": [
    {
     "data": {
      "text/html": [
       "<div>\n",
       "<style scoped>\n",
       "    .dataframe tbody tr th:only-of-type {\n",
       "        vertical-align: middle;\n",
       "    }\n",
       "\n",
       "    .dataframe tbody tr th {\n",
       "        vertical-align: top;\n",
       "    }\n",
       "\n",
       "    .dataframe thead th {\n",
       "        text-align: right;\n",
       "    }\n",
       "</style>\n",
       "<table border=\"1\" class=\"dataframe\">\n",
       "  <thead>\n",
       "    <tr style=\"text-align: right;\">\n",
       "      <th></th>\n",
       "      <th>tac</th>\n",
       "      <th>vendor</th>\n",
       "      <th>platform</th>\n",
       "      <th>type</th>\n",
       "    </tr>\n",
       "  </thead>\n",
       "  <tbody>\n",
       "    <tr>\n",
       "      <th>0</th>\n",
       "      <td>00100429</td>\n",
       "      <td>PROTO</td>\n",
       "      <td>Proprietary</td>\n",
       "      <td>Phone</td>\n",
       "    </tr>\n",
       "    <tr>\n",
       "      <th>1</th>\n",
       "      <td>00100430</td>\n",
       "      <td>PROTO</td>\n",
       "      <td>Proprietary</td>\n",
       "      <td>Phone</td>\n",
       "    </tr>\n",
       "    <tr>\n",
       "      <th>2</th>\n",
       "      <td>00100431</td>\n",
       "      <td>PROTO</td>\n",
       "      <td>Proprietary</td>\n",
       "      <td>Phone</td>\n",
       "    </tr>\n",
       "    <tr>\n",
       "      <th>3</th>\n",
       "      <td>00100432</td>\n",
       "      <td>PROTO</td>\n",
       "      <td>Proprietary</td>\n",
       "      <td>Phone</td>\n",
       "    </tr>\n",
       "    <tr>\n",
       "      <th>4</th>\n",
       "      <td>00100433</td>\n",
       "      <td>PROTO</td>\n",
       "      <td>Proprietary</td>\n",
       "      <td>Phone</td>\n",
       "    </tr>\n",
       "  </tbody>\n",
       "</table>\n",
       "</div>"
      ],
      "text/plain": [
       "        tac vendor     platform   type\n",
       "0  00100429  PROTO  Proprietary  Phone\n",
       "1  00100430  PROTO  Proprietary  Phone\n",
       "2  00100431  PROTO  Proprietary  Phone\n",
       "3  00100432  PROTO  Proprietary  Phone\n",
       "4  00100433  PROTO  Proprietary  Phone"
      ]
     },
     "execution_count": 1004,
     "metadata": {},
     "output_type": "execute_result"
    }
   ],
   "source": [
    "eq.head()"
   ]
  },
  {
   "cell_type": "code",
   "execution_count": null,
   "metadata": {},
   "outputs": [],
   "source": []
  },
  {
   "cell_type": "markdown",
   "metadata": {},
   "source": [
    "Let see if all our observations belong to the same country(city), by depicting the coordinates of unique groups of base stations"
   ]
  }
 ],
 "metadata": {
  "kernelspec": {
   "display_name": "Python 3",
   "language": "python",
   "name": "python3"
  },
  "language_info": {
   "codemirror_mode": {
    "name": "ipython",
    "version": 3
   },
   "file_extension": ".py",
   "mimetype": "text/x-python",
   "name": "python",
   "nbconvert_exporter": "python",
   "pygments_lexer": "ipython3",
   "version": "3.7.1"
  }
 },
 "nbformat": 4,
 "nbformat_minor": 2
}
