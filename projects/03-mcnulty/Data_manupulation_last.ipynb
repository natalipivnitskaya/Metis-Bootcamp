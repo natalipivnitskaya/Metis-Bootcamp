{
 "cells": [
  {
   "cell_type": "code",
   "execution_count": 2,
   "metadata": {},
   "outputs": [],
   "source": [
    "import numpy as np\n",
    "import pandas as pd\n",
    "%matplotlib inline\n",
    "import numpy as np\n",
    "import matplotlib.pyplot as plt\n",
    "#conda install Basemap\n",
    "#from mpl_toolkits.basemap import Basemap\n",
    "from itertools import combinations\n",
    "pd.set_option('display.max_columns', 20000)\n",
    "import datetime\n",
    "import matplotlib.pyplot as plt\n",
    "import seaborn as sns"
   ]
  },
  {
   "cell_type": "code",
   "execution_count": 9,
   "metadata": {},
   "outputs": [
    {
     "name": "stderr",
     "output_type": "stream",
     "text": [
      "/Users/natali/anaconda3/lib/python3.7/site-packages/ipykernel_launcher.py:1: ParserWarning: Falling back to the 'python' engine because the 'c' engine does not support regex separators (separators > 1 char and different from '\\s+' are interpreted as regex); you can avoid this warning by specifying engine='python'.\n",
      "  \"\"\"Entry point for launching an IPython kernel.\n"
     ]
    }
   ],
   "source": [
    "eq = pd.read_csv('data/03_equipment.csv', sep = ',\"')\n",
    "data = pd.read_csv('data/02_Data_test.csv', sep = ';')\n",
    "positive_labels = pd.read_csv('data/01_Facts.csv', sep = \";\", header = None)"
   ]
  },
  {
   "cell_type": "markdown",
   "metadata": {},
   "source": [
    "Check if we have all data point found in positive labels in train set.   \n",
    "We don't have any information about this number 158528852857, 158530004641 in the train data, however it is in positive labels."
   ]
  },
  {
   "cell_type": "code",
   "execution_count": 4,
   "metadata": {},
   "outputs": [],
   "source": [
    "to_delete = []\n",
    "for i, row in enumerate(positive_labels.values):\n",
    "    if len(data[data['msisdn'] == row[0]]) == 0:\n",
    "        to_delete.append(row[0])\n",
    "    if len(data[data['msisdn'] == row[1]]) == 0:\n",
    "        to_delete.append(row[1])"
   ]
  },
  {
   "cell_type": "code",
   "execution_count": 5,
   "metadata": {},
   "outputs": [],
   "source": [
    "positive_labels = positive_labels.drop(positive_labels[positive_labels[1].isin(to_delete)].index[0], axis = 0).reset_index(drop = True)\n",
    "positive_labels = positive_labels.drop(positive_labels[positive_labels[1].isin(to_delete)].index[0], axis = 0).reset_index(drop = True)"
   ]
  },
  {
   "cell_type": "markdown",
   "metadata": {},
   "source": [
    "Prettify ef file"
   ]
  },
  {
   "cell_type": "code",
   "execution_count": 10,
   "metadata": {},
   "outputs": [],
   "source": [
    "eq.columns = ['tac', 'vendor', 'platform', 'type']\n",
    "eq['tac'] = eq['tac'].apply(lambda x: x[1:])\n",
    "eq['vendor'] = eq['vendor'].apply(lambda x: x[1:-2])\n",
    "eq['platform'] = eq['platform'].apply(lambda x: x[1:-2])\n",
    "eq['type'] = eq['type'].apply(lambda x: x[1:-3])"
   ]
  },
  {
   "cell_type": "code",
   "execution_count": 11,
   "metadata": {},
   "outputs": [
    {
     "data": {
      "text/html": [
       "<div>\n",
       "<style scoped>\n",
       "    .dataframe tbody tr th:only-of-type {\n",
       "        vertical-align: middle;\n",
       "    }\n",
       "\n",
       "    .dataframe tbody tr th {\n",
       "        vertical-align: top;\n",
       "    }\n",
       "\n",
       "    .dataframe thead th {\n",
       "        text-align: right;\n",
       "    }\n",
       "</style>\n",
       "<table border=\"1\" class=\"dataframe\">\n",
       "  <thead>\n",
       "    <tr style=\"text-align: right;\">\n",
       "      <th></th>\n",
       "      <th>tac</th>\n",
       "      <th>vendor</th>\n",
       "      <th>platform</th>\n",
       "      <th>type</th>\n",
       "    </tr>\n",
       "  </thead>\n",
       "  <tbody>\n",
       "    <tr>\n",
       "      <th>0</th>\n",
       "      <td>00100429</td>\n",
       "      <td>PROTO</td>\n",
       "      <td>Proprietary</td>\n",
       "      <td>Phone</td>\n",
       "    </tr>\n",
       "    <tr>\n",
       "      <th>1</th>\n",
       "      <td>00100430</td>\n",
       "      <td>PROTO</td>\n",
       "      <td>Proprietary</td>\n",
       "      <td>Phone</td>\n",
       "    </tr>\n",
       "    <tr>\n",
       "      <th>2</th>\n",
       "      <td>00100431</td>\n",
       "      <td>PROTO</td>\n",
       "      <td>Proprietary</td>\n",
       "      <td>Phone</td>\n",
       "    </tr>\n",
       "    <tr>\n",
       "      <th>3</th>\n",
       "      <td>00100432</td>\n",
       "      <td>PROTO</td>\n",
       "      <td>Proprietary</td>\n",
       "      <td>Phone</td>\n",
       "    </tr>\n",
       "    <tr>\n",
       "      <th>4</th>\n",
       "      <td>00100433</td>\n",
       "      <td>PROTO</td>\n",
       "      <td>Proprietary</td>\n",
       "      <td>Phone</td>\n",
       "    </tr>\n",
       "  </tbody>\n",
       "</table>\n",
       "</div>"
      ],
      "text/plain": [
       "        tac vendor     platform   type\n",
       "0  00100429  PROTO  Proprietary  Phone\n",
       "1  00100430  PROTO  Proprietary  Phone\n",
       "2  00100431  PROTO  Proprietary  Phone\n",
       "3  00100432  PROTO  Proprietary  Phone\n",
       "4  00100433  PROTO  Proprietary  Phone"
      ]
     },
     "execution_count": 11,
     "metadata": {},
     "output_type": "execute_result"
    }
   ],
   "source": [
    "eq.head()"
   ]
  },
  {
   "cell_type": "code",
   "execution_count": 12,
   "metadata": {},
   "outputs": [
    {
     "data": {
      "text/html": [
       "<div>\n",
       "<style scoped>\n",
       "    .dataframe tbody tr th:only-of-type {\n",
       "        vertical-align: middle;\n",
       "    }\n",
       "\n",
       "    .dataframe tbody tr th {\n",
       "        vertical-align: top;\n",
       "    }\n",
       "\n",
       "    .dataframe thead th {\n",
       "        text-align: right;\n",
       "    }\n",
       "</style>\n",
       "<table border=\"1\" class=\"dataframe\">\n",
       "  <thead>\n",
       "    <tr style=\"text-align: right;\">\n",
       "      <th></th>\n",
       "      <th>lac</th>\n",
       "      <th>cid</th>\n",
       "      <th>msisdn</th>\n",
       "      <th>imei</th>\n",
       "      <th>event_type</th>\n",
       "      <th>tstamp</th>\n",
       "      <th>long</th>\n",
       "      <th>lat</th>\n",
       "      <th>max_dist</th>\n",
       "      <th>cell_type</th>\n",
       "      <th>start_angle</th>\n",
       "      <th>end_angle</th>\n",
       "    </tr>\n",
       "  </thead>\n",
       "  <tbody>\n",
       "    <tr>\n",
       "      <th>0</th>\n",
       "      <td>5029</td>\n",
       "      <td>40798</td>\n",
       "      <td>158529599791</td>\n",
       "      <td>3.531111e+14</td>\n",
       "      <td>0</td>\n",
       "      <td>1369252800974</td>\n",
       "      <td>37.9305</td>\n",
       "      <td>55.7815</td>\n",
       "      <td>2101</td>\n",
       "      <td>OUTDOOR</td>\n",
       "      <td>220.0</td>\n",
       "      <td>280.0</td>\n",
       "    </tr>\n",
       "    <tr>\n",
       "      <th>1</th>\n",
       "      <td>7782</td>\n",
       "      <td>56870</td>\n",
       "      <td>158520145943</td>\n",
       "      <td>1.292900e+13</td>\n",
       "      <td>5</td>\n",
       "      <td>1369252801396</td>\n",
       "      <td>37.4239</td>\n",
       "      <td>55.7426</td>\n",
       "      <td>2</td>\n",
       "      <td>OUTDOOR</td>\n",
       "      <td>45.0</td>\n",
       "      <td>105.0</td>\n",
       "    </tr>\n",
       "    <tr>\n",
       "      <th>2</th>\n",
       "      <td>7794</td>\n",
       "      <td>32226</td>\n",
       "      <td>158521798391</td>\n",
       "      <td>3.519940e+14</td>\n",
       "      <td>5</td>\n",
       "      <td>1369252802013</td>\n",
       "      <td>37.7034</td>\n",
       "      <td>55.5803</td>\n",
       "      <td>1125</td>\n",
       "      <td>OUTDOOR</td>\n",
       "      <td>0.0</td>\n",
       "      <td>60.0</td>\n",
       "    </tr>\n",
       "    <tr>\n",
       "      <th>3</th>\n",
       "      <td>7758</td>\n",
       "      <td>33528</td>\n",
       "      <td>158537830573</td>\n",
       "      <td>3.586270e+14</td>\n",
       "      <td>0</td>\n",
       "      <td>1369252802331</td>\n",
       "      <td>37.7895</td>\n",
       "      <td>55.7042</td>\n",
       "      <td>1158</td>\n",
       "      <td>OUTDOOR</td>\n",
       "      <td>210.0</td>\n",
       "      <td>270.0</td>\n",
       "    </tr>\n",
       "    <tr>\n",
       "      <th>4</th>\n",
       "      <td>5060</td>\n",
       "      <td>17568</td>\n",
       "      <td>158510204039</td>\n",
       "      <td>3.524581e+14</td>\n",
       "      <td>8</td>\n",
       "      <td>1369252803586</td>\n",
       "      <td>37.1900</td>\n",
       "      <td>55.8308</td>\n",
       "      <td>500</td>\n",
       "      <td>OUTDOOR</td>\n",
       "      <td>180.0</td>\n",
       "      <td>240.0</td>\n",
       "    </tr>\n",
       "  </tbody>\n",
       "</table>\n",
       "</div>"
      ],
      "text/plain": [
       "    lac    cid        msisdn          imei  event_type         tstamp  \\\n",
       "0  5029  40798  158529599791  3.531111e+14           0  1369252800974   \n",
       "1  7782  56870  158520145943  1.292900e+13           5  1369252801396   \n",
       "2  7794  32226  158521798391  3.519940e+14           5  1369252802013   \n",
       "3  7758  33528  158537830573  3.586270e+14           0  1369252802331   \n",
       "4  5060  17568  158510204039  3.524581e+14           8  1369252803586   \n",
       "\n",
       "      long      lat  max_dist cell_type  start_angle  end_angle  \n",
       "0  37.9305  55.7815      2101   OUTDOOR        220.0      280.0  \n",
       "1  37.4239  55.7426         2   OUTDOOR         45.0      105.0  \n",
       "2  37.7034  55.5803      1125   OUTDOOR          0.0       60.0  \n",
       "3  37.7895  55.7042      1158   OUTDOOR        210.0      270.0  \n",
       "4  37.1900  55.8308       500   OUTDOOR        180.0      240.0  "
      ]
     },
     "execution_count": 12,
     "metadata": {},
     "output_type": "execute_result"
    }
   ],
   "source": [
    "data.head()"
   ]
  },
  {
   "cell_type": "code",
   "execution_count": 14,
   "metadata": {},
   "outputs": [
    {
     "name": "stdout",
     "output_type": "stream",
     "text": [
      "How many observations in our data set? -  174123\n",
      "How many unique numbers (msisdn) in our data set? - 2361\n"
     ]
    }
   ],
   "source": [
    "print(\"How many observations in our data set? -  {}\".format(len(data)))\n",
    "print(\"How many unique numbers (msisdn) in our data set? - {}\".format(data['msisdn'].nunique()))"
   ]
  },
  {
   "cell_type": "markdown",
   "metadata": {},
   "source": [
    "It's computationally expensive to make all possible pair on current train data. Let's try to make data set smaller (include onluy data points which in positive_labels file) and see what result we can get from smaller data set."
   ]
  },
  {
   "cell_type": "code",
   "execution_count": 16,
   "metadata": {},
   "outputs": [],
   "source": [
    "list_of_positive_labels = []\n",
    "for j in range(2):\n",
    "    for i in range(len(positive_labels)):\n",
    "        list_of_positive_labels.append(positive_labels.loc[i, j])"
   ]
  },
  {
   "cell_type": "code",
   "execution_count": 17,
   "metadata": {},
   "outputs": [],
   "source": [
    "data_small = pd.DataFrame(columns = data.columns)\n",
    "for i in list(data['msisdn'].unique()):\n",
    "    if i in list_of_positive_labels:\n",
    "        data_small = data_small.append(data[data['msisdn'] == i])\n",
    "data_small = data_small.reset_index(drop = True)"
   ]
  },
  {
   "cell_type": "markdown",
   "metadata": {},
   "source": [
    "\"Msisdn\" column is how many milliseconds passed from 1970-01-01. The next function convert this column in ordinary date-time format"
   ]
  },
  {
   "cell_type": "code",
   "execution_count": 20,
   "metadata": {},
   "outputs": [],
   "source": [
    "data_small['tstamp'] = data_small['tstamp'].apply(lambda x: datetime.datetime(1970, 1, 1, 0, 0) + datetime.timedelta(milliseconds = x))"
   ]
  },
  {
   "cell_type": "code",
   "execution_count": 21,
   "metadata": {},
   "outputs": [],
   "source": [
    "data_small.tstamp = data_small.tstamp.apply(lambda x: x.replace(second=0, microsecond=0))"
   ]
  },
  {
   "cell_type": "markdown",
   "metadata": {},
   "source": [
    "Check if a person with two sim-card can have only one phone number (imei)"
   ]
  },
  {
   "cell_type": "code",
   "execution_count": null,
   "metadata": {},
   "outputs": [],
   "source": [
    "count = 0\n",
    "for i, row in enumerate(positive_labels.values):\n",
    "    imei_1 = data_small[data_small['msisdn'] == positive_labels.loc[i,:][0]]['msisdn'].iloc[0]\n",
    "    imei_2 = data_small[data_small['msisdn'] == positive_labels.loc[i,:][1]]['msisdn'].iloc[0]\n",
    "    if imei_1 == imei_2:\n",
    "        count += 1\n",
    "        \n",
    "if count = 0:\n",
    "    print('False')"
   ]
  },
  {
   "cell_type": "markdown",
   "metadata": {},
   "source": [
    "Since cid - identificator of base station unique in terms of lac the folowing cell creates columns 'lac_cid' as a combination of cid and lac and this gives as unique location for each station"
   ]
  },
  {
   "cell_type": "code",
   "execution_count": 25,
   "metadata": {},
   "outputs": [],
   "source": [
    "data_small['lac_cid'] = data_small['lac'].astype(str)  + data_small['cid'].astype(str)"
   ]
  },
  {
   "cell_type": "markdown",
   "metadata": {},
   "source": [
    "Grouping by msisdn. The first column of result dataframe msisdn itself, the second column - list of all locations where this number was registered"
   ]
  },
  {
   "cell_type": "code",
   "execution_count": 26,
   "metadata": {},
   "outputs": [],
   "source": [
    "group = data_small.groupby(['msisdn'], as_index=False).agg({'lac_cid':(lambda x: list(x))}).rename(columns={'msisdn':'number', 'lac_cid':'set_'})"
   ]
  },
  {
   "cell_type": "markdown",
   "metadata": {},
   "source": [
    "Creating all posible combinations of msisdn"
   ]
  },
  {
   "cell_type": "code",
   "execution_count": 27,
   "metadata": {},
   "outputs": [],
   "source": [
    "df = pd.DataFrame(columns = ['number_1', 'set_1', 'number_2', 'set_2'])\n",
    "\n",
    "for index in list(combinations(group.index, 2)):\n",
    "    \n",
    "    df0 = pd.DataFrame(group.loc[index[0]]).T.reset_index(drop=True)\n",
    "    df1 = pd.DataFrame(group.loc[index[1]]).T.reset_index(drop=True)\n",
    "    df_temp = pd.concat([df0, df1], axis = 1)\n",
    "    df_temp.columns = ['number_1', 'set_1', 'number_2', 'set_2']\n",
    "    df = df.append(df_temp)\n",
    "df = df.set_index(pd.Index(range(len(df))))"
   ]
  },
  {
   "cell_type": "markdown",
   "metadata": {},
   "source": [
    "The first assumption is that if user holds 2 numbers the locations rigistered by base station of exactly these numbers mainly intersect"
   ]
  },
  {
   "cell_type": "code",
   "execution_count": 35,
   "metadata": {},
   "outputs": [],
   "source": [
    "def intersect_loc(x):\n",
    "    list1 = x['set_1']\n",
    "    list2 = x['set_2']\n",
    "    \n",
    "    min_len = min(len(list1), len(list2))\n",
    "    res = []\n",
    "    list_1 = list1.copy()\n",
    "    for i in list_1:\n",
    "        if i in list2:\n",
    "            res.append(i)\n",
    "            list1.remove(i)\n",
    "            list2.remove(i)       \n",
    "    return len(res)/(min_len+1)"
   ]
  },
  {
   "cell_type": "code",
   "execution_count": 36,
   "metadata": {},
   "outputs": [],
   "source": [
    "df['intersect_loc'] = df.apply(intersect_loc, axis =1)"
   ]
  },
  {
   "cell_type": "markdown",
   "metadata": {},
   "source": [
    "The following finction returns the dictionary of possible numbers which belong to the same person. It chooses candidates by selecting maximum intersection between them"
   ]
  },
  {
   "cell_type": "code",
   "execution_count": 43,
   "metadata": {},
   "outputs": [],
   "source": [
    "def intersectin_time_loc(x):\n",
    "    \n",
    "    margin = datetime.timedelta(days=2)\n",
    "    index_1 = x['number_1']\n",
    "    index_2 = x['number_2']\n",
    "    \n",
    "    counter = 0\n",
    "    set_1 = data_small[data_small['msisdn'] == index_1]\n",
    "    set_2 = data_small[data_small['msisdn'] == index_2]\n",
    "    time1, time2 = [], []\n",
    "    for i in set_1['tstamp']:\n",
    "        for j in set_2['tstamp']:\n",
    "            if i - margin <= j <= i + margin:\n",
    "                if set_1[set_1['tstamp'] == i]['lac'].iloc[0] == set_2[set_2['tstamp'] == j]['lac'].iloc[0]:\n",
    "                    time1.append(i)\n",
    "                    time2.append(j)\n",
    "                    counter += 1\n",
    "    return counter"
   ]
  },
  {
   "cell_type": "code",
   "execution_count": 52,
   "metadata": {},
   "outputs": [],
   "source": [
    "df['intersectin_time_loc'] = df.apply(intersectin_time_loc, axis = 1)"
   ]
  },
  {
   "cell_type": "code",
   "execution_count": null,
   "metadata": {},
   "outputs": [],
   "source": [
    "df_for_algo = df[['number_1', 'number_2', 'inter', 'intersectin_time_loc']]"
   ]
  },
  {
   "cell_type": "code",
   "execution_count": null,
   "metadata": {},
   "outputs": [],
   "source": [
    "new_target = []\n",
    "\n",
    "for entry in df_for_algo.values:\n",
    "    for pair in positive_labels.values:\n",
    "        add=0\n",
    "        if entry[0] in pair and entry[1] in pair:\n",
    "            new_target.append(1)\n",
    "            add=1\n",
    "            break\n",
    "    if add==0:\n",
    "        new_target.append(0)\n",
    "\n",
    "df_for_algo['target'] = new_target"
   ]
  },
  {
   "cell_type": "code",
   "execution_count": null,
   "metadata": {},
   "outputs": [],
   "source": [
    "ax = sns.scatterplot(x=\"inter\", y=\"intersectin_time_loc\", hue=\"target\", data=df_for_algo)"
   ]
  },
  {
   "cell_type": "code",
   "execution_count": null,
   "metadata": {},
   "outputs": [],
   "source": [
    "df_for_algo.to_csv('df_for_algo.csv')"
   ]
  },
  {
   "cell_type": "code",
   "execution_count": null,
   "metadata": {},
   "outputs": [],
   "source": [
    "data_small['tac'] = data_small['imei'].apply(lambda x: str(x)[0:8])"
   ]
  }
 ],
 "metadata": {
  "kernelspec": {
   "display_name": "Python 3",
   "language": "python",
   "name": "python3"
  },
  "language_info": {
   "codemirror_mode": {
    "name": "ipython",
    "version": 3
   },
   "file_extension": ".py",
   "mimetype": "text/x-python",
   "name": "python",
   "nbconvert_exporter": "python",
   "pygments_lexer": "ipython3",
   "version": "3.7.1"
  }
 },
 "nbformat": 4,
 "nbformat_minor": 2
}
