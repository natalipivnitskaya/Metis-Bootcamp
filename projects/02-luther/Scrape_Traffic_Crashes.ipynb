{
 "cells": [
  {
   "cell_type": "code",
   "execution_count": 1,
   "metadata": {},
   "outputs": [],
   "source": [
    "import pandas as pd\n",
    "from bs4 import BeautifulSoup as bs4\n",
    "from selenium import webdriver\n",
    "from selenium.webdriver.common.keys import Keys\n",
    "import time\n",
    "from bs4 import BeautifulSoup\n",
    "\n",
    "import os\n",
    "chromedriver = \"/Applications/chromedriver\" # path to the chromedriver executable\n",
    "os.environ[\"webdriver.chrome.driver\"] = chromedriver\n",
    "\n",
    "driver = webdriver.Chrome(chromedriver)"
   ]
  },
  {
   "cell_type": "code",
   "execution_count": 2,
   "metadata": {},
   "outputs": [],
   "source": [
    "import pandas as pd\n",
    "from datetime import datetime"
   ]
  },
  {
   "cell_type": "code",
   "execution_count": 3,
   "metadata": {},
   "outputs": [],
   "source": [
    "url = \"https://data.cityofchicago.org/Transportation/Traffic-Crashes-Crashes/85ca-t3if\"\n",
    "driver.get(url)\n",
    "soup = BeautifulSoup(driver.page_source, 'html.parser')\n",
    "table = soup.find(class_ = 'socrata-visualization')\n",
    "element = driver.find_element_by_class_name('pager-button-next')\n",
    "element.click()"
   ]
  },
  {
   "cell_type": "code",
   "execution_count": 8,
   "metadata": {},
   "outputs": [],
   "source": [
    "data = pd.DataFrame([[td.text.strip() for td in row.findAll('td')] for row in table.tbody.findAll('tr')], \\\n",
    "                       columns= [x.text.strip() for x in table.find_all(class_ = 'column-header-content-column-name')])\n",
    "click = 0\n",
    "for i in range(1):\n",
    "    element = driver.find_element_by_class_name('pager-button-next')\n",
    "    element.click()\n",
    "    click += 1\n",
    "    \n",
    "    #driver.get(url)\n",
    "    soup = BeautifulSoup(driver.page_source, 'html.parser')\n",
    "    table = soup.find(class_ = 'socrata-visualization')\n",
    "    \n",
    "    time.sleep(2)\n",
    "    \n",
    "    data = data.append(pd.DataFrame([[td.text.strip() for td in row.findAll('td')] for row in table.tbody.findAll('tr')],\\\n",
    "                                    columns= [x.text.strip() for x in table.find_all(class_ = 'column-header-content-column-name')])).reset_index(drop = True)\n",
    "    #to make sure that data is saved if process crashes\n",
    "    data.to_csv('data/car_crashes_.csv')"
   ]
  },
  {
   "cell_type": "code",
   "execution_count": 9,
   "metadata": {},
   "outputs": [],
   "source": [
    "data = pd.read_csv('data/car_crashes_.csv')"
   ]
  }
 ],
 "metadata": {
  "kernelspec": {
   "display_name": "Python 3",
   "language": "python",
   "name": "python3"
  },
  "language_info": {
   "codemirror_mode": {
    "name": "ipython",
    "version": 3
   },
   "file_extension": ".py",
   "mimetype": "text/x-python",
   "name": "python",
   "nbconvert_exporter": "python",
   "pygments_lexer": "ipython3",
   "version": "3.7.1"
  }
 },
 "nbformat": 4,
 "nbformat_minor": 2
}
