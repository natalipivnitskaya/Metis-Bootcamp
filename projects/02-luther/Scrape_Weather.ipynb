{
 "cells": [
  {
   "cell_type": "code",
   "execution_count": 1,
   "metadata": {},
   "outputs": [],
   "source": [
    "from datetime import datetime, timedelta\n",
    "from urllib.request import urlopen\n",
    "from selenium import webdriver\n",
    "from selenium.webdriver.common.keys import Keys\n",
    "from selenium.webdriver.support.ui import WebDriverWait\n",
    "from selenium.webdriver.support import expected_conditions as EC\n",
    "from selenium.webdriver.common.by import By\n",
    "from selenium.common.exceptions import TimeoutException\n",
    "import time\n",
    "import pandas as pd\n",
    "from bs4 import BeautifulSoup\n",
    "\n",
    "import os\n",
    "chromedriver = \"/Applications/chromedriver\" # path to the chromedriver executable\n",
    "os.environ[\"webdriver.chrome.driver\"] = chromedriver"
   ]
  },
  {
   "cell_type": "code",
   "execution_count": 2,
   "metadata": {},
   "outputs": [],
   "source": [
    "driver = webdriver.Chrome(chromedriver)"
   ]
  },
  {
   "cell_type": "code",
   "execution_count": 3,
   "metadata": {},
   "outputs": [],
   "source": [
    "def scrape_weather(begin_date, end_date):\n",
    "    current_date = datetime.strptime(begin_date, '%Y-%m-%d')\n",
    "    end_date = datetime.strptime(end_date, '%Y-%m-%d')+timedelta(days=1) #add one to make loop end on the end date\n",
    "    \n",
    "    lookup_URL = 'https://www.wunderground.com/history/daily/us/il/chicago/KMDW/date/{}-{}-{}'\n",
    "    \n",
    "    result = None  #do I need to make result out of main function?\n",
    "    \n",
    "    name_of_csv = '{}.csv'.format(begin_date)\n",
    "    \n",
    "    while current_date != end_date:\n",
    "        formatted_lookup_URL = lookup_URL.format(current_date.year, current_date.month, current_date.day)\n",
    "        #print(formatted_lookup_URL)\n",
    "        \n",
    "        driver.get(formatted_lookup_URL)\n",
    "        try:\n",
    "            WebDriverWait(driver, 5).until(EC.presence_of_element_located((By.ID, 'history-observation-table')))\n",
    "        except TimeoutException:\n",
    "            print(\"Loading took too much time! Trying one more time:\")\n",
    "            continue\n",
    "\n",
    "        soup = BeautifulSoup(driver.page_source, 'html.parser')\n",
    "        table = soup.find('table', {'id': 'history-observation-table'})\n",
    "        \n",
    "        df = pd.DataFrame([[td.text.strip() for td in row.findAll('td')] for row in table.tbody.findAll('tr')])\n",
    "        df['Date'] = current_date\n",
    "        \n",
    "        if result is None:\n",
    "            result = df\n",
    "        else:\n",
    "            result = result.append(df).reset_index(drop = True)\n",
    "        \n",
    "        result.to_csv(name_of_csv)\n",
    "        current_date += timedelta(days=1)\n",
    "    \n",
    "    return result "
   ]
  },
  {
   "cell_type": "code",
   "execution_count": 4,
   "metadata": {},
   "outputs": [],
   "source": [
    "begin_date = '2018-05-08'\n",
    "end_date = '2019-01-22'"
   ]
  },
  {
   "cell_type": "code",
   "execution_count": null,
   "metadata": {},
   "outputs": [],
   "source": [
    "data_weather = scrape_weather(begin_date, end_date)"
   ]
  },
  {
   "cell_type": "code",
   "execution_count": null,
   "metadata": {},
   "outputs": [],
   "source": []
  }
 ],
 "metadata": {
  "kernelspec": {
   "display_name": "Python 3",
   "language": "python",
   "name": "python3"
  },
  "language_info": {
   "codemirror_mode": {
    "name": "ipython",
    "version": 3
   },
   "file_extension": ".py",
   "mimetype": "text/x-python",
   "name": "python",
   "nbconvert_exporter": "python",
   "pygments_lexer": "ipython3",
   "version": "3.6.8"
  }
 },
 "nbformat": 4,
 "nbformat_minor": 2
}
