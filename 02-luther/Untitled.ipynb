{
 "cells": [
  {
   "cell_type": "code",
   "execution_count": null,
   "metadata": {},
   "outputs": [],
   "source": [
    "import pandas as pd\n",
    "from bs4 import BeautifulSoup as bs4\n",
    "from selenium import webdriver\n",
    "from selenium.webdriver.common.keys import Keys\n",
    "import time\n",
    "from bs4 import BeautifulSoup\n",
    "\n",
    "import os\n",
    "chromedriver = \"/Applications/chromedriver\" # path to the chromedriver executable\n",
    "os.environ[\"webdriver.chrome.driver\"] = chromedriver\n",
    "\n",
    "driver = webdriver.Chrome(chromedriver)"
   ]
  },
  {
   "cell_type": "code",
   "execution_count": null,
   "metadata": {},
   "outputs": [],
   "source": [
    "import pandas as pd\n",
    "from datetime import datetime"
   ]
  },
  {
   "cell_type": "code",
   "execution_count": null,
   "metadata": {},
   "outputs": [],
   "source": [
    "url = \"https://data.cityofchicago.org/Transportation/Traffic-Crashes-Crashes/85ca-t3if\"\n",
    "driver.get(url)\n",
    "soup = BeautifulSoup(driver.page_source, 'html.parser')\n",
    "table = soup.find(class_ = 'socrata-visualization')\n",
    "element = driver.find_element_by_class_name('pager-button-next')\n",
    "element.click()"
   ]
  },
  {
   "cell_type": "code",
   "execution_count": null,
   "metadata": {},
   "outputs": [],
   "source": [
    "data = pd.DataFrame([[td.text.strip() for td in row.findAll('td')] for row in table.tbody.findAll('tr')], \\\n",
    "                       columns= [x.text.strip() for x in table.find_all(class_ = 'column-header-content-column-name')])\n",
    "click = 0\n",
    "for i in range(10000):\n",
    "    element = driver.find_element_by_class_name('pager-button-next')\n",
    "    element.click()\n",
    "    click += 1\n",
    "    \n",
    "    #driver.get(url)\n",
    "    soup = BeautifulSoup(driver.page_source, 'html.parser')\n",
    "    table = soup.find(class_ = 'socrata-visualization')\n",
    "    \n",
    "    time.sleep(2)\n",
    "    \n",
    "    data = data.append(pd.DataFrame([[td.text.strip() for td in row.findAll('td')] for row in table.tbody.findAll('tr')],\\\n",
    "                                    columns= [x.text.strip() for x in table.find_all(class_ = 'column-header-content-column-name')])).reset_index(drop = True)\n",
    "    #to make sure that data is saved if process crashes\n",
    "    data.to_csv('car_crashes.csv')"
   ]
  },
  {
   "cell_type": "code",
   "execution_count": null,
   "metadata": {},
   "outputs": [],
   "source": [
    "data = pd.read_csv('car_crashes.csv')"
   ]
  },
  {
   "cell_type": "code",
   "execution_count": null,
   "metadata": {},
   "outputs": [],
   "source": [
    "from datetime import datetime, timedelta\n",
    "from urllib.request import urlopen"
   ]
  },
  {
   "cell_type": "code",
   "execution_count": null,
   "metadata": {},
   "outputs": [],
   "source": [
    "driver = webdriver.Chrome(chromedriver)"
   ]
  },
  {
   "cell_type": "code",
   "execution_count": null,
   "metadata": {},
   "outputs": [],
   "source": [
    "def scrape_weather(begin_date, end_date):\n",
    "    current_date = datetime.strptime(begin_date, '%Y-%m-%d')\n",
    "    end_date = datetime.strptime(end_date, '%Y-%m-%d')+timedelta(days=1) #add one to make loop end on the end date\n",
    "    \n",
    "    lookup_URL = 'https://www.wunderground.com/history/daily/us/il/chicago/KMDW/date/{}-{}-{}'\n",
    "    \n",
    "    \n",
    "    result = None\n",
    "    \n",
    "    name_of_csv = '{}new.csv'.format(begin_date)\n",
    "    \n",
    "    while current_date != end_date:\n",
    "        formatted_lookup_URL = lookup_URL.format(current_date.year, current_date.month, current_date.day)\n",
    "        #print(formatted_lookup_URL)\n",
    "        \n",
    "        driver.get(formatted_lookup_URL)\n",
    "        try:\n",
    "            WebDriverWait(driver, 5).until(EC.presence_of_element_located((By.ID, 'history-observation-table')))\n",
    "        except TimeoutException:\n",
    "            print(\"Loading took too much time! Trying one more time:\")\n",
    "            continue\n",
    "\n",
    "        soup = BeautifulSoup(driver.page_source, 'html.parser')\n",
    "        table = soup.find('table', {'id': 'history-observation-table'})\n",
    "        \n",
    "        df = pd.DataFrame([[td.text.strip() for td in row.findAll('td')] for row in table.tbody.findAll('tr')])\n",
    "        df['Date'] = current_date\n",
    "        \n",
    "        if result is None:\n",
    "            result = df\n",
    "        else:\n",
    "            result = result.append(df).reset_index(drop = True)\n",
    "        \n",
    "        result.to_csv(name_of_csv)\n",
    "        current_date += timedelta(days=1)\n",
    "    \n",
    "    return result "
   ]
  }
 ],
 "metadata": {
  "kernelspec": {
   "display_name": "Python 3",
   "language": "python",
   "name": "python3"
  },
  "language_info": {
   "codemirror_mode": {
    "name": "ipython",
    "version": 3
   },
   "file_extension": ".py",
   "mimetype": "text/x-python",
   "name": "python",
   "nbconvert_exporter": "python",
   "pygments_lexer": "ipython3",
   "version": "3.7.1"
  }
 },
 "nbformat": 4,
 "nbformat_minor": 2
}
